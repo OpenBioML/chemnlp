{
 "cells": [
  {
   "cell_type": "code",
   "execution_count": null,
   "metadata": {},
   "outputs": [],
   "source": [
    "from transformers import AutoTokenizer, GPTNeoXForCausalLM\n",
    "import os\n",
    "import json"
   ]
  },
  {
   "cell_type": "code",
   "execution_count": null,
   "metadata": {},
   "outputs": [],
   "source": [
    "def load_json(name: str):\n",
    "    with open(name, 'r') as f:\n",
    "        return json.load(f)"
   ]
  },
  {
   "cell_type": "code",
   "execution_count": null,
   "metadata": {},
   "outputs": [],
   "source": [
    "ROOT_300M_MODELS = '/fsx/proj-chemnlp/experiments/checkpoints/finetuned/300M-tokenised-gridsearch-v1'"
   ]
  },
  {
   "cell_type": "code",
   "execution_count": null,
   "metadata": {},
   "outputs": [],
   "source": [
    "models = {}\n",
    "NAME = '1B_fine_tune_1' # xyz model\n",
    "COLLECT_ALL = True # can be expensive (30 seconds per 1B param model)\n",
    "\n",
    "if COLLECT_ALL:\n",
    "    # traverse the directory for all models\n",
    "    for name in os.listdir(ROOT_300M_MODELS):\n",
    "        model_path = f\"{ROOT_300M_MODELS}/{name}\"\n",
    "        if not name.endswith('.json') and 'checkpoint-final' in os.listdir(model_path):\n",
    "            models[name] = {\n",
    "                'model': GPTNeoXForCausalLM.from_pretrained(pretrained_model_name_or_path=f\"{model_path}/checkpoint-final\"),\n",
    "                'configs': load_json(f\"{model_path}_global_0_local_0_rank_overrides.json\")\n",
    "            }\n",
    "else:\n",
    "    model_path = f\"{ROOT_300M_MODELS}/{NAME}\"\n",
    "    models[NAME] = {\n",
    "        'model': GPTNeoXForCausalLM.from_pretrained(pretrained_model_name_or_path=f\"{model_path}/checkpoint-final\"),\n",
    "        'configs': load_json(f\"{model_path}_global_0_local_0_rank_overrides.json\")\n",
    "    }"
   ]
  },
  {
   "cell_type": "code",
   "execution_count": null,
   "metadata": {},
   "outputs": [],
   "source": [
    "tokeniser = AutoTokenizer.from_pretrained(\"EleutherAI/pythia-1b\")\n",
    "tokeniser.add_special_tokens({\"pad_token\": \"<|padding|>\"})"
   ]
  },
  {
   "cell_type": "code",
   "execution_count": null,
   "metadata": {},
   "outputs": [],
   "source": [
    "TEST_CASES = [\n",
    "    'I enjoy walking with my cute dog',\n",
    "    'The heaviest element in the periodic table is',\n",
    "    'C 6.39 2.84 -1.46 O 6.12 1.57 -0.86 P 5.14 1.10 0.31',\n",
    "    'The element carbon is denoted with the following symbol',\n",
    "]\n",
    "OUTPUT_LEN = 20"
   ]
  },
  {
   "cell_type": "code",
   "execution_count": null,
   "metadata": {},
   "outputs": [],
   "source": [
    "for i, test_case in enumerate(TEST_CASES): \n",
    "    print(f'TEST CASE {i+1} -> {test_case}')\n",
    "    input_ids = tokeniser.encode(test_case, return_tensors='pt')\n",
    "\n",
    "    for model_configs in models.values():\n",
    "        greedy_output = model_configs['model'].generate(\n",
    "            input_ids, \n",
    "            max_length=input_ids.shape[-1]+OUTPUT_LEN, \n",
    "            pad_token_id=tokeniser.eos_token_id\n",
    "        )\n",
    "\n",
    "        checkpoint_dir = list(model_configs['configs'].keys())[0]\n",
    "        dataset_name = model_configs['configs'][checkpoint_dir]['data']['path'].split('/')[-1]\n",
    "\n",
    "        print(f\"\\nOutput for model trained on 300M {dataset_name}\\n\" + 100 * '-')\n",
    "        print(tokeniser.decode(greedy_output[0], skip_special_tokens=True))\n",
    "        print( )\n",
    "    print( )"
   ]
  }
 ],
 "metadata": {
  "kernelspec": {
   "display_name": "Python 3",
   "language": "python",
   "name": "python3"
  },
  "language_info": {
   "codemirror_mode": {
    "name": "ipython",
    "version": 3
   },
   "file_extension": ".py",
   "mimetype": "text/x-python",
   "name": "python",
   "nbconvert_exporter": "python",
   "pygments_lexer": "ipython3",
   "version": "3.8.16"
  },
  "orig_nbformat": 4
 },
 "nbformat": 4,
 "nbformat_minor": 2
}
