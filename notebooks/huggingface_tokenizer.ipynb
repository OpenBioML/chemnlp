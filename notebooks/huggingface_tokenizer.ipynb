{
 "cells": [
  {
   "cell_type": "code",
   "execution_count": null,
   "id": "7d4ff501-0ba7-41b6-8126-b29155ca7b54",
   "metadata": {},
   "outputs": [],
   "source": [
    "!pip install tokenizers"
   ]
  },
  {
   "cell_type": "code",
   "execution_count": 1,
   "id": "daffceb5-7bf6-40ce-b1e8-d6ef7a5ebce5",
   "metadata": {
    "tags": []
   },
   "outputs": [],
   "source": [
    "from tokenizers import Tokenizer"
   ]
  },
  {
   "cell_type": "code",
   "execution_count": 3,
   "id": "c688695b-e219-4588-a134-d63f3f6f5435",
   "metadata": {
    "tags": []
   },
   "outputs": [],
   "source": [
    "tokenizer = Tokenizer.from_pretrained(\"EleutherAI/pythia-12b\")"
   ]
  },
  {
   "cell_type": "code",
   "execution_count": 25,
   "id": "41560898-c9f4-402f-8726-583a3216f9f4",
   "metadata": {
    "tags": []
   },
   "outputs": [],
   "source": [
    "examples = [\n",
    "    \"This is a carbohydrate with sum formula C6H12O6 and a molecular weight of 180.16 g mol^-1\",\n",
    "    \"The studied metal complex has a composition of [Ru(py)(bpy)(terpy)](PF6)2 and is soluble in CD3CN\",\n",
    "    \"Nitrobenzene with a sum formula of C6H5NO2 has an InCHI-IDENtifier InChI=1S/C6H5NO2/c8-7(9)6-4-2-1-3-5-6/h1-5H/i1+1,2+1,3+1,4+1,5+1,6+1\",\n",
    "    \"Ibuprofen with a formula of (H3C)2CCH2-C6H4-CH(CH3)COOH has a SMILES string      CC(C)Cc1cCc(cc1)C(C)C(O)=O\",\n",
    "]"
   ]
  },
  {
   "cell_type": "code",
   "execution_count": 26,
   "id": "1b8af9b0-1a17-499d-95af-57cf10a15731",
   "metadata": {
    "tags": []
   },
   "outputs": [],
   "source": [
    "outputs = tokenizer.encode_batch(examples)"
   ]
  },
  {
   "cell_type": "code",
   "execution_count": 29,
   "id": "f75b39db-fb58-4996-9fbc-bd321b313447",
   "metadata": {
    "tags": []
   },
   "outputs": [
    {
     "name": "stdout",
     "output_type": "stream",
     "text": [
      "['This', 'Ġis', 'Ġa', 'Ġcarbohydrate', 'Ġwith', 'Ġsum', 'Ġformula', 'ĠC', '6', 'H', '12', 'O', '6', 'Ġand', 'Ġa', 'Ġmolecular', 'Ġweight', 'Ġof', 'Ġ180', '.', '16', 'Ġg', 'Ġmol', '^-', '1']\n",
      "['The', 'Ġstudied', 'Ġmetal', 'Ġcomplex', 'Ġhas', 'Ġa', 'Ġcomposition', 'Ġof', 'Ġ[', 'Ru', '(', 'py', ')(', 'b', 'py', ')(', 'ter', 'py', ')](', 'PF', '6', ')', '2', 'Ġand', 'Ġis', 'Ġsoluble', 'Ġin', 'ĠCD', '3', 'CN']\n",
      "['N', 'itro', 'benz', 'ene', 'Ġwith', 'Ġa', 'Ġsum', 'Ġformula', 'Ġof', 'ĠC', '6', 'H', '5', 'NO', '2', 'Ġhas', 'Ġan', 'ĠIn', 'CH', 'I', '-', 'ID', 'EN', 't', 'ifier', 'ĠIn', 'Ch', 'I', '=', '1', 'S', '/', 'C', '6', 'H', '5', 'NO', '2', '/', 'c', '8', '-', '7', '(', '9', ')', '6', '-', '4', '-', '2', '-', '1', '-', '3', '-', '5', '-', '6', '/', 'h', '1', '-', '5', 'H', '/', 'i', '1', '+', '1', ',', '2', '+', '1', ',', '3', '+', '1', ',', '4', '+', '1', ',', '5', '+', '1', ',', '6', '+', '1']\n",
      "['I', 'b', 'up', 'ro', 'fen', 'Ġwith', 'Ġa', 'Ġformula', 'Ġof', 'Ġ(', 'H', '3', 'C', ')', '2', 'CC', 'H', '2', '-', 'C', '6', 'H', '4', '-', 'CH', '(', 'CH', '3', ')', 'C', 'OO', 'H', 'Ġhas', 'Ġa', 'ĠSM', 'IL', 'ES', 'Ġstring', '      ', 'CC', '(', 'C', ')', 'C', 'c', '1', 'c', 'C', 'c', '(', 'cc', '1', ')', 'C', '(', 'C', ')', 'C', '(', 'O', ')=', 'O']\n"
     ]
    }
   ],
   "source": [
    "for output in outputs:\n",
    "    print(output.tokens)"
   ]
  },
  {
   "cell_type": "code",
   "execution_count": 30,
   "id": "bebd084e-1ad1-4c1f-a4ad-ea6cfa3b48d6",
   "metadata": {
    "tags": []
   },
   "outputs": [
    {
     "name": "stdout",
     "output_type": "stream",
     "text": [
      "This is a carbohydrate with sum formula C6H12O6 and a molecular weight of 180.16 g mol^-1\n",
      "['This', 'Ġis', 'Ġa', 'Ġcarbohydrate', 'Ġwith', 'Ġsum', 'Ġformula', 'ĠC', '6', 'H', '12', 'O', '6', 'Ġand', 'Ġa', 'Ġmolecular', 'Ġweight', 'Ġof', 'Ġ180', '.', '16', 'Ġg', 'Ġmol', '^-', '1']\n",
      "\n",
      "The studied metal complex has a composition of [Ru(py)(bpy)(terpy)](PF6)2 and is soluble in CD3CN\n",
      "['The', 'Ġstudied', 'Ġmetal', 'Ġcomplex', 'Ġhas', 'Ġa', 'Ġcomposition', 'Ġof', 'Ġ[', 'Ru', '(', 'py', ')(', 'b', 'py', ')(', 'ter', 'py', ')](', 'PF', '6', ')', '2', 'Ġand', 'Ġis', 'Ġsoluble', 'Ġin', 'ĠCD', '3', 'CN']\n",
      "\n",
      "Nitrobenzene with a sum formula of C6H5NO2 has an InCHI-IDENtifier InChI=1S/C6H5NO2/c8-7(9)6-4-2-1-3-5-6/h1-5H/i1+1,2+1,3+1,4+1,5+1,6+1\n",
      "['N', 'itro', 'benz', 'ene', 'Ġwith', 'Ġa', 'Ġsum', 'Ġformula', 'Ġof', 'ĠC', '6', 'H', '5', 'NO', '2', 'Ġhas', 'Ġan', 'ĠIn', 'CH', 'I', '-', 'ID', 'EN', 't', 'ifier', 'ĠIn', 'Ch', 'I', '=', '1', 'S', '/', 'C', '6', 'H', '5', 'NO', '2', '/', 'c', '8', '-', '7', '(', '9', ')', '6', '-', '4', '-', '2', '-', '1', '-', '3', '-', '5', '-', '6', '/', 'h', '1', '-', '5', 'H', '/', 'i', '1', '+', '1', ',', '2', '+', '1', ',', '3', '+', '1', ',', '4', '+', '1', ',', '5', '+', '1', ',', '6', '+', '1']\n",
      "\n",
      "Ibuprofen with a formula of (H3C)2CCH2-C6H4-CH(CH3)COOH has a SMILES string      CC(C)Cc1cCc(cc1)C(C)C(O)=O\n",
      "['I', 'b', 'up', 'ro', 'fen', 'Ġwith', 'Ġa', 'Ġformula', 'Ġof', 'Ġ(', 'H', '3', 'C', ')', '2', 'CC', 'H', '2', '-', 'C', '6', 'H', '4', '-', 'CH', '(', 'CH', '3', ')', 'C', 'OO', 'H', 'Ġhas', 'Ġa', 'ĠSM', 'IL', 'ES', 'Ġstring', '      ', 'CC', '(', 'C', ')', 'C', 'c', '1', 'c', 'C', 'c', '(', 'cc', '1', ')', 'C', '(', 'C', ')', 'C', '(', 'O', ')=', 'O']\n",
      "\n"
     ]
    }
   ],
   "source": [
    "for e in examples:\n",
    "    print(e)\n",
    "    enc = tokenizer.encode(e)\n",
    "    print(enc.tokens)\n",
    "    print()"
   ]
  }
 ],
 "metadata": {
  "kernelspec": {
   "display_name": "chemnlp",
   "language": "python",
   "name": "chemnlp"
  },
  "language_info": {
   "codemirror_mode": {
    "name": "ipython",
    "version": 3
   },
   "file_extension": ".py",
   "mimetype": "text/x-python",
   "name": "python",
   "nbconvert_exporter": "python",
   "pygments_lexer": "ipython3",
   "version": "3.8.16"
  }
 },
 "nbformat": 4,
 "nbformat_minor": 5
}
