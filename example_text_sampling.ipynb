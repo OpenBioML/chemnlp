{
 "cells": [
  {
   "cell_type": "markdown",
   "id": "898d985b-7ef2-45ae-98c1-4e7957e3783a",
   "metadata": {},
   "source": [
    "# Text sampling introduction\n",
    "This notebook shows a text sampling process from the cleaned data to the sample text prompts.<br>\n",
    "The outlined setup is based on langchain and its prompt template setup:<br>\n",
    "* https://github.com/hwchase17/langchain\n",
    "* https://langchain.readthedocs.io/en/latest/modules/prompts.html"
   ]
  },
  {
   "cell_type": "markdown",
   "id": "97b2e8e7-5b66-4a9a-9e22-41b4c315bbce",
   "metadata": {},
   "source": [
    "# Setup\n",
    "## Installation"
   ]
  },
  {
   "cell_type": "code",
   "execution_count": null,
   "id": "a79d003f-594d-4cd7-be6d-4636e6fa5def",
   "metadata": {
    "tags": []
   },
   "outputs": [],
   "source": [
    "#!pip install langchain"
   ]
  },
  {
   "cell_type": "markdown",
   "id": "52ac8f48-a277-4de1-ad06-04d471255187",
   "metadata": {},
   "source": [
    "## Imports"
   ]
  },
  {
   "cell_type": "code",
   "execution_count": 1,
   "id": "3e84de98-280d-4894-ac08-0b97fe337866",
   "metadata": {
    "tags": []
   },
   "outputs": [],
   "source": [
    "import random"
   ]
  },
  {
   "cell_type": "code",
   "execution_count": 2,
   "id": "898199ea-2643-4fed-8572-41307e671f25",
   "metadata": {
    "tags": []
   },
   "outputs": [],
   "source": [
    "import pandas as pd"
   ]
  },
  {
   "cell_type": "code",
   "execution_count": 3,
   "id": "aad0c4c1-dc71-4d7e-b11f-736cd54b0727",
   "metadata": {
    "tags": []
   },
   "outputs": [],
   "source": [
    "import yaml"
   ]
  },
  {
   "cell_type": "code",
   "execution_count": 4,
   "id": "07c0db6f-08c9-4c58-bb3c-4f07b2197436",
   "metadata": {
    "tags": []
   },
   "outputs": [],
   "source": [
    "from langchain import PromptTemplate"
   ]
  },
  {
   "cell_type": "code",
   "execution_count": 5,
   "id": "1346cd41-3def-43a8-a42a-1daf7662f903",
   "metadata": {
    "tags": []
   },
   "outputs": [],
   "source": [
    "from langchain.prompts import load_prompt"
   ]
  },
  {
   "cell_type": "code",
   "execution_count": 6,
   "id": "c563e98d-b2e1-4c22-a011-41e6b3b81d0e",
   "metadata": {},
   "outputs": [],
   "source": [
    "from functools import partial"
   ]
  },
  {
   "cell_type": "markdown",
   "id": "534847b4-6b48-46ce-8f57-ce023837998b",
   "metadata": {},
   "source": [
    "# Raw data"
   ]
  },
  {
   "cell_type": "code",
   "execution_count": 7,
   "id": "f20fa900-955a-4c92-9f7c-abf8b0e88cc0",
   "metadata": {
    "tags": []
   },
   "outputs": [],
   "source": [
    "path_data_dir = \"data/lipophilicity\""
   ]
  },
  {
   "cell_type": "code",
   "execution_count": 8,
   "id": "48d2c08a-9ba7-4e0e-bd47-15dc118a21c0",
   "metadata": {
    "tags": []
   },
   "outputs": [
    {
     "name": "stdout",
     "output_type": "stream",
     "text": [
      "Finished processing lipophilicity dataset!\n"
     ]
    }
   ],
   "source": [
    "!python {path_data_dir}/transform.py"
   ]
  },
  {
   "cell_type": "code",
   "execution_count": 9,
   "id": "7816812d-0d55-4d2d-836a-31848275d79f",
   "metadata": {
    "tags": []
   },
   "outputs": [],
   "source": [
    "path_data_csv = path_data_dir+\"/data_clean.csv\""
   ]
  },
  {
   "cell_type": "code",
   "execution_count": 10,
   "id": "9bd36918-cfd0-43f3-a596-f00e9db1ea83",
   "metadata": {
    "tags": []
   },
   "outputs": [],
   "source": [
    "df = pd.read_csv(path_data_csv)"
   ]
  },
  {
   "cell_type": "code",
   "execution_count": 11,
   "id": "a65c6699-73e3-478d-9125-e700f99d0185",
   "metadata": {
    "tags": []
   },
   "outputs": [
    {
     "data": {
      "text/html": [
       "<div>\n",
       "<style scoped>\n",
       "    .dataframe tbody tr th:only-of-type {\n",
       "        vertical-align: middle;\n",
       "    }\n",
       "\n",
       "    .dataframe tbody tr th {\n",
       "        vertical-align: top;\n",
       "    }\n",
       "\n",
       "    .dataframe thead th {\n",
       "        text-align: right;\n",
       "    }\n",
       "</style>\n",
       "<table border=\"1\" class=\"dataframe\">\n",
       "  <thead>\n",
       "    <tr style=\"text-align: right;\">\n",
       "      <th></th>\n",
       "      <th>CMPD_CHEMBLID</th>\n",
       "      <th>exp</th>\n",
       "      <th>SMILES</th>\n",
       "    </tr>\n",
       "  </thead>\n",
       "  <tbody>\n",
       "    <tr>\n",
       "      <th>0</th>\n",
       "      <td>CHEMBL596271</td>\n",
       "      <td>3.54</td>\n",
       "      <td>Cn1c(CN2CCN(CC2)c3ccc(Cl)cc3)nc4ccccc14</td>\n",
       "    </tr>\n",
       "    <tr>\n",
       "      <th>1</th>\n",
       "      <td>CHEMBL1951080</td>\n",
       "      <td>-1.18</td>\n",
       "      <td>COc1cc(OC)c(cc1NC(=O)CSCC(=O)O)S(=O)(=O)N2C(C)...</td>\n",
       "    </tr>\n",
       "    <tr>\n",
       "      <th>2</th>\n",
       "      <td>CHEMBL1771</td>\n",
       "      <td>3.69</td>\n",
       "      <td>COC(=O)[C@@H](N1CCc2sccc2C1)c3ccccc3Cl</td>\n",
       "    </tr>\n",
       "    <tr>\n",
       "      <th>3</th>\n",
       "      <td>CHEMBL234951</td>\n",
       "      <td>3.37</td>\n",
       "      <td>OC[C@H](O)CN1C(=O)C(Cc2ccccc12)NC(=O)c3cc4cc(C...</td>\n",
       "    </tr>\n",
       "    <tr>\n",
       "      <th>4</th>\n",
       "      <td>CHEMBL565079</td>\n",
       "      <td>3.10</td>\n",
       "      <td>Cc1cccc(C[C@H](NC(=O)c2cc(nn2C)C(C)(C)C)C(=O)N...</td>\n",
       "    </tr>\n",
       "  </tbody>\n",
       "</table>\n",
       "</div>"
      ],
      "text/plain": [
       "   CMPD_CHEMBLID   exp                                             SMILES\n",
       "0   CHEMBL596271  3.54            Cn1c(CN2CCN(CC2)c3ccc(Cl)cc3)nc4ccccc14\n",
       "1  CHEMBL1951080 -1.18  COc1cc(OC)c(cc1NC(=O)CSCC(=O)O)S(=O)(=O)N2C(C)...\n",
       "2     CHEMBL1771  3.69             COC(=O)[C@@H](N1CCc2sccc2C1)c3ccccc3Cl\n",
       "3   CHEMBL234951  3.37  OC[C@H](O)CN1C(=O)C(Cc2ccccc12)NC(=O)c3cc4cc(C...\n",
       "4   CHEMBL565079  3.10  Cc1cccc(C[C@H](NC(=O)c2cc(nn2C)C(C)(C)C)C(=O)N..."
      ]
     },
     "execution_count": 11,
     "metadata": {},
     "output_type": "execute_result"
    }
   ],
   "source": [
    "df.head()"
   ]
  },
  {
   "cell_type": "code",
   "execution_count": 12,
   "id": "992d9c4f-bbff-45b8-a047-02cac8b9962f",
   "metadata": {
    "tags": []
   },
   "outputs": [],
   "source": [
    "assert not df.duplicated().sum()  #  check for duplicates"
   ]
  },
  {
   "cell_type": "code",
   "execution_count": 13,
   "id": "de8999b8-c7e1-4f05-8bb9-feba1e94a1e1",
   "metadata": {
    "tags": []
   },
   "outputs": [],
   "source": [
    "path_data_meta = path_data_dir+\"/meta.yaml\""
   ]
  },
  {
   "cell_type": "code",
   "execution_count": 14,
   "id": "4457a393-3df9-416f-9e4d-1e997be276c9",
   "metadata": {
    "tags": []
   },
   "outputs": [],
   "source": [
    "with open(path_data_meta, \"r\") as stream:\n",
    "    try:\n",
    "        meta = yaml.safe_load(stream)\n",
    "    except yaml.YAMLError as exc:\n",
    "        print(exc)"
   ]
  },
  {
   "cell_type": "code",
   "execution_count": 15,
   "id": "8824cdd9-b94b-4b18-8e9c-71b32de051b5",
   "metadata": {
    "tags": []
   },
   "outputs": [
    {
     "data": {
      "text/plain": [
       "{'name': 'lipophilicity',\n",
       " 'description': 'Experimental results of octanol/water distribution coefficient (logD at pH 7.4).',\n",
       " 'targets': [{'id': 'exp',\n",
       "   'description': 'experimental results of octanol/water distribution coefficient (logD at pH 7.4)',\n",
       "   'units': 'logD',\n",
       "   'type': 'continuous',\n",
       "   'names': ['octanol/water distribution coefficient (logD at pH 7.4)',\n",
       "    'octanol/water distribution coefficient']}],\n",
       " 'identifiers': [{'id': 'SMILES', 'type': 'SMILES', 'description': 'SMILES'}],\n",
       " 'license': 'CC BY-SA 3.0',\n",
       " 'links': [{'url': 'https://deepchemdata.s3-us-west-1.amazonaws.com/datasets/Lipophilicity.csv',\n",
       "   'description': 'original dataset link'},\n",
       "  {'url': 'https://github.com/cheminfo/molecule-features/blob/main/data/lipophilicity/meta.yaml',\n",
       "   'description': 'original meta data'},\n",
       "  {'url': 'https://deepchem.readthedocs.io/en/latest/api_reference/moleculenet.html#lipo-datasets',\n",
       "   'description': 'original dataset link from moleculenet'},\n",
       "  {'url': 'https://www.ebi.ac.uk/chembl/document_report_card/CHEMBL3301361/',\n",
       "   'description': 'original report card'},\n",
       "  {'url': 'https://chembl.gitbook.io/chembl-interface-documentation/about#data-licensing',\n",
       "   'description': 'original dataset license from chembl'},\n",
       "  {'url': 'https://creativecommons.org/licenses/by-sa/3.0/',\n",
       "   'description': 'used dataset license'}],\n",
       " 'num_points': 4200,\n",
       " 'bibtex': ['@techreport{hersey2015chembl,\\n            title={ChEMBL Deposited Data Set-AZ dataset},\\n            author={Hersey, Anne},\\n            year={2015},\\n            institution={Technical Report, Technical report, EMBL-EBI, 2015. https://www. ebi. ac. uk}\\n            }']}"
      ]
     },
     "execution_count": 15,
     "metadata": {},
     "output_type": "execute_result"
    }
   ],
   "source": [
    "meta"
   ]
  },
  {
   "cell_type": "code",
   "execution_count": 16,
   "id": "32e04958-c121-400e-acf1-3e386fce9376",
   "metadata": {
    "tags": []
   },
   "outputs": [
    {
     "data": {
      "text/plain": [
       "['SMILES', 'exp']"
      ]
     },
     "execution_count": 16,
     "metadata": {},
     "output_type": "execute_result"
    }
   ],
   "source": [
    "all_identifiers = [x[\"id\"] for x in meta[\"identifiers\"]] + [x[\"id\"] for x in meta[\"targets\"]]\n",
    "all_identifiers"
   ]
  },
  {
   "cell_type": "code",
   "execution_count": 18,
   "id": "dd0c55f3-14dc-45a5-b780-1c1f300cb12f",
   "metadata": {
    "tags": []
   },
   "outputs": [
    {
     "name": "stdout",
     "output_type": "stream",
     "text": [
      "All targets and identifiers found in the cleaned data!\n"
     ]
    }
   ],
   "source": [
    "for i in all_identifiers:\n",
    "    cols = df.columns.tolist()\n",
    "    assert i in cols, f\"target or identifier {i} not in columns {cols}!\"\n",
    "print(\"All targets and identifiers found in the cleaned data!\")"
   ]
  },
  {
   "cell_type": "markdown",
   "id": "17208bcd-429f-45d2-84d0-2e09f3de5d5e",
   "metadata": {},
   "source": [
    "# Templates"
   ]
  },
  {
   "cell_type": "markdown",
   "id": "b5eb76e8-0555-4fae-8f84-c7d1be9e961f",
   "metadata": {},
   "source": [
    "## Basic"
   ]
  },
  {
   "cell_type": "markdown",
   "id": "25f3793b-73a0-4b08-b741-5a0fa28a67c6",
   "metadata": {},
   "source": [
    "### Setup"
   ]
  },
  {
   "cell_type": "code",
   "execution_count": 19,
   "id": "cecd2b4b-9aff-41ed-816a-4ce9f0a43263",
   "metadata": {
    "tags": []
   },
   "outputs": [],
   "source": [
    "template_basic = \"\"\"\n",
    "The molecule whith the {SMILES_description} representation {SMILES_data} has a {target_name} of {target_value} {target_units}.\n",
    "\"\"\""
   ]
  },
  {
   "cell_type": "code",
   "execution_count": 20,
   "id": "693108df-dd5f-44d5-9084-39f98a470d01",
   "metadata": {
    "tags": []
   },
   "outputs": [
    {
     "data": {
      "text/plain": [
       "'\\nThe molecule whith the {SMILES_description} representation {SMILES_data} has a {target_name} of {target_value} {target_units}.\\n'"
      ]
     },
     "execution_count": 20,
     "metadata": {},
     "output_type": "execute_result"
    }
   ],
   "source": [
    "template_basic"
   ]
  },
  {
   "cell_type": "code",
   "execution_count": 21,
   "id": "8d503565-3617-4dfd-a91c-e8c5e51095cd",
   "metadata": {
    "tags": []
   },
   "outputs": [],
   "source": [
    "prompt_basic = PromptTemplate(\n",
    "    input_variables=[\n",
    "        \"SMILES_description\",\n",
    "        \"SMILES_data\",\n",
    "        \"target_name\",\n",
    "        \"target_value\",\n",
    "        \"target_units\",\n",
    "    ],\n",
    "    template=template_basic,\n",
    ")"
   ]
  },
  {
   "cell_type": "code",
   "execution_count": 22,
   "id": "8fbb45f7-90c3-4d83-b7ff-793b1b56ebf6",
   "metadata": {
    "tags": []
   },
   "outputs": [
    {
     "data": {
      "text/plain": [
       "PromptTemplate(input_variables=['SMILES_description', 'SMILES_data', 'target_name', 'target_value', 'target_units'], output_parser=None, partial_variables={}, template='\\nThe molecule whith the {SMILES_description} representation {SMILES_data} has a {target_name} of {target_value} {target_units}.\\n', template_format='f-string', validate_template=True)"
      ]
     },
     "execution_count": 22,
     "metadata": {},
     "output_type": "execute_result"
    }
   ],
   "source": [
    "prompt_basic"
   ]
  },
  {
   "cell_type": "markdown",
   "id": "d51b7426-1888-42cb-92e1-c9e86ae66aa1",
   "metadata": {},
   "source": [
    "### Create sample"
   ]
  },
  {
   "cell_type": "code",
   "execution_count": 23,
   "id": "cc1ffb21-a0f2-43bc-9e0f-49f8d2202326",
   "metadata": {
    "tags": []
   },
   "outputs": [],
   "source": [
    "sample = df.sample()"
   ]
  },
  {
   "cell_type": "code",
   "execution_count": 24,
   "id": "522fcb64-4b30-4cee-bec0-ee1360bbad96",
   "metadata": {
    "tags": []
   },
   "outputs": [
    {
     "data": {
      "text/html": [
       "<div>\n",
       "<style scoped>\n",
       "    .dataframe tbody tr th:only-of-type {\n",
       "        vertical-align: middle;\n",
       "    }\n",
       "\n",
       "    .dataframe tbody tr th {\n",
       "        vertical-align: top;\n",
       "    }\n",
       "\n",
       "    .dataframe thead th {\n",
       "        text-align: right;\n",
       "    }\n",
       "</style>\n",
       "<table border=\"1\" class=\"dataframe\">\n",
       "  <thead>\n",
       "    <tr style=\"text-align: right;\">\n",
       "      <th></th>\n",
       "      <th>CMPD_CHEMBLID</th>\n",
       "      <th>exp</th>\n",
       "      <th>SMILES</th>\n",
       "    </tr>\n",
       "  </thead>\n",
       "  <tbody>\n",
       "    <tr>\n",
       "      <th>3779</th>\n",
       "      <td>CHEMBL5</td>\n",
       "      <td>-0.1</td>\n",
       "      <td>CCN1C=C(C(=O)O)C(=O)c2ccc(C)nc12</td>\n",
       "    </tr>\n",
       "  </tbody>\n",
       "</table>\n",
       "</div>"
      ],
      "text/plain": [
       "     CMPD_CHEMBLID  exp                            SMILES\n",
       "3779       CHEMBL5 -0.1  CCN1C=C(C(=O)O)C(=O)c2ccc(C)nc12"
      ]
     },
     "execution_count": 24,
     "metadata": {},
     "output_type": "execute_result"
    }
   ],
   "source": [
    "sample"
   ]
  },
  {
   "cell_type": "code",
   "execution_count": 40,
   "id": "f22addf3-1c6a-4e1b-92e6-182db2c9baac",
   "metadata": {
    "tags": []
   },
   "outputs": [],
   "source": [
    "class RandomVariable():\n",
    "    def __init__(self, name, data, sampler):\n",
    "        self.name = name\n",
    "        self.data = data\n",
    "        self.sampler = sampler\n",
    "    \n",
    "    def __repr__(self):\n",
    "        return f\"RandomVariable: {self.name}, {self.data}, {self.sampler}\"\n",
    "    \n",
    "    def __call__(self):\n",
    "        sample = self.sampler(self.data)\n",
    "        if isinstance(sample, list):\n",
    "            assert len(sample) == 1\n",
    "            return sample[0]\n",
    "        else:\n",
    "            return sample"
   ]
  },
  {
   "cell_type": "code",
   "execution_count": 41,
   "id": "c319787e-4d00-4375-be20-d928c563ccef",
   "metadata": {
    "tags": []
   },
   "outputs": [],
   "source": [
    "target_name_rv = RandomVariable(\n",
    "    \"target_name\",\n",
    "    meta[\"targets\"][0][\"names\"],\n",
    "    partial(random.sample, k=1),\n",
    ")"
   ]
  },
  {
   "cell_type": "code",
   "execution_count": 42,
   "id": "ea4f6e31-f5e2-4198-954e-0bd70619a286",
   "metadata": {
    "tags": []
   },
   "outputs": [
    {
     "data": {
      "text/plain": [
       "RandomVariable: target_name, ['octanol/water distribution coefficient (logD at pH 7.4)', 'octanol/water distribution coefficient'], functools.partial(<bound method Random.sample of <random.Random object at 0x7fce6d01ce10>>, k=1)"
      ]
     },
     "execution_count": 42,
     "metadata": {},
     "output_type": "execute_result"
    }
   ],
   "source": [
    "target_name_rv"
   ]
  },
  {
   "cell_type": "code",
   "execution_count": 45,
   "id": "18e35db4-7267-405a-9b2f-29467a20583c",
   "metadata": {
    "tags": []
   },
   "outputs": [
    {
     "name": "stdout",
     "output_type": "stream",
     "text": [
      "octanol/water distribution coefficient\n",
      "octanol/water distribution coefficient (logD at pH 7.4)\n",
      "octanol/water distribution coefficient\n",
      "octanol/water distribution coefficient (logD at pH 7.4)\n",
      "octanol/water distribution coefficient (logD at pH 7.4)\n",
      "octanol/water distribution coefficient\n",
      "octanol/water distribution coefficient\n",
      "octanol/water distribution coefficient (logD at pH 7.4)\n",
      "octanol/water distribution coefficient (logD at pH 7.4)\n",
      "octanol/water distribution coefficient (logD at pH 7.4)\n"
     ]
    }
   ],
   "source": [
    "for _ in range(10):\n",
    "    print(target_name_rv())"
   ]
  },
  {
   "cell_type": "code",
   "execution_count": 46,
   "id": "05ee02c8-c8df-4c5d-b4a5-10d8c353fd6a",
   "metadata": {
    "tags": []
   },
   "outputs": [],
   "source": [
    "def get_sample_prompt_basic(df, meta, idx=None):\n",
    "    if idx:\n",
    "        sample = df.iloc[idx]\n",
    "    else: # random sample\n",
    "        sample = df.sample().iloc[0] # iloc gives us a pd series\n",
    "    \n",
    "    return {\n",
    "        \"SMILES_description\": meta[\"identifiers\"][0][\"description\"],\n",
    "        \"SMILES_data\": sample.SMILES,\n",
    "        #\"target_name\": random.sample(meta[\"targets\"][0][\"names\"], k=1)[0],\n",
    "        \"target_name\": target_name_rv(),\n",
    "        \"target_value\": sample.exp,\n",
    "        \"target_units\": meta[\"targets\"][0][\"units\"],\n",
    "    }"
   ]
  },
  {
   "cell_type": "code",
   "execution_count": 47,
   "id": "d4090753-3d10-4c37-a580-b5c400b0f40a",
   "metadata": {
    "tags": []
   },
   "outputs": [
    {
     "data": {
      "text/plain": [
       "{'SMILES_description': 'SMILES',\n",
       " 'SMILES_data': 'COC(=O)CCC(=O)Nc1ccc2C(=O)C(=O)c3ccccc3c2c1',\n",
       " 'target_name': 'octanol/water distribution coefficient',\n",
       " 'target_value': 2.72,\n",
       " 'target_units': 'logD'}"
      ]
     },
     "execution_count": 47,
     "metadata": {},
     "output_type": "execute_result"
    }
   ],
   "source": [
    "sample_dict = get_sample_prompt_basic(df, meta, idx=777)\n",
    "sample_dict"
   ]
  },
  {
   "cell_type": "code",
   "execution_count": 48,
   "id": "45bd2b89-ff7b-4937-95df-70d87f04d37b",
   "metadata": {
    "tags": []
   },
   "outputs": [
    {
     "data": {
      "text/plain": [
       "'\\nThe molecule whith the SMILES representation COC(=O)CCC(=O)Nc1ccc2C(=O)C(=O)c3ccccc3c2c1 has a octanol/water distribution coefficient of 2.72 logD.\\n'"
      ]
     },
     "execution_count": 48,
     "metadata": {},
     "output_type": "execute_result"
    }
   ],
   "source": [
    "prompt_basic.format(**sample_dict)"
   ]
  },
  {
   "cell_type": "markdown",
   "id": "665d0123-c7e7-47f0-8b77-0c2a87c45f48",
   "metadata": {},
   "source": [
    "### Create samples from df"
   ]
  },
  {
   "cell_type": "code",
   "execution_count": 49,
   "id": "17b7d887-b2d9-4c8a-88c7-85001f4de016",
   "metadata": {
    "tags": []
   },
   "outputs": [],
   "source": [
    "def get_sample_prompt_basic_from_row(sample, meta):\n",
    "    return prompt_basic.format(\n",
    "        SMILES_description=meta[\"identifiers\"][0][\"description\"],\n",
    "        SMILES_data=sample.SMILES,\n",
    "        #target_name=random.sample(meta[\"targets\"][0][\"names\"], k=1)[0], # we sample from list of names\n",
    "        target_name=target_name_rv(),\n",
    "        target_value=sample.exp,\n",
    "        target_units=meta[\"targets\"][0][\"units\"],\n",
    "    )"
   ]
  },
  {
   "cell_type": "code",
   "execution_count": 50,
   "id": "2718549e-5f93-45c5-a1d0-8f9487c56ff2",
   "metadata": {
    "tags": []
   },
   "outputs": [
    {
     "data": {
      "text/plain": [
       "'\\nThe molecule whith the SMILES representation O=C1COc2ccccc2N1CCN3CCC(CC3)NCc4cc5OCCOc5cn4 has a octanol/water distribution coefficient (logD at pH 7.4) of 1.04 logD.\\n'"
      ]
     },
     "execution_count": 50,
     "metadata": {},
     "output_type": "execute_result"
    }
   ],
   "source": [
    "get_sample_prompt_basic_from_row(df.sample().iloc[0], meta)"
   ]
  },
  {
   "cell_type": "code",
   "execution_count": 51,
   "id": "92a72de6-d4ca-4c41-a6a7-49b6e1b200d8",
   "metadata": {
    "tags": []
   },
   "outputs": [],
   "source": [
    "df[\"prompt\"] = df.apply(lambda x: get_sample_prompt_basic_from_row(x, meta), axis=1)"
   ]
  },
  {
   "cell_type": "code",
   "execution_count": 52,
   "id": "397f7368-72af-4071-946f-a33359eb2478",
   "metadata": {
    "tags": []
   },
   "outputs": [
    {
     "data": {
      "text/html": [
       "<div>\n",
       "<style scoped>\n",
       "    .dataframe tbody tr th:only-of-type {\n",
       "        vertical-align: middle;\n",
       "    }\n",
       "\n",
       "    .dataframe tbody tr th {\n",
       "        vertical-align: top;\n",
       "    }\n",
       "\n",
       "    .dataframe thead th {\n",
       "        text-align: right;\n",
       "    }\n",
       "</style>\n",
       "<table border=\"1\" class=\"dataframe\">\n",
       "  <thead>\n",
       "    <tr style=\"text-align: right;\">\n",
       "      <th></th>\n",
       "      <th>CMPD_CHEMBLID</th>\n",
       "      <th>exp</th>\n",
       "      <th>SMILES</th>\n",
       "      <th>prompt</th>\n",
       "    </tr>\n",
       "  </thead>\n",
       "  <tbody>\n",
       "    <tr>\n",
       "      <th>0</th>\n",
       "      <td>CHEMBL596271</td>\n",
       "      <td>3.54</td>\n",
       "      <td>Cn1c(CN2CCN(CC2)c3ccc(Cl)cc3)nc4ccccc14</td>\n",
       "      <td>\\nThe molecule whith the SMILES representation...</td>\n",
       "    </tr>\n",
       "    <tr>\n",
       "      <th>1</th>\n",
       "      <td>CHEMBL1951080</td>\n",
       "      <td>-1.18</td>\n",
       "      <td>COc1cc(OC)c(cc1NC(=O)CSCC(=O)O)S(=O)(=O)N2C(C)...</td>\n",
       "      <td>\\nThe molecule whith the SMILES representation...</td>\n",
       "    </tr>\n",
       "    <tr>\n",
       "      <th>2</th>\n",
       "      <td>CHEMBL1771</td>\n",
       "      <td>3.69</td>\n",
       "      <td>COC(=O)[C@@H](N1CCc2sccc2C1)c3ccccc3Cl</td>\n",
       "      <td>\\nThe molecule whith the SMILES representation...</td>\n",
       "    </tr>\n",
       "    <tr>\n",
       "      <th>3</th>\n",
       "      <td>CHEMBL234951</td>\n",
       "      <td>3.37</td>\n",
       "      <td>OC[C@H](O)CN1C(=O)C(Cc2ccccc12)NC(=O)c3cc4cc(C...</td>\n",
       "      <td>\\nThe molecule whith the SMILES representation...</td>\n",
       "    </tr>\n",
       "    <tr>\n",
       "      <th>4</th>\n",
       "      <td>CHEMBL565079</td>\n",
       "      <td>3.10</td>\n",
       "      <td>Cc1cccc(C[C@H](NC(=O)c2cc(nn2C)C(C)(C)C)C(=O)N...</td>\n",
       "      <td>\\nThe molecule whith the SMILES representation...</td>\n",
       "    </tr>\n",
       "  </tbody>\n",
       "</table>\n",
       "</div>"
      ],
      "text/plain": [
       "   CMPD_CHEMBLID   exp                                             SMILES  \\\n",
       "0   CHEMBL596271  3.54            Cn1c(CN2CCN(CC2)c3ccc(Cl)cc3)nc4ccccc14   \n",
       "1  CHEMBL1951080 -1.18  COc1cc(OC)c(cc1NC(=O)CSCC(=O)O)S(=O)(=O)N2C(C)...   \n",
       "2     CHEMBL1771  3.69             COC(=O)[C@@H](N1CCc2sccc2C1)c3ccccc3Cl   \n",
       "3   CHEMBL234951  3.37  OC[C@H](O)CN1C(=O)C(Cc2ccccc12)NC(=O)c3cc4cc(C...   \n",
       "4   CHEMBL565079  3.10  Cc1cccc(C[C@H](NC(=O)c2cc(nn2C)C(C)(C)C)C(=O)N...   \n",
       "\n",
       "                                              prompt  \n",
       "0  \\nThe molecule whith the SMILES representation...  \n",
       "1  \\nThe molecule whith the SMILES representation...  \n",
       "2  \\nThe molecule whith the SMILES representation...  \n",
       "3  \\nThe molecule whith the SMILES representation...  \n",
       "4  \\nThe molecule whith the SMILES representation...  "
      ]
     },
     "execution_count": 52,
     "metadata": {},
     "output_type": "execute_result"
    }
   ],
   "source": [
    "df.head()"
   ]
  },
  {
   "cell_type": "code",
   "execution_count": 53,
   "id": "66fa98a5-9f08-47b1-ac79-1ec100c0406a",
   "metadata": {
    "tags": []
   },
   "outputs": [
    {
     "data": {
      "text/plain": [
       "'\\nThe molecule whith the SMILES representation Cn1c(CN2CCN(CC2)c3ccc(Cl)cc3)nc4ccccc14 has a octanol/water distribution coefficient (logD at pH 7.4) of 3.54 logD.\\n'"
      ]
     },
     "execution_count": 53,
     "metadata": {},
     "output_type": "execute_result"
    }
   ],
   "source": [
    "df.iloc[0].prompt"
   ]
  },
  {
   "cell_type": "markdown",
   "id": "7570d90f-9823-48c8-928a-3e502fcf2a2c",
   "metadata": {},
   "source": [
    "### Save prompt template"
   ]
  },
  {
   "cell_type": "code",
   "execution_count": 54,
   "id": "70519483-3d3d-421f-bf4a-f091c429da26",
   "metadata": {
    "tags": []
   },
   "outputs": [
    {
     "data": {
      "text/plain": [
       "{'input_variables': ['SMILES_description',\n",
       "  'SMILES_data',\n",
       "  'target_name',\n",
       "  'target_value',\n",
       "  'target_units'],\n",
       " 'output_parser': None,\n",
       " 'partial_variables': {},\n",
       " 'template': '\\nThe molecule whith the {SMILES_description} representation {SMILES_data} has a {target_name} of {target_value} {target_units}.\\n',\n",
       " 'template_format': 'f-string',\n",
       " 'validate_template': True,\n",
       " '_type': 'prompt'}"
      ]
     },
     "execution_count": 54,
     "metadata": {},
     "output_type": "execute_result"
    }
   ],
   "source": [
    "prompt_basic.dict()"
   ]
  },
  {
   "cell_type": "code",
   "execution_count": 55,
   "id": "eb30c0ef-4370-44b0-8dc4-6119ea1968f7",
   "metadata": {
    "tags": []
   },
   "outputs": [],
   "source": [
    "path_data_prompt_basic = path_data_dir+\"/prompt_basic.yaml\""
   ]
  },
  {
   "cell_type": "code",
   "execution_count": 56,
   "id": "3ee2907a-8d7f-41ac-b7a0-88174115a479",
   "metadata": {
    "tags": []
   },
   "outputs": [],
   "source": [
    "prompt_basic.save(path_data_prompt_basic)"
   ]
  },
  {
   "cell_type": "code",
   "execution_count": 57,
   "id": "91974e0b-d120-44c1-96bc-9e3a7e67eaef",
   "metadata": {
    "tags": []
   },
   "outputs": [
    {
     "name": "stdout",
     "output_type": "stream",
     "text": [
      "_type: prompt\n",
      "input_variables:\n",
      "- SMILES_description\n",
      "- SMILES_data\n",
      "- target_name\n",
      "- target_value\n",
      "- target_units\n",
      "output_parser: null\n",
      "partial_variables: {}\n",
      "template: '\n",
      "\n",
      "  The molecule whith the {SMILES_description} representation {SMILES_data} has a {target_name}\n",
      "  of {target_value} {target_units}.\n",
      "\n",
      "  '\n",
      "template_format: f-string\n",
      "validate_template: true\n"
     ]
    }
   ],
   "source": [
    "!cat {path_data_prompt_basic}"
   ]
  },
  {
   "cell_type": "markdown",
   "id": "d0ff90b1-2105-4845-b471-31cd01a41fab",
   "metadata": {},
   "source": [
    "### Load prompt template"
   ]
  },
  {
   "cell_type": "code",
   "execution_count": 58,
   "id": "74fd8a63-786d-42d6-9a01-6caedebd29c9",
   "metadata": {
    "tags": []
   },
   "outputs": [
    {
     "data": {
      "text/plain": [
       "PromptTemplate(input_variables=['SMILES_description', 'SMILES_data', 'target_name', 'target_value', 'target_units'], output_parser=None, partial_variables={}, template='\\nThe molecule whith the {SMILES_description} representation {SMILES_data} has a {target_name} of {target_value} {target_units}.\\n', template_format='f-string', validate_template=True)"
      ]
     },
     "execution_count": 58,
     "metadata": {},
     "output_type": "execute_result"
    }
   ],
   "source": [
    "prompt_basic = load_prompt(path_data_prompt_basic)\n",
    "prompt_basic"
   ]
  },
  {
   "cell_type": "markdown",
   "id": "4106b37d-8cf5-43cc-9933-50bb8af91cc9",
   "metadata": {},
   "source": [
    "## Sentence part sampling (WIP)"
   ]
  },
  {
   "cell_type": "markdown",
   "id": "655bc213-5118-40e5-a0ee-7aa91edb02b2",
   "metadata": {},
   "source": [
    "# Ideas & to dos:\n",
    "\n",
    "General\n",
    "* Check also https://langchain.readthedocs.io/en/latest/modules/prompts/examples/partial.html as this could make the sampling maybe easier and cleaner?\n",
    "\n",
    "\n",
    "Tabular\n",
    "* We now create a sample per df row. When we aggregate all tabular, KG, etc. data we need to rethink that approach.\n",
    "\n",
    "KG\n",
    "* Here we would sample the template setup before based on the walk over the KG, i.e., 1.) get graph in to text, 2.) sample input variables"
   ]
  },
  {
   "cell_type": "markdown",
   "id": "ff36fd1e-9ee4-41aa-95db-b038bc2dd156",
   "metadata": {},
   "source": [
    "# End "
   ]
  }
 ],
 "metadata": {
  "kernelspec": {
   "display_name": "chemnlp",
   "language": "python",
   "name": "chemnlp"
  },
  "language_info": {
   "codemirror_mode": {
    "name": "ipython",
    "version": 3
   },
   "file_extension": ".py",
   "mimetype": "text/x-python",
   "name": "python",
   "nbconvert_exporter": "python",
   "pygments_lexer": "ipython3",
   "version": "3.10.9"
  }
 },
 "nbformat": 4,
 "nbformat_minor": 5
}
