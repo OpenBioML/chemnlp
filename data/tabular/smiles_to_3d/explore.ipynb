{
 "cells": [
  {
   "cell_type": "code",
   "execution_count": 1,
   "metadata": {},
   "outputs": [],
   "source": [
    "%load_ext autoreload\n",
    "%autoreload 2"
   ]
  },
  {
   "cell_type": "code",
   "execution_count": 6,
   "metadata": {},
   "outputs": [],
   "source": [
    "from rdkit import Chem \n",
    "from glob import glob\n",
    "\n",
    "import pandas as pd\n",
    "from chemnlp.data.convert import xyz_file_to_string, is_longer_than_allowed, _write_mol2000, _write_mol3000"
   ]
  },
  {
   "cell_type": "code",
   "execution_count": 7,
   "metadata": {},
   "outputs": [],
   "source": [
    "all_files = glob('/Users/kevinmaikjablonka/Downloads/xyzfiles/*.xyz') # downloaded from https://data.dtu.dk/articles/dataset/xyz_files_of_the_QM9_molecules/19780570"
   ]
  },
  {
   "cell_type": "code",
   "execution_count": 8,
   "metadata": {},
   "outputs": [],
   "source": [
    "from rdkit.Chem import rdDetermineBonds"
   ]
  },
  {
   "cell_type": "code",
   "execution_count": 9,
   "metadata": {},
   "outputs": [],
   "source": [
    "data = []\n",
    "for file in all_files:\n",
    "    cleaned = xyz_file_to_string(file)\n",
    "    if not is_longer_than_allowed(cleaned):\n",
    "        raw_mol = Chem.MolFromXYZFile(file)\n",
    "        conn_mol = Chem.Mol(raw_mol)\n",
    "        rdDetermineBonds.DetermineConnectivity(conn_mol)\n",
    "        smiles = Chem.MolToSmiles(conn_mol)\n",
    "        data.append(\n",
    "            {\"SMILES\": smiles, \"xyz\": cleaned, 'mol2000': _write_mol2000(conn_mol), 'mol3000': _write_mol3000(conn_mol)}\n",
    "        )"
   ]
  },
  {
   "cell_type": "code",
   "execution_count": 11,
   "metadata": {},
   "outputs": [
    {
     "data": {
      "text/plain": [
       "133631"
      ]
     },
     "execution_count": 11,
     "metadata": {},
     "output_type": "execute_result"
    }
   ],
   "source": [
    "len(data)"
   ]
  },
  {
   "cell_type": "code",
   "execution_count": 12,
   "metadata": {},
   "outputs": [],
   "source": [
    "df = pd.DataFrame(data)"
   ]
  },
  {
   "cell_type": "code",
   "execution_count": null,
   "metadata": {},
   "outputs": [],
   "source": []
  },
  {
   "cell_type": "code",
   "execution_count": 13,
   "metadata": {},
   "outputs": [],
   "source": [
    "df.to_json('data.json', orient='records', lines=True)"
   ]
  },
  {
   "cell_type": "code",
   "execution_count": null,
   "metadata": {},
   "outputs": [],
   "source": []
  }
 ],
 "metadata": {
  "kernelspec": {
   "display_name": "chemnlp",
   "language": "python",
   "name": "python3"
  },
  "language_info": {
   "codemirror_mode": {
    "name": "ipython",
    "version": 3
   },
   "file_extension": ".py",
   "mimetype": "text/x-python",
   "name": "python",
   "nbconvert_exporter": "python",
   "pygments_lexer": "ipython3",
   "version": "3.8.16"
  },
  "orig_nbformat": 4
 },
 "nbformat": 4,
 "nbformat_minor": 2
}
