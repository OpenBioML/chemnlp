{
 "cells": [
  {
   "cell_type": "code",
   "execution_count": null,
   "metadata": {},
   "outputs": [],
   "source": [
    "# This dataset has a lot of missing values\n",
    "# I THINK that the units of the h2 capacities are in wt%\n",
    "# this should be double checked"
   ]
  },
  {
   "cell_type": "code",
   "execution_count": null,
   "metadata": {},
   "outputs": [],
   "source": [
    "import pandas as pd\n",
    "import requests\n",
    "import yaml"
   ]
  },
  {
   "cell_type": "markdown",
   "metadata": {},
   "source": [
    "## 1. Load Dataset From Source"
   ]
  },
  {
   "cell_type": "code",
   "execution_count": null,
   "metadata": {},
   "outputs": [],
   "source": [
    "data_path  = 'https://datahub.hymarc.org/dataset/ad580d95-e7e2-4ef4-a7f6-3b2f91a96eba/resource/4ef1c494-366e-43a3-bed4-a3985de5c374/download/hydstormatdb-reversible_hydrides.csv'  "
   ]
  },
  {
   "cell_type": "code",
   "execution_count": null,
   "metadata": {},
   "outputs": [],
   "source": [
    "data_path  = ('https://datahub.hymarc.org/dataset/'\n",
    "              'ad580d95-e7e2-4ef4-a7f6-3b2f91a96eba/resource/'\n",
    "              '4ef1c494-366e-43a3-bed4-a3985de5c374/download/hydstormatdb-reversible_hydrides.csv'\n",
    "             )  "
   ]
  },
  {
   "cell_type": "code",
   "execution_count": null,
   "metadata": {},
   "outputs": [],
   "source": [
    "data = requests.get(data_path)"
   ]
  },
  {
   "cell_type": "code",
   "execution_count": null,
   "metadata": {},
   "outputs": [],
   "source": [
    "fn_data_original = \"data_original.txt\"\n",
    "with open(fn_data_original, \"wb\") as f:\n",
    "    f.write(data.content)"
   ]
  },
  {
   "cell_type": "code",
   "execution_count": null,
   "metadata": {},
   "outputs": [],
   "source": [
    "df = pd.read_csv(fn_data_original, sep=',')"
   ]
  },
  {
   "cell_type": "code",
   "execution_count": null,
   "metadata": {},
   "outputs": [],
   "source": [
    "df.head()"
   ]
  },
  {
   "cell_type": "markdown",
   "metadata": {},
   "source": [
    "## Process Dataset "
   ]
  },
  {
   "cell_type": "code",
   "execution_count": null,
   "metadata": {},
   "outputs": [],
   "source": [
    "fields_orig = df.columns.tolist()\n",
    "fields_orig"
   ]
  },
  {
   "cell_type": "code",
   "execution_count": null,
   "metadata": {},
   "outputs": [],
   "source": [
    "remove_columns = [\n",
    "    'keywords',\n",
    "    'activation',\n",
    "    'principal_investigator',\n",
    "    'institution',\n",
    "    'reversible_capacity',\n",
    "    'h_volume_density_theory',\n",
    "    'h_volume_density_experiment',\n",
    "    'h_volume_density_reference',\n",
    "    'temperature_release_reference',\n",
    "    'h_volume_density_reference',\n",
    "    'entry_date',\n",
    "    'precursors'\n",
    "]"
   ]
  },
  {
   "cell_type": "code",
   "execution_count": null,
   "metadata": {},
   "outputs": [],
   "source": [
    "df = df.drop(remove_columns, axis=1)"
   ]
  },
  {
   "cell_type": "code",
   "execution_count": null,
   "metadata": {},
   "outputs": [],
   "source": [
    "# concatenate synthesis_method and synthesis_conditions together because\n",
    "# there is inconsistent information between the two"
   ]
  },
  {
   "cell_type": "code",
   "execution_count": null,
   "metadata": {},
   "outputs": [],
   "source": [
    "df['synthesis_information'] = df['synthesis_method'] + ': ' + df['synthesis_conditions']"
   ]
  },
  {
   "cell_type": "code",
   "execution_count": null,
   "metadata": {},
   "outputs": [],
   "source": [
    "df = df.drop(['synthesis_method', 'synthesis_conditions'], axis=1)"
   ]
  },
  {
   "cell_type": "code",
   "execution_count": null,
   "metadata": {},
   "outputs": [],
   "source": [
    "string_columns = list(df.select_dtypes(include=['object']).columns)"
   ]
  },
  {
   "cell_type": "code",
   "execution_count": null,
   "metadata": {},
   "outputs": [],
   "source": [
    "df[string_columns] = df[string_columns].apply(lambda x: x.str.strip())"
   ]
  },
  {
   "cell_type": "code",
   "execution_count": null,
   "metadata": {},
   "outputs": [],
   "source": [
    "fields_clean = df.columns.tolist()"
   ]
  },
  {
   "cell_type": "code",
   "execution_count": null,
   "metadata": {},
   "outputs": [],
   "source": [
    "fields_clean"
   ]
  },
  {
   "cell_type": "markdown",
   "metadata": {},
   "source": [
    "## 3. Save Dataframe"
   ]
  },
  {
   "cell_type": "code",
   "execution_count": null,
   "metadata": {},
   "outputs": [],
   "source": [
    "fn_data_csv = \"data_clean.csv\""
   ]
  },
  {
   "cell_type": "code",
   "execution_count": null,
   "metadata": {},
   "outputs": [],
   "source": [
    "df.to_csv(fn_data_csv, index=False)"
   ]
  },
  {
   "cell_type": "markdown",
   "metadata": {},
   "source": [
    "## 4. Load Clean DataFrame"
   ]
  },
  {
   "cell_type": "code",
   "execution_count": null,
   "metadata": {},
   "outputs": [],
   "source": [
    "fn_data_csv = \"data_clean.csv\""
   ]
  },
  {
   "cell_type": "code",
   "execution_count": null,
   "metadata": {},
   "outputs": [],
   "source": [
    "df = pd.read_csv(fn_data_csv)"
   ]
  },
  {
   "cell_type": "markdown",
   "metadata": {},
   "source": [
    "## 5. Create Meta.yaml"
   ]
  },
  {
   "cell_type": "code",
   "execution_count": null,
   "metadata": {},
   "outputs": [],
   "source": [
    "meta = {\n",
    "    \"name\": \"h2_storage_reversible_hydrides\",  # unique identifier, we will also use this for directory names\n",
    "    \"description\": \"synthetic procedures, experimental and theoretical h2 capacities of hydrides\",\n",
    "    \"targets\": [\n",
    "        {\n",
    "            \"id\": \"h_weight_density_theory\",  # name of the column in a tabular dataset\n",
    "            \"description\": \"theoretical hydrogen storage capacity \",  # description of what this column means\n",
    "            \"units\": \"wt%\",  # units of the values in this column (leave empty if unitless)\n",
    "            \"type\": \"continuous\",  # can be \"categorical\", \"ordinal\", \"continuous\"\n",
    "            \"names\": [  # names for the property (to sample from for building the prompts)\n",
    "                \"theoretical hydrogen storage weight density\",\n",
    "            ],\n",
    "        },\n",
    "        {\n",
    "            \"id\": \"h_weight_density_experiment\",  # name of the column in a tabular dataset\n",
    "            \"description\": \"experimental hydrogen storage capacity\",  # description of what this column means\n",
    "            \"units\": \"wt%\",  # units of the values in this column (leave empty if unitless)\n",
    "            \"type\": \"continuous\",  # can be \"categorical\", \"ordinal\", \"continuous\"\n",
    "            \"names\": [  # names for the property (to sample from for building the prompts)\n",
    "                \"experimental hyrdogen storage capacity\",\n",
    "            ],\n",
    "        },\n",
    "        {\n",
    "            \"id\": \"synthetic_information\",  # name of the column in a tabular dataset\n",
    "            \"description\": \"brief description of synthetic procedure\",  # description of what this column means\n",
    "            \"units\": None,  # units of the values in this column (leave empty if unitless)\n",
    "            \"type\": \"string\",  # can be \"categorical\", \"ordinal\", \"continuous\"\n",
    "            \"names\": [  # names for the property (to sample from for building the prompts)\n",
    "                \"synthetic procedure\",\n",
    "            ],\n",
    "        },\n",
    "    ],\n",
    "    \"identifiers\": [\n",
    "        {\n",
    "            \"id\": \"material_name\",  # column name\n",
    "            \"type\": \"IUPAC\",  # can be \"SMILES\", \"SELFIES\", \"IUPAC\", \"OTHER\"\n",
    "            \"description\": \"chemical name\",  # description (optional, except for \"OTHER\")\n",
    "        },\n",
    "        {\n",
    "            \"id\": \"chemical_formula\",\n",
    "            \"type\": \"formula\",\n",
    "            \"description\": \"chemical formulas\",\n",
    "        },\n",
    "    ],\n",
    "    \"license\": \"No License Provided\",  # license under which the original dataset was published\n",
    "    \"links\": [  # list of relevant links (original dataset, other uses, etc.)\n",
    "        {\n",
    "            \"url\": 'https://datahub.hymarc.org/dataset/hydrogen-storage-materials-db/resource/4ef1c494-366e-43a3-bed4-a3985de5c374',\n",
    "            \"description\": \"website with source data\",\n",
    "        },\n",
    "        {\n",
    "            \"url\": \"https://datahub.hymarc.org/dataset/ad580d95-e7e2-4ef4-a7f6-3b2f91a96eba/resource/4ef1c494-366e-43a3-bed4-a3985de5c374/download/hydstormatdb-reversible_hydrides.csv\",\n",
    "            \"description\": \"original_dataset\",\n",
    "        },\n",
    "    ],\n",
    "    \"num_points\": len(df),  # number of datapoints in this dataset\n",
    "    \"bibtex\": [\n",
    "        \"\"\"@online{hymarcReversibleHydrides,\n",
    "        title={Hydrogen Storage Materials Database Reversible Hydrides},\n",
    "        author={HyMARC},\n",
    "        year={2019}\"\"\",\n",
    "    ],\n",
    "}"
   ]
  },
  {
   "cell_type": "code",
   "execution_count": null,
   "metadata": {},
   "outputs": [],
   "source": [
    "fn_meta = \"meta.yaml\""
   ]
  },
  {
   "cell_type": "code",
   "execution_count": null,
   "metadata": {},
   "outputs": [],
   "source": [
    "with open(fn_meta, \"w\") as f:\n",
    "    yaml.dump(meta, f, sort_keys=False)"
   ]
  },
  {
   "cell_type": "markdown",
   "metadata": {},
   "source": [
    "## 6. Create Transform"
   ]
  },
  {
   "cell_type": "code",
   "execution_count": 4,
   "metadata": {},
   "outputs": [],
   "source": [
    "path_file = \"transform.py\""
   ]
  },
  {
   "cell_type": "code",
   "execution_count": 5,
   "metadata": {},
   "outputs": [
    {
     "name": "stdout",
     "output_type": "stream",
     "text": [
      "Overwriting transform.py\n"
     ]
    }
   ],
   "source": [
    "%%writefile $path_file\n",
    "import pandas as pd\n",
    "import requests\n",
    "import yaml\n",
    "\n",
    "\n",
    "def get_and_transform_data():\n",
    "    # get raw data\n",
    "    data_path = ('https://datahub.hymarc.org/dataset/'\n",
    "              'ad580d95-e7e2-4ef4-a7f6-3b2f91a96eba/resource/'\n",
    "              '4ef1c494-366e-43a3-bed4-a3985de5c374/download/hydstormatdb-reversible_hydrides.csv'\n",
    "             )  \n",
    "    fn_data_original = \"data_original.txt\"\n",
    "    data = requests.get(data_path)\n",
    "    with open(fn_data_original, \"wb\") as f:\n",
    "        f.write(data.content)\n",
    "\n",
    "    # create dataframe\n",
    "    df = pd.read_csv(fn_data_original, sep=',')\n",
    "\n",
    "    # check if fields are the same\n",
    "    fields_orig = df.columns.tolist()\n",
    "    assert fields_orig == [\n",
    "        'material_type',\n",
    "        'material_name',\n",
    "        'chemical_formula',\n",
    "        'keywords',\n",
    "        'synthesis_method',\n",
    "        'synthesis_conditions',\n",
    "        'precursors',\n",
    "        'activation',\n",
    "        'principal_investigator',\n",
    "        'entry_date',\n",
    "        'institution',\n",
    "        'reversible_capacity',\n",
    "        'h_weight_density_theory',\n",
    "        'h_weight_density_experiment',\n",
    "        'h_weight_density_reference',\n",
    "        'h_volume_density_theory',\n",
    "        'h_volume_density_experiment',\n",
    "        'h_volume_density_reference',\n",
    "        'temperature_onset_release',\n",
    "        'temperature_full_release',\n",
    "        'temperature_release_reference',\n",
    "    ]\n",
    "\n",
    "    # clean data\n",
    "    remove_columns = [\n",
    "        'keywords',\n",
    "        'activation',\n",
    "        'principal_investigator',\n",
    "        'institution',\n",
    "        'reversible_capacity',\n",
    "        'h_volume_density_theory',\n",
    "        'h_volume_density_experiment',\n",
    "        'h_volume_density_reference',\n",
    "        'temperature_release_reference',\n",
    "        'h_volume_density_reference',\n",
    "        'entry_date',\n",
    "        'precursors'\n",
    "]\n",
    "    df = df.drop(remove_columns, axis=1)\n",
    "    \n",
    "    df['synthesis_information'] = df['synthesis_method'] + ': ' + df['synthesis_conditions']\n",
    "    df = df.drop(['synthesis_method', 'synthesis_conditions'], axis=1)\n",
    "\n",
    "    string_columns = list(df.select_dtypes(include=['object']).columns)\n",
    "    df[string_columns] = df[string_columns].apply(lambda x: x.str.strip())\n",
    "\n",
    "    fn_data_csv = \"data_clean.csv\"\n",
    "    df.to_csv(fn_data_csv, index=False)\n",
    "\n",
    "    # create meta yaml\n",
    "    meta = {\n",
    "        \"name\": \"h2_storage_reversible_hydrides\",  # unique identifier, we will also use this for directory names\n",
    "        \"description\": \"synthetic procedures, experimental and theoretical h2 capacities of hydrides\",\n",
    "        \"targets\": [\n",
    "            {\n",
    "                \"id\": \"h_weight_density_theory\",  # name of the column in a tabular dataset\n",
    "                \"description\": \"theoretical hydrogen storage capacity\",  # description of what this column means\n",
    "                \"units\": \"wt%\",  # units of the values in this column (leave empty if unitless)\n",
    "                \"type\": \"continuous\",  # can be \"categorical\", \"ordinal\", \"continuous\"\n",
    "                \"names\": [  # names for the property (to sample from for building the prompts)\n",
    "                    \"theoretical hydrogen storage weight density\",\n",
    "                ],\n",
    "            },\n",
    "            {\n",
    "                \"id\": \"h_weight_density_experiment\",  # name of the column in a tabular dataset\n",
    "                \"description\": \"experimental hydrogen storage capacity\",  # description of what this column means\n",
    "                \"units\": \"wt%\",  # units of the values in this column (leave empty if unitless)\n",
    "                \"type\": \"continuous\",  # can be \"categorical\", \"ordinal\", \"continuous\"\n",
    "                \"names\": [  # names for the property (to sample from for building the prompts)\n",
    "                    \"experimental hydrogen storage capacity\",\n",
    "                ],\n",
    "            },\n",
    "            {\n",
    "                \"id\": \"synthetic_information\",  # name of the column in a tabular dataset\n",
    "                \"description\": \"brief description of synthetic procedure\",  # description of what this column means\n",
    "                \"units\": None,  # units of the values in this column (leave empty if unitless)\n",
    "                \"type\": \"string\",  # can be \"categorical\", \"ordinal\", \"continuous\"\n",
    "                \"names\": [  # names for the property (to sample from for building the prompts)\n",
    "                    \"synthetic procedure\",\n",
    "                ],\n",
    "            },\n",
    "        ],\n",
    "        \"identifiers\": [\n",
    "            {\n",
    "                \"id\": \"material_name\",  # column name\n",
    "                \"type\": \"IUPAC\",  # can be \"SMILES\", \"SELFIES\", \"IUPAC\", \"OTHER\"\n",
    "                \"description\": \"chemical name\",  # description (optional, except for \"OTHER\")\n",
    "            },\n",
    "            {\n",
    "                \"id\": \"chemical_formula\",\n",
    "                \"type\": \"formula\",\n",
    "                \"description\": \"chemical formulas\",\n",
    "            },\n",
    "        ],\n",
    "        \"license\": \"No License Provided\",  # license under which the original dataset was published\n",
    "        \"links\": [  # list of relevant links (original dataset, other uses, etc.)\n",
    "            {\n",
    "                \"url\": (\n",
    "                    'https://datahub.hymarc.org/dataset/'\n",
    "                    'hydrogen-storage-materials-db/resource/4ef1c494-366e-43a3-bed4-a3985de5c374'),\n",
    "                \"description\": \"website with source data\",\n",
    "            },\n",
    "            {\n",
    "                \"url\": (\n",
    "                    'https://datahub.hymarc.org/dataset/'\n",
    "                    'ad580d95-e7e2-4ef4-a7f6-3b2f91a96eba/resource/'\n",
    "                    '4ef1c494-366e-43a3-bed4-a3985de5c374/download/hydstormatdb-reversible_hydrides.csv'\n",
    "                ),\n",
    "                \"description\": \"original_dataset\",\n",
    "            },\n",
    "        ],\n",
    "        \"num_points\": len(df),  # number of datapoints in this dataset\n",
    "        \"bibtex\": [\n",
    "            \"\"\"@online{hymarcReversibleHydrides,\n",
    "            title={Hydrogen Storage Materials Database Reversible Hydrides},\n",
    "            author={HyMARC},\n",
    "            year={2019}\"\"\",\n",
    "        ],\n",
    "    }\n",
    "\n",
    "    fn_meta = \"meta.yaml\"\n",
    "    with open(fn_meta, \"w\") as f:\n",
    "        yaml.dump(meta, f, sort_keys=False)\n",
    "\n",
    "    print(f\"Finished processing {meta['name']} dataset!\")\n",
    "\n",
    "\n",
    "if __name__ == \"__main__\":\n",
    "    get_and_transform_data()"
   ]
  },
  {
   "cell_type": "markdown",
   "metadata": {},
   "source": [
    "## Run transform"
   ]
  },
  {
   "cell_type": "code",
   "execution_count": 6,
   "metadata": {},
   "outputs": [
    {
     "name": "stdout",
     "output_type": "stream",
     "text": [
      "/bin/bash: /opt/anaconda/envs/Python3/lib/libtinfo.so.6: no version information available (required by /bin/bash)\n",
      "\u001b[1m\n",
      "         .:::.     .::.       \n",
      "        ....yy:    .yy.       \n",
      "        :.  .yy.    y.        \n",
      "             :y:   .:         \n",
      "             .yy  .:          \n",
      "              yy..:           \n",
      "              :y:.            \n",
      "              .y.             \n",
      "             .:.              \n",
      "        ....:.                \n",
      "        :::.                  \n",
      "\u001b[0;33m\n",
      "• Project files and data should be stored in /project. This is shared among everyone\n",
      "  in the project.\n",
      "• Personal files and configuration should be stored in /home/faculty.\n",
      "• Files outside /project and /home/faculty will be lost when this server is terminated.\n",
      "• Create custom environments to setup your servers reproducibly.\n",
      "\u001b[0m\n",
      "bash: /opt/anaconda/envs/Python3/lib/libtinfo.so.6: no version information available (required by bash)\n",
      "Finished processing h2_storage_reversible_hydrides dataset!\n"
     ]
    }
   ],
   "source": [
    "!python3 transform.py"
   ]
  },
  {
   "cell_type": "code",
   "execution_count": null,
   "metadata": {},
   "outputs": [],
   "source": []
  }
 ],
 "metadata": {
  "kernelspec": {
   "display_name": "Python [conda env:Python3] *",
   "language": "python",
   "name": "conda-env-Python3-py"
  },
  "language_info": {
   "codemirror_mode": {
    "name": "ipython",
    "version": 3
   },
   "file_extension": ".py",
   "mimetype": "text/x-python",
   "name": "python",
   "nbconvert_exporter": "python",
   "pygments_lexer": "ipython3",
   "version": "3.9.15"
  }
 },
 "nbformat": 4,
 "nbformat_minor": 2
}
