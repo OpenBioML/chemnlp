{
 "cells": [
  {
   "cell_type": "code",
   "execution_count": 5,
   "metadata": {},
   "outputs": [
    {
     "name": "stderr",
     "output_type": "stream",
     "text": [
      "Found cached dataset json (/Users/kevinmaikjablonka/.cache/huggingface/datasets/marianna13___json/marianna13--mattermodeling-stackexchange-0a5cf941385f839d/0.0.0/e347ab1c932092252e717ff3f949105a4dd28b27e842dd53157d2f72e276c2e4)\n"
     ]
    },
    {
     "data": {
      "application/vnd.jupyter.widget-view+json": {
       "model_id": "d486d70a9e9d4887a137471db57c9c02",
       "version_major": 2,
       "version_minor": 0
      },
      "text/plain": [
       "  0%|          | 0/1 [00:00<?, ?it/s]"
      ]
     },
     "metadata": {},
     "output_type": "display_data"
    }
   ],
   "source": [
    "from datasets import load_dataset\n",
    "\n",
    "dataset = load_dataset(\"marianna13/mattermodeling-stackexchange\")"
   ]
  },
  {
   "cell_type": "code",
   "execution_count": 6,
   "metadata": {},
   "outputs": [],
   "source": [
    "df = dataset['train'].to_pandas()"
   ]
  },
  {
   "cell_type": "code",
   "execution_count": 7,
   "metadata": {},
   "outputs": [
    {
     "data": {
      "text/plain": [
       "array([array(['\\nFirst I will try to directly answer this question:\\n\\n\\n\\n> \\n> In terms of energy, how are van der Waals forces modelled (are there\\n>  formulas that govern these)?\\n> \\n> \\n> \\n\\n\\nThe most common way to model the potential energy between two ground state (S-state) atoms that are far apart, is by the London dispersion formula:\\n\\n\\n$$V(r) = -\\\\frac{C\\\\_6}{r^6}$$\\n\\n\\nwhere $C\\\\_6$ depends on the dipole polarizabilities ($\\\\alpha\\\\_1$ and $\\\\alpha\\\\_2$) of the two atoms. One decent approximation is the Slater-Kirkwood formula:\\n\\n\\n$$C\\\\_6 \\\\approx \\\\frac{3}{2}\\\\frac{I\\\\_1I\\\\_2}{I\\\\_1+I\\\\_2}\\\\alpha\\\\_1\\\\alpha\\\\_2$$\\nwhere $I\\\\_1$ and $I\\\\_2$ are the first ionization potentials of the atoms.\\n\\n\\nHowever the London dispersion potential is not the only one:\\n\\n\\n* The Casimir-Polder potential is used in the relativistic regime, and it\\'s often closer to $C\\\\_7/r^7$\\n* The resonance dipole-dipole potential: $C\\\\_3/r^3$ used between S-state and P-state atoms\\n* If one particle is charged you can get: $C\\\\_4/r^4$ as in [Eq. 2 of this paper of mine](https://arxiv.org/pdf/1410.4895.pdf).\\n\\n\\n\\n> \\n> In molecular mechanics, how are van der Waals forces modelled?\\n> \\n> \\n> \\n\\n\\nMost often the $C\\\\_6/r^6$ formula is used, which is reasonable unless dealing with ions, or excited states, or extremely long-range (relativistic) situations. However this formula is for two particles that are very far apart, and we need a force to go the other way when particles are too close to each other, and that is where the 1924 Lennard-Jones potential enters (it has already been written by AloneProgrammer, but in a different way):\\n\\n\\n$$V(r) = \\\\frac{C\\\\_{12}}{r^{12}}-\\\\frac{C\\\\_6}{r^6}$$\\n\\n\\n**While the $r^6$ has rigorous theoretical foundations, the $r^{12}$ does not**, but in molecular mechanics calculations, this function might need to be evaluated billions of times, so it is convenient that once you\\'ve calculated `temp=r^6` in your computer program, you can just do `temp2=temp*temp` to get $r^{12}$. This might sound crazy now, but the earliest computers were so slow that being able to reuse the calculation $r^6$ in order to take a short cut to calculate $r^{12}$, actually made a big difference, and the most high-performance codes, even today, still use this short-cut.\\n\\n\\n\\n\\n---\\n\\n\\nHowever, now we have to address the [comment of Charlie Crown](https://materials.stackexchange.com/questions/9/in-molecular-mechanics-how-are-van-der-waals-forces-modelled#comment409_9):\\n\\n\\n\\n> \\n> LJ and EXP6 are merely two of the most cliche ways. They are both very\\n>  simple and easy to use, but neither is all that great. LJ is too steep\\n>  at close distances and EXP6 is unphysical at small distances\\n> \\n> \\n> \\n\\n\\nThis is exactly what I told you: $C\\\\_6/r^6$ is only valid when the atoms are very far apart, and $C\\\\_{12}/r^{12}$ has no physical foundation at all (it is simply convenient since $(r^6)^2=r^{12}$.\\n\\n\\nAloneProgrammer gave the Morse potential (from 1929) which is actually really good when the atoms are closer together:\\n\\n\\n$$V(r) = D\\\\_e\\\\left(1 - e^{\\\\beta(r-r\\\\_e)}\\\\right)^2$$\\n\\n\\nwhere $r\\\\_e$ is the inter-atomic distance at equilibrium, $D\\\\_e$ is the \"Depth at equilibrium\" and $\\\\beta$ controls the shape. While this is good at short-range, it is bad at long-range, because if you work out the asymptotic behaviour as $r\\\\rightarrow \\\\infty$ you will see that it decays exponentially, when in fact we know it should decay with an inverse-power (proportional to $1/r^6$), and exponentials behave very differently from inverse-power functions.\\n\\n\\n**The solution is the [Morse/long-range function](https://en.wikipedia.org/wiki/Morse/Long-range_potential) or MLR, which was introduced by [Bob LeRoy and myself in 2009](https://aip.scitation.org/doi/10.1063/1.3264688)** \\n\\n\\nIt looks exactly like the Morse potential when $r$ is close to $r\\\\_e$ (when the system is close to equilibrium). But if you calculate the form of the function as $\\\\lim\\\\limits\\\\_{r\\\\rightarrow \\\\infty}$, you literally get $V(r) \\\\rightarrow -u(r)$ where $u(r)$ can be anything you want: $C\\\\_6/r^6$, $C\\\\_3/r^3$, $C\\\\_4/r^4$, etc.\\n\\n\\n**Therefore the MLR potential is Morse-like near equilibrium, and LJ-like when far from equilibrium, which is exactly what Charlie Crown said was problematic if you use pure Morse or pure Lennard-Jones.**\\n\\n\\nThe MLR potential isn\\'t used in mainstream molecular mechanics calculations, because evaluating the function would be slower than simply using the $(r^6)^2=r^{12}$ trick (which makes calculations very fast when using the LJ potential). The MLR potential is more accurate though, and solves the problem of the LJ being wrong at equilibrium and the Morse being wrong when far from equilibrium, so it can give more accurate results. Often there\\'s so many approximations going on in molecular mechanics that it doesn\\'t hurt to use the LJ potential which both other answers mentioned already. The MLR tends to be used for high-precision spectroscopy more than for molecular mechanics, but it\\'s an option if one wanted more accurate results.\\n\\n\\n',\n",
       "              '20'], dtype=object)                                                                                                                                                                                                                                                                                                                                                                                                                                                                                                                                                                                                                                                                                                                                                                                                                                                                                                                                                                                                                                                                                                                                                                                                                                                                                                                                                                                                                                                                                                                                                                                                                                                                                                                                                                                                                                                                                                                                                                                                                                                                                                                                                                                                                                                                                                                                                                                                                                                                                                                                                                                                                                                                                                                                                                                                                                                                                                                                                                                                                                                                                                                                                                                                                                                                                                                                                                                                                                                                                                                                                                                                                                                                                                                                                                                                                                                                                                                                                                                                                                                                                                                                                                                                                                                                                                                                                                                                                                                                                                                                                                                                                                                                                                                                                                                                                                                                                                                                                                                                                                                                                                                                                                                                                                                                                                                  ,\n",
       "       array([\"\\nAdditional to Alone Programmer's answer. The Lennard-Jones Potential (LJ 12-6) is the standard, but is not unique, in some cases the factor of 6 is changed to 8 to simulate better the hydrogen bonds. \\nAlso, there is the Buckingham potential, where the repulsion part ($r^{12}$ term) is modified to the exponential term. But the attractive long-range term ($r^{6}$) is the same.\\n\\n\\nLJ 12-6 fits very well for the potential energy surface of a noble gas dimer. The epsilon term is the maximum depth of the curve, and sigma is the radius where the potential energy is zero (short distance). When the LJ is used to simulate the interaction of different atomic species, there is not a rule to determine the sigma and epsilon terms... and there are geometrical and arithmetic averages, using the values for the same-species interaction for each atom.\\n\\n\\n\",\n",
       "              '23'], dtype=object)                                                                                                                                                                                                                                                                                                                                                                                                                                                                                                                                                                                                                                                                                                                                                                                                                                                                      ,\n",
       "       array([\"\\nYou are looking for [Lennard-Jones potential](https://en.wikipedia.org/wiki/Lennard-Jones_potential). Basically, the interatomic interaction is modeled by this formula:\\n\\n\\n$$U(r) = 4 \\\\epsilon \\\\Bigg [ \\\\Big ( \\\\frac{\\\\sigma}{r} \\\\Big )^{12} - \\\\Big ( \\\\frac{\\\\sigma}{r} \\\\Big )^{6} \\\\Bigg ]$$\\n\\n\\nParticularly the term $r^{-6}$ in the above formula describes long-range attraction force based on van der Waals theory.\\n\\n\\n**Update**:\\n\\n\\nI'll elaborate a bit more about my answer here. As Lucas said there is no universal model for capturing the behavior of van der Waals forces and you could generalize the Lennard-Jones potential as:\\n\\n\\n$$U(r) = 4 \\\\epsilon \\\\Bigg [ \\\\Big ( \\\\frac{\\\\sigma}{r} \\\\Big )^{m} - \\\\Big ( \\\\frac{\\\\sigma}{r} \\\\Big )^{n} \\\\Bigg ]$$\\n\\n\\nAs you see, due to the fact that always molecular dynamics boxes are finite in terms of length, no matter how big is your box and how far you molecules are $U(r) \\\\neq 0$. This causes a problem when you put a periodic boundary condition and the image of an atom interacts with itself, which is obviously incorrect. You could modify this Lennard-Jones potential and define a cut off value to reduce $U(r)$ to zero for $r > r\\\\_{c}$ where $r\\\\_{c}$ is the cut off radius, but still induces some other trouble due to non-continuity of force (first derivative of the potential). Another common model to capture van der Waals forces is called soft-potential, defined as:\\n\\n\\n$$U(r) = D\\\\_{e} \\\\Big( 1 - \\\\exp{(-a(r-r\\\\_{e}))} \\\\Big)^{2}$$\\n\\n\\nThis potential comes from the solution of a quantum harmonic oscillator. $D\\\\_{e}$ is the height of the potential well, and $a$ controls its width. \\n\\n\\n\",\n",
       "              '20'], dtype=object)                                                                                                                                                                                                                                                                                                                                                                                                                                                                                                                                                                                                                                                                                                                                                                                                                                                                                                                                                                                                                                                                                                                                                                                                                                                                                                                                                                                                                                                                                                                                                                                                                                                                                                                    ],\n",
       "      dtype=object)"
      ]
     },
     "execution_count": 7,
     "metadata": {},
     "output_type": "execute_result"
    }
   ],
   "source": [
    "df.iloc[3361]['answers']"
   ]
  },
  {
   "cell_type": "code",
   "execution_count": 8,
   "metadata": {},
   "outputs": [],
   "source": [
    "import pandas as pd"
   ]
  },
  {
   "cell_type": "code",
   "execution_count": 9,
   "metadata": {},
   "outputs": [],
   "source": [
    "def remove_repeated_almost_empty_lines(text):\n",
    "    # in text remove lines that are almost empty and repeated\n",
    "    # almost empty means that there is only punctuation, or special characters or spaces\n",
    "    # repeated means that the line is the same as the previous one\n",
    "    # return the text without the repeated almost empty lines\n",
    "    lines = text.split('\\n')\n",
    "    new_lines = []\n",
    "    previous_line = ''\n",
    "    for line in lines:\n",
    "        if line.strip() == '':\n",
    "            continue\n",
    "        if line.strip() == previous_line:\n",
    "            continue\n",
    "        new_lines.append(line)\n",
    "        previous_line = line.strip()\n",
    "    return '\\n'.join(new_lines)"
   ]
  },
  {
   "cell_type": "code",
   "execution_count": 10,
   "metadata": {},
   "outputs": [],
   "source": [
    "questions_w_answer = []\n",
    "\n",
    "# we do the following, if there is no answer, we drop this question \n",
    "# if there is one answer, we keep it\n",
    "# if there are multiple we keep the ones that do not have a score of 0\n",
    "# the answers are in an array of arrays, the first element is the answer, the second is the score\n",
    "# we then also only keep two columns, the question and the answer, both as string on which we also \n",
    "# call the strip function to remove leading and trailing whitespaces\n",
    "\n",
    "for i, row in df.iterrows():\n",
    "    if len(row['answers']) == 0:\n",
    "        continue\n",
    "    if len(row['answers']) == 1:\n",
    "        questions_w_answer.append([remove_repeated_almost_empty_lines(row['question_text'].strip()), remove_repeated_almost_empty_lines(row['answers'][0][0].strip())])\n",
    "    else:\n",
    "        for answer in row['answers']:\n",
    "            if answer[1] != 0:\n",
    "                questions_w_answer.append([remove_repeated_almost_empty_lines(row['question_text'].strip()), remove_repeated_almost_empty_lines(answer[0].strip())])\n",
    "                break\n",
    "\n",
    "# we then create a dataframe from the list of questions and answers\n",
    "df_qa = pd.DataFrame(questions_w_answer, columns=['q', 'a'])"
   ]
  },
  {
   "cell_type": "code",
   "execution_count": 11,
   "metadata": {},
   "outputs": [
    {
     "name": "stdout",
     "output_type": "stream",
     "text": [
      "It would be better to use the word SOMO (Singly Occupied Molecular Orbital), not HOMO. Now assume that you have two SOMOs (or SOMO and SOMO-1 if you prefer). Here are my suggestions:\n",
      "The first thing to do is to check the wave function stability of ROB3LYP, and see whether a lower-energy ROB3LYP wave function can be obtained. Quantum chemistry packages [PySCF](https://github.com/pyscf/pyscf), [PSI4](https://github.com/psi4/psi4), and [AMESP](https://amesp.xyz) support that. If you are not using these packages, you can use [MOKIT](https://gitlab.com/jxzou/mokit) to transfer MOs into those packages. Here is [an example](http://bbs.keinsci.com/thread-27143-1-1.html) about checking ROHF/RODFT wave function stability (written in Chinese, but you can understand English words therein).\n",
      "Assuming now you've obtained a stable ROB3LYP wave function, and yet the problem is not solved. The molecule you studied may be complicated in electronic-structure and there may exist multiple stable ROB3LYP SCF solutions. Here are some ways to find them: (1) Perform a triplet UB3LYP calculation and make sure you obtain a stable UB3LYP SCF solution, generate UB3LYP NOs (UNO for short), and use UNO as the initial guess of ROB3LYP calculation. (2) Perform spin population analysis using the current ROB3LYP wave function, visualize orbitals near SOMO, see if the electronic configuration is what you expected (e.g. 3d^6 or 3d^5 4s^1 for Fe); if not, permute/alter orbitals and re-perform SCF.\n",
      "Assuming you've tried all approaches above, and yet the problem is not solved. The possible reason is that the definition of the Fock operator in ROHF/RODFT method is not unique, this makes the SOMO orbital energy differ in various quantum chemistry packages, although with the same total electronic energy. You can use another package (i.e. change the definition of the Fock operator), the problem may disappear. But in such case, it would be better to use the multiconfigurational/multireference methods (CASSCF, NEVPT2, etc).\n",
      "By the way, using LANL2DZ for all atoms may be outdated and not a good choice. If you insist on using the LANL2 series, LANL2TZ(f) is recommended. def2-TZVP is also good. It is also possible that your problem disappear after using a good/proper basis set.\n"
     ]
    }
   ],
   "source": [
    "print(remove_repeated_almost_empty_lines(df_qa.iloc[5]['a']))"
   ]
  },
  {
   "cell_type": "code",
   "execution_count": 12,
   "metadata": {},
   "outputs": [
    {
     "data": {
      "text/plain": [
       "2571"
      ]
     },
     "execution_count": 12,
     "metadata": {},
     "output_type": "execute_result"
    }
   ],
   "source": [
    "len(df_qa)"
   ]
  },
  {
   "cell_type": "code",
   "execution_count": null,
   "metadata": {},
   "outputs": [],
   "source": []
  },
  {
   "cell_type": "code",
   "execution_count": null,
   "metadata": {},
   "outputs": [],
   "source": []
  }
 ],
 "metadata": {
  "kernelspec": {
   "display_name": "chemnlp",
   "language": "python",
   "name": "python3"
  },
  "language_info": {
   "codemirror_mode": {
    "name": "ipython",
    "version": 3
   },
   "file_extension": ".py",
   "mimetype": "text/x-python",
   "name": "python",
   "nbconvert_exporter": "python",
   "pygments_lexer": "ipython3",
   "version": "3.8.16"
  },
  "orig_nbformat": 4
 },
 "nbformat": 4,
 "nbformat_minor": 2
}
