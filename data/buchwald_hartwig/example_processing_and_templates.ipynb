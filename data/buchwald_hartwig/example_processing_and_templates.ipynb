{
 "cells": [
  {
   "attachments": {},
   "cell_type": "markdown",
   "id": "27c08f91-3fa0-4800-8f6a-96a96f665cad",
   "metadata": {},
   "source": [
    "# Buchwald-Hartwig Reaction Yield Dataset"
   ]
  },
  {
   "attachments": {},
   "cell_type": "markdown",
   "id": "6ef172b9-aad2-47da-bf4c-844a2a07ee8c",
   "metadata": {},
   "source": [
    "Original data repository: https://github.com/doylelab/rxnpredict\n",
    "\n",
    "Data from: https://github.com/reymond-group/drfp/tree/main/data"
   ]
  },
  {
   "cell_type": "markdown",
   "id": "7d18c95d-2ec6-45e1-addc-54a890097b8e",
   "metadata": {},
   "source": [
    "# Imports"
   ]
  },
  {
   "cell_type": "code",
   "execution_count": 21,
   "id": "cf59e3e9-8061-4022-9eae-e978311b4155",
   "metadata": {
    "tags": []
   },
   "outputs": [],
   "source": [
    "import pandas as pd\n",
    "import yaml\n",
    "from rdkit import Chem # 2022.9.5\n",
    "from rdkit.Chem import rdChemReactions"
   ]
  },
  {
   "cell_type": "markdown",
   "id": "a6751ff9-2e3e-4d01-8395-7a5ae0c200d7",
   "metadata": {},
   "source": [
    "# Data processing"
   ]
  },
  {
   "cell_type": "markdown",
   "id": "a1169ad2-e4bb-41c6-9625-6d1644c44a5b",
   "metadata": {},
   "source": [
    "## Download data"
   ]
  },
  {
   "cell_type": "code",
   "execution_count": 7,
   "id": "7bb8eb5e-f513-40d2-a68c-7cda1a51ad31",
   "metadata": {
    "tags": []
   },
   "outputs": [],
   "source": [
    "fn_data_original = \"Dreher_and_Doyle_input_data.csv\""
   ]
  },
  {
   "cell_type": "code",
   "execution_count": 8,
   "id": "b39a142e-ccbc-49d2-98b0-a5f9bde9fd27",
   "metadata": {
    "tags": []
   },
   "outputs": [],
   "source": [
    "data = pd.read_excel('https://github.com/reymond-group/drfp/raw/main/data/Dreher_and_Doyle_input_data.xlsx')"
   ]
  },
  {
   "cell_type": "code",
   "execution_count": 9,
   "id": "26d9f62a-07f5-4113-8161-d5dfcf0bfb71",
   "metadata": {
    "tags": []
   },
   "outputs": [],
   "source": [
    "data.to_csv(fn_data_original, index=False)"
   ]
  },
  {
   "cell_type": "code",
   "execution_count": 10,
   "id": "43873fc3-20a8-487d-a7c5-33bd58414159",
   "metadata": {
    "tags": []
   },
   "outputs": [
    {
     "name": "stdout",
     "output_type": "stream",
     "text": [
      "total 1344\n",
      "-rw-r--r--  1 pschwllr  staff   618K Mar  8 22:34 Dreher_and_Doyle_input_data.csv\n",
      "-rw-r--r--  1 pschwllr  staff    38K Mar  8 22:13 example_processing_and_templates.ipynb\n",
      "-rw-r--r--  1 pschwllr  staff   1.6K Mar  8 22:13 meta.yaml\n",
      "-rw-r--r--  1 pschwllr  staff   4.5K Mar  8 22:13 transform.py\n"
     ]
    }
   ],
   "source": [
    "!ls -lh"
   ]
  },
  {
   "cell_type": "markdown",
   "id": "d9cda29a-a133-4f0e-992b-e77c9070ee93",
   "metadata": {},
   "source": [
    "## Load original data"
   ]
  },
  {
   "cell_type": "code",
   "execution_count": 11,
   "id": "77f614e7-b133-40bc-8759-2d930e4c120e",
   "metadata": {
    "tags": []
   },
   "outputs": [
    {
     "name": "stdout",
     "output_type": "stream",
     "text": [
      "Ligand,Additive,Base,Aryl halide,Output\n",
      "CC(C)C(C=C(C(C)C)C=C1C(C)C)=C1C2=C(P([C@@]3(C[C@@H]4C5)C[C@H](C4)C[C@H]5C3)[C@]6(C7)C[C@@H](C[C@@H]7C8)C[C@@H]8C6)C(OC)=CC=C2OC,CC1=CC(C)=NO1,CN(C)P(N(C)C)(N(C)C)=NP(N(C)C)(N(C)C)=NCC,ClC1=NC=CC=C1,70.41045785\n",
      "CC(C)C(C=C(C(C)C)C=C1C(C)C)=C1C2=C(P([C@@]3(C[C@@H]4C5)C[C@H](C4)C[C@H]5C3)[C@]6(C7)C[C@@H](C[C@@H]7C8)C[C@@H]8C6)C(OC)=CC=C2OC,O=C(OC)C1=CC=NO1,CN(C)P(N(C)C)(N(C)C)=NP(N(C)C)(N(C)C)=NCC,BrC1=NC=CC=C1,11.06445724\n",
      "CC(C)C(C=C(C(C)C)C=C1C(C)C)=C1C2=C(P(C3CCCCC3)C4CCCCC4)C=CC=C2,O=C(OC)C1=CC=NO1,CN(C)P(N(C)C)(N(C)C)=NP(N(C)C)(N(C)C)=NCC,IC1=CC=C(CC)C=C1,10.22354965\n",
      "CC(C)C(C=C(C(C)C)C=C1C(C)C)=C1C2=C(P(C(C)(C)C)C(C)(C)C)C(OC)=CC=C2OC,CCOC(C1=CON=C1)=O,CN1CCCN2C1=NCCC2,ClC1=CC=C(C(F)(F)F)C=C1,20.0833829\n"
     ]
    }
   ],
   "source": [
    "!head -n 5 {fn_data_original}"
   ]
  },
  {
   "cell_type": "code",
   "execution_count": 50,
   "id": "8f5a0387-f9e3-4e1a-8d14-5df618195f70",
   "metadata": {
    "tags": []
   },
   "outputs": [],
   "source": [
    "df = pd.read_csv(fn_data_original, delimiter=\",\")"
   ]
  },
  {
   "cell_type": "code",
   "execution_count": 51,
   "id": "55b0bd63-62a0-469e-9d8a-e9ada3fe01c4",
   "metadata": {
    "scrolled": true,
    "tags": []
   },
   "outputs": [
    {
     "data": {
      "text/html": [
       "<div>\n",
       "<style scoped>\n",
       "    .dataframe tbody tr th:only-of-type {\n",
       "        vertical-align: middle;\n",
       "    }\n",
       "\n",
       "    .dataframe tbody tr th {\n",
       "        vertical-align: top;\n",
       "    }\n",
       "\n",
       "    .dataframe thead th {\n",
       "        text-align: right;\n",
       "    }\n",
       "</style>\n",
       "<table border=\"1\" class=\"dataframe\">\n",
       "  <thead>\n",
       "    <tr style=\"text-align: right;\">\n",
       "      <th></th>\n",
       "      <th>Ligand</th>\n",
       "      <th>Additive</th>\n",
       "      <th>Base</th>\n",
       "      <th>Aryl halide</th>\n",
       "      <th>Output</th>\n",
       "    </tr>\n",
       "  </thead>\n",
       "  <tbody>\n",
       "    <tr>\n",
       "      <th>0</th>\n",
       "      <td>CC(C)C(C=C(C(C)C)C=C1C(C)C)=C1C2=C(P([C@@]3(C[...</td>\n",
       "      <td>CC1=CC(C)=NO1</td>\n",
       "      <td>CN(C)P(N(C)C)(N(C)C)=NP(N(C)C)(N(C)C)=NCC</td>\n",
       "      <td>ClC1=NC=CC=C1</td>\n",
       "      <td>70.410458</td>\n",
       "    </tr>\n",
       "    <tr>\n",
       "      <th>1</th>\n",
       "      <td>CC(C)C(C=C(C(C)C)C=C1C(C)C)=C1C2=C(P([C@@]3(C[...</td>\n",
       "      <td>O=C(OC)C1=CC=NO1</td>\n",
       "      <td>CN(C)P(N(C)C)(N(C)C)=NP(N(C)C)(N(C)C)=NCC</td>\n",
       "      <td>BrC1=NC=CC=C1</td>\n",
       "      <td>11.064457</td>\n",
       "    </tr>\n",
       "    <tr>\n",
       "      <th>2</th>\n",
       "      <td>CC(C)C(C=C(C(C)C)C=C1C(C)C)=C1C2=C(P(C3CCCCC3)...</td>\n",
       "      <td>O=C(OC)C1=CC=NO1</td>\n",
       "      <td>CN(C)P(N(C)C)(N(C)C)=NP(N(C)C)(N(C)C)=NCC</td>\n",
       "      <td>IC1=CC=C(CC)C=C1</td>\n",
       "      <td>10.223550</td>\n",
       "    </tr>\n",
       "    <tr>\n",
       "      <th>3</th>\n",
       "      <td>CC(C)C(C=C(C(C)C)C=C1C(C)C)=C1C2=C(P(C(C)(C)C)...</td>\n",
       "      <td>CCOC(C1=CON=C1)=O</td>\n",
       "      <td>CN1CCCN2C1=NCCC2</td>\n",
       "      <td>ClC1=CC=C(C(F)(F)F)C=C1</td>\n",
       "      <td>20.083383</td>\n",
       "    </tr>\n",
       "    <tr>\n",
       "      <th>4</th>\n",
       "      <td>CC(C)C(C=C(C(C)C)C=C1C(C)C)=C1C2=C(P([C@@]3(C[...</td>\n",
       "      <td>CC1=CC(C)=NO1</td>\n",
       "      <td>CN1CCCN2C1=NCCC2</td>\n",
       "      <td>ClC1=CC=C(OC)C=C1</td>\n",
       "      <td>0.492663</td>\n",
       "    </tr>\n",
       "  </tbody>\n",
       "</table>\n",
       "</div>"
      ],
      "text/plain": [
       "                                              Ligand           Additive  \\\n",
       "0  CC(C)C(C=C(C(C)C)C=C1C(C)C)=C1C2=C(P([C@@]3(C[...      CC1=CC(C)=NO1   \n",
       "1  CC(C)C(C=C(C(C)C)C=C1C(C)C)=C1C2=C(P([C@@]3(C[...   O=C(OC)C1=CC=NO1   \n",
       "2  CC(C)C(C=C(C(C)C)C=C1C(C)C)=C1C2=C(P(C3CCCCC3)...   O=C(OC)C1=CC=NO1   \n",
       "3  CC(C)C(C=C(C(C)C)C=C1C(C)C)=C1C2=C(P(C(C)(C)C)...  CCOC(C1=CON=C1)=O   \n",
       "4  CC(C)C(C=C(C(C)C)C=C1C(C)C)=C1C2=C(P([C@@]3(C[...      CC1=CC(C)=NO1   \n",
       "\n",
       "                                        Base              Aryl halide  \\\n",
       "0  CN(C)P(N(C)C)(N(C)C)=NP(N(C)C)(N(C)C)=NCC            ClC1=NC=CC=C1   \n",
       "1  CN(C)P(N(C)C)(N(C)C)=NP(N(C)C)(N(C)C)=NCC            BrC1=NC=CC=C1   \n",
       "2  CN(C)P(N(C)C)(N(C)C)=NP(N(C)C)(N(C)C)=NCC         IC1=CC=C(CC)C=C1   \n",
       "3                           CN1CCCN2C1=NCCC2  ClC1=CC=C(C(F)(F)F)C=C1   \n",
       "4                           CN1CCCN2C1=NCCC2        ClC1=CC=C(OC)C=C1   \n",
       "\n",
       "      Output  \n",
       "0  70.410458  \n",
       "1  11.064457  \n",
       "2  10.223550  \n",
       "3  20.083383  \n",
       "4   0.492663  "
      ]
     },
     "execution_count": 51,
     "metadata": {},
     "output_type": "execute_result"
    }
   ],
   "source": [
    "df.head()"
   ]
  },
  {
   "cell_type": "markdown",
   "id": "95158ac1-05d7-4a21-b8e4-7f720306d331",
   "metadata": {},
   "source": [
    "## Add column = field names\n",
    "Clean column names (`fields_clean`) and keep original names (`fields_orig`)"
   ]
  },
  {
   "cell_type": "code",
   "execution_count": 52,
   "id": "ec2458e5-455f-4f03-8ce9-c0d12e9ed371",
   "metadata": {
    "tags": []
   },
   "outputs": [
    {
     "data": {
      "text/plain": [
       "['Ligand', 'Additive', 'Base', 'Aryl halide', 'Output']"
      ]
     },
     "execution_count": 52,
     "metadata": {},
     "output_type": "execute_result"
    }
   ],
   "source": [
    "fields_orig = df.columns.tolist()\n",
    "fields_orig"
   ]
  },
  {
   "cell_type": "code",
   "execution_count": 53,
   "id": "28c9b695",
   "metadata": {},
   "outputs": [],
   "source": [
    "assert fields_orig == ['Ligand', 'Additive', 'Base', 'Aryl halide', 'Output']"
   ]
  },
  {
   "cell_type": "code",
   "execution_count": 54,
   "id": "a46dd8ff-37b3-4894-8226-3bf98226dd09",
   "metadata": {
    "tags": []
   },
   "outputs": [],
   "source": [
    "fields_clean = [\n",
    "    \"ligand\",\n",
    "    \"additive\",\n",
    "    \"base\",\n",
    "    \"aryl_halide\",\n",
    "    'yield'\n",
    "]"
   ]
  },
  {
   "cell_type": "code",
   "execution_count": 55,
   "id": "785d37cb-1fb4-4a91-a923-d5a78a37f36a",
   "metadata": {
    "tags": []
   },
   "outputs": [],
   "source": [
    "df.columns = fields_clean"
   ]
  },
  {
   "cell_type": "code",
   "execution_count": 56,
   "id": "aaad8f07",
   "metadata": {},
   "outputs": [],
   "source": [
    "assert fields_orig != fields_clean"
   ]
  },
  {
   "cell_type": "code",
   "execution_count": 57,
   "id": "1bf212cb-1653-457b-9f5d-416d4dd14b53",
   "metadata": {
    "tags": []
   },
   "outputs": [
    {
     "data": {
      "text/html": [
       "<div>\n",
       "<style scoped>\n",
       "    .dataframe tbody tr th:only-of-type {\n",
       "        vertical-align: middle;\n",
       "    }\n",
       "\n",
       "    .dataframe tbody tr th {\n",
       "        vertical-align: top;\n",
       "    }\n",
       "\n",
       "    .dataframe thead th {\n",
       "        text-align: right;\n",
       "    }\n",
       "</style>\n",
       "<table border=\"1\" class=\"dataframe\">\n",
       "  <thead>\n",
       "    <tr style=\"text-align: right;\">\n",
       "      <th></th>\n",
       "      <th>ligand</th>\n",
       "      <th>additive</th>\n",
       "      <th>base</th>\n",
       "      <th>aryl_halide</th>\n",
       "      <th>yield</th>\n",
       "    </tr>\n",
       "  </thead>\n",
       "  <tbody>\n",
       "    <tr>\n",
       "      <th>0</th>\n",
       "      <td>CC(C)C(C=C(C(C)C)C=C1C(C)C)=C1C2=C(P([C@@]3(C[...</td>\n",
       "      <td>CC1=CC(C)=NO1</td>\n",
       "      <td>CN(C)P(N(C)C)(N(C)C)=NP(N(C)C)(N(C)C)=NCC</td>\n",
       "      <td>ClC1=NC=CC=C1</td>\n",
       "      <td>70.410458</td>\n",
       "    </tr>\n",
       "    <tr>\n",
       "      <th>1</th>\n",
       "      <td>CC(C)C(C=C(C(C)C)C=C1C(C)C)=C1C2=C(P([C@@]3(C[...</td>\n",
       "      <td>O=C(OC)C1=CC=NO1</td>\n",
       "      <td>CN(C)P(N(C)C)(N(C)C)=NP(N(C)C)(N(C)C)=NCC</td>\n",
       "      <td>BrC1=NC=CC=C1</td>\n",
       "      <td>11.064457</td>\n",
       "    </tr>\n",
       "    <tr>\n",
       "      <th>2</th>\n",
       "      <td>CC(C)C(C=C(C(C)C)C=C1C(C)C)=C1C2=C(P(C3CCCCC3)...</td>\n",
       "      <td>O=C(OC)C1=CC=NO1</td>\n",
       "      <td>CN(C)P(N(C)C)(N(C)C)=NP(N(C)C)(N(C)C)=NCC</td>\n",
       "      <td>IC1=CC=C(CC)C=C1</td>\n",
       "      <td>10.223550</td>\n",
       "    </tr>\n",
       "    <tr>\n",
       "      <th>3</th>\n",
       "      <td>CC(C)C(C=C(C(C)C)C=C1C(C)C)=C1C2=C(P(C(C)(C)C)...</td>\n",
       "      <td>CCOC(C1=CON=C1)=O</td>\n",
       "      <td>CN1CCCN2C1=NCCC2</td>\n",
       "      <td>ClC1=CC=C(C(F)(F)F)C=C1</td>\n",
       "      <td>20.083383</td>\n",
       "    </tr>\n",
       "    <tr>\n",
       "      <th>4</th>\n",
       "      <td>CC(C)C(C=C(C(C)C)C=C1C(C)C)=C1C2=C(P([C@@]3(C[...</td>\n",
       "      <td>CC1=CC(C)=NO1</td>\n",
       "      <td>CN1CCCN2C1=NCCC2</td>\n",
       "      <td>ClC1=CC=C(OC)C=C1</td>\n",
       "      <td>0.492663</td>\n",
       "    </tr>\n",
       "  </tbody>\n",
       "</table>\n",
       "</div>"
      ],
      "text/plain": [
       "                                              ligand           additive  \\\n",
       "0  CC(C)C(C=C(C(C)C)C=C1C(C)C)=C1C2=C(P([C@@]3(C[...      CC1=CC(C)=NO1   \n",
       "1  CC(C)C(C=C(C(C)C)C=C1C(C)C)=C1C2=C(P([C@@]3(C[...   O=C(OC)C1=CC=NO1   \n",
       "2  CC(C)C(C=C(C(C)C)C=C1C(C)C)=C1C2=C(P(C3CCCCC3)...   O=C(OC)C1=CC=NO1   \n",
       "3  CC(C)C(C=C(C(C)C)C=C1C(C)C)=C1C2=C(P(C(C)(C)C)...  CCOC(C1=CON=C1)=O   \n",
       "4  CC(C)C(C=C(C(C)C)C=C1C(C)C)=C1C2=C(P([C@@]3(C[...      CC1=CC(C)=NO1   \n",
       "\n",
       "                                        base              aryl_halide  \\\n",
       "0  CN(C)P(N(C)C)(N(C)C)=NP(N(C)C)(N(C)C)=NCC            ClC1=NC=CC=C1   \n",
       "1  CN(C)P(N(C)C)(N(C)C)=NP(N(C)C)(N(C)C)=NCC            BrC1=NC=CC=C1   \n",
       "2  CN(C)P(N(C)C)(N(C)C)=NP(N(C)C)(N(C)C)=NCC         IC1=CC=C(CC)C=C1   \n",
       "3                           CN1CCCN2C1=NCCC2  ClC1=CC=C(C(F)(F)F)C=C1   \n",
       "4                           CN1CCCN2C1=NCCC2        ClC1=CC=C(OC)C=C1   \n",
       "\n",
       "       yield  \n",
       "0  70.410458  \n",
       "1  11.064457  \n",
       "2  10.223550  \n",
       "3  20.083383  \n",
       "4   0.492663  "
      ]
     },
     "execution_count": 57,
     "metadata": {},
     "output_type": "execute_result"
    }
   ],
   "source": [
    "df.head()"
   ]
  },
  {
   "cell_type": "markdown",
   "id": "1bfaeb22-26fb-4964-a71f-cae8335e5372",
   "metadata": {},
   "source": [
    "## Data cleaning"
   ]
  },
  {
   "cell_type": "code",
   "execution_count": 60,
   "id": "7e746003-cb1f-434f-bba6-00f0c439c4ac",
   "metadata": {
    "tags": []
   },
   "outputs": [],
   "source": [
    "def generate_buchwald_hartwig_rxns(df):\n",
    "    \"\"\"\n",
    "    Converts the entries in the excel files to reaction SMILES.\n",
    "    From: https://github.com/reymond-group/drfp/blob/main/scripts/encoding/encode_buchwald_hartwig_reactions.py\n",
    "    and https://github.com/rxn4chemistry/rxn_yields/blob/master/rxn_yields/data.py\n",
    "    \"\"\"\n",
    "    df = df.copy()\n",
    "    fwd_template = \"[F,Cl,Br,I]-[c;H0;D3;+0:1](:[c,n:2]):[c,n:3].[NH2;D1;+0:4]-[c:5]>>[c,n:2]:[c;H0;D3;+0:1](:[c,n:3])-[NH;D2;+0:4]-[c:5]\"\n",
    "    methylaniline = \"Cc1ccc(N)cc1\"\n",
    "    pd_catalyst = \"O=S(=O)(O[Pd]1~[NH2]C2C=CC=CC=2C2C=CC=CC1=2)C(F)(F)F\"\n",
    "    methylaniline_mol = Chem.MolFromSmiles(methylaniline)\n",
    "    rxn = rdChemReactions.ReactionFromSmarts(fwd_template)\n",
    "    products = []\n",
    "\n",
    "    for i, row in df.iterrows():\n",
    "        reacts = (Chem.MolFromSmiles(row[\"aryl_halide\"]), methylaniline_mol)\n",
    "        rxn_products = rxn.RunReactants(reacts)\n",
    "\n",
    "        rxn_products_smiles = set([Chem.MolToSmiles(mol[0]) for mol in rxn_products])\n",
    "        assert len(rxn_products_smiles) == 1\n",
    "        products.append(list(rxn_products_smiles)[0])\n",
    "\n",
    "    df[\"product\"] = products\n",
    "    rxns = []\n",
    "\n",
    "    for i, row in df.iterrows():\n",
    "        reactants = Chem.MolToSmiles(\n",
    "            Chem.MolFromSmiles(\n",
    "                f\"{row['aryl_halide']}.{methylaniline}.{pd_catalyst}.{row['ligand']}.{row['base']}.{row['additive']}\"\n",
    "            )\n",
    "        )\n",
    "        rxns.append(f\"{reactants.replace('N~', '[NH2]')}>>{row['product']}\")\n",
    "\n",
    "    return rxns\n",
    "\n",
    "reaction_SMILES = generate_buchwald_hartwig_rxns(df)\n",
    "df.insert(4, 'reaction_SMILES', reaction_SMILES)"
   ]
  },
  {
   "cell_type": "code",
   "execution_count": 62,
   "id": "d544fa60-343e-40e1-bd0c-4750f07a7145",
   "metadata": {
    "tags": []
   },
   "outputs": [],
   "source": [
    "assert not df.duplicated().sum()"
   ]
  },
  {
   "cell_type": "markdown",
   "id": "bc6f52c1-e0f6-48b3-95f4-e36d9a5ecde8",
   "metadata": {},
   "source": [
    "## Save to csv"
   ]
  },
  {
   "cell_type": "code",
   "execution_count": 63,
   "id": "d6d5efa5-b4b4-4a25-8626-e10f3d691e83",
   "metadata": {
    "tags": []
   },
   "outputs": [],
   "source": [
    "fn_data_csv = \"data_clean.csv\""
   ]
  },
  {
   "cell_type": "code",
   "execution_count": 65,
   "id": "727f8d7b-cbb6-43c7-9eab-9d4d65be6b3f",
   "metadata": {
    "tags": []
   },
   "outputs": [],
   "source": [
    "df.to_csv(fn_data_csv, index=False)"
   ]
  },
  {
   "cell_type": "code",
   "execution_count": 66,
   "id": "63c8d4a4-906e-418d-be39-879365b4dfa0",
   "metadata": {
    "tags": []
   },
   "outputs": [
    {
     "name": "stdout",
     "output_type": "stream",
     "text": [
      "-rw-r--r--  1 pschwllr  staff   1.4M Mar  8 23:00 data_clean.csv\n"
     ]
    }
   ],
   "source": [
    "!ls -lh {fn_data_csv}"
   ]
  },
  {
   "cell_type": "code",
   "execution_count": 67,
   "id": "a51b9001-25d7-4e0e-a607-477cfc4a9f1c",
   "metadata": {
    "tags": []
   },
   "outputs": [
    {
     "name": "stdout",
     "output_type": "stream",
     "text": [
      "ligand,additive,base,aryl_halide,reaction_SMILES,yield\n",
      "CC(C)C(C=C(C(C)C)C=C1C(C)C)=C1C2=C(P([C@@]3(C[C@@H]4C5)C[C@H](C4)C[C@H]5C3)[C@]6(C7)C[C@@H](C[C@@H]7C8)C[C@@H]8C6)C(OC)=CC=C2OC,CC1=CC(C)=NO1,CN(C)P(N(C)C)(N(C)C)=NP(N(C)C)(N(C)C)=NCC,ClC1=NC=CC=C1,CCN=P(N=P(N(C)C)(N(C)C)N(C)C)(N(C)C)N(C)C.COc1ccc(OC)c(P([C@]23C[C@H]4C[C@H](C[C@H](C4)C2)C3)[C@]23C[C@H]4C[C@H](C[C@H](C4)C2)C3)c1-c1c(C(C)C)cc(C(C)C)cc1C(C)C.Cc1cc(C)on1.Cc1ccc(N)cc1.Clc1ccccn1.O=S(=O)(O[Pd]1c2ccccc2-c2ccccc2[NH2]1)C(F)(F)F>>Cc1ccc(Nc2ccccn2)cc1,70.41045785\n",
      "CC(C)C(C=C(C(C)C)C=C1C(C)C)=C1C2=C(P([C@@]3(C[C@@H]4C5)C[C@H](C4)C[C@H]5C3)[C@]6(C7)C[C@@H](C[C@@H]7C8)C[C@@H]8C6)C(OC)=CC=C2OC,O=C(OC)C1=CC=NO1,CN(C)P(N(C)C)(N(C)C)=NP(N(C)C)(N(C)C)=NCC,BrC1=NC=CC=C1,Brc1ccccn1.CCN=P(N=P(N(C)C)(N(C)C)N(C)C)(N(C)C)N(C)C.COC(=O)c1ccno1.COc1ccc(OC)c(P([C@]23C[C@H]4C[C@H](C[C@H](C4)C2)C3)[C@]23C[C@H]4C[C@H](C[C@H](C4)C2)C3)c1-c1c(C(C)C)cc(C(C)C)cc1C(C)C.Cc1ccc(N)cc1.O=S(=O)(O[Pd]1c2ccccc2-c2ccccc2[NH2]1)C(F)(F)F>>Cc1ccc(Nc2ccccn2)cc1,11.06445724\n",
      "CC(C)C(C=C(C(C)C)C=C1C(C)C)=C1C2=C(P(C3CCCCC3)C4CCCCC4)C=CC=C2,O=C(OC)C1=CC=NO1,CN(C)P(N(C)C)(N(C)C)=NP(N(C)C)(N(C)C)=NCC,IC1=CC=C(CC)C=C1,CC(C)c1cc(C(C)C)c(-c2ccccc2P(C2CCCCC2)C2CCCCC2)c(C(C)C)c1.CCN=P(N=P(N(C)C)(N(C)C)N(C)C)(N(C)C)N(C)C.CCc1ccc(I)cc1.COC(=O)c1ccno1.Cc1ccc(N)cc1.O=S(=O)(O[Pd]1c2ccccc2-c2ccccc2[NH2]1)C(F)(F)F>>CCc1ccc(Nc2ccc(C)cc2)cc1,10.22354965\n",
      "CC(C)C(C=C(C(C)C)C=C1C(C)C)=C1C2=C(P(C(C)(C)C)C(C)(C)C)C(OC)=CC=C2OC,CCOC(C1=CON=C1)=O,CN1CCCN2C1=NCCC2,ClC1=CC=C(C(F)(F)F)C=C1,CCOC(=O)c1cnoc1.CN1CCCN2CCCN=C12.COc1ccc(OC)c(P(C(C)(C)C)C(C)(C)C)c1-c1c(C(C)C)cc(C(C)C)cc1C(C)C.Cc1ccc(N)cc1.FC(F)(F)c1ccc(Cl)cc1.O=S(=O)(O[Pd]1c2ccccc2-c2ccccc2[NH2]1)C(F)(F)F>>Cc1ccc(Nc2ccc(C(F)(F)F)cc2)cc1,20.0833829\n"
     ]
    }
   ],
   "source": [
    "!head -n 5 {fn_data_csv}"
   ]
  },
  {
   "cell_type": "code",
   "execution_count": 68,
   "id": "1a512943-4909-4d56-867d-50c151d8d607",
   "metadata": {
    "tags": []
   },
   "outputs": [
    {
     "data": {
      "text/html": [
       "<div>\n",
       "<style scoped>\n",
       "    .dataframe tbody tr th:only-of-type {\n",
       "        vertical-align: middle;\n",
       "    }\n",
       "\n",
       "    .dataframe tbody tr th {\n",
       "        vertical-align: top;\n",
       "    }\n",
       "\n",
       "    .dataframe thead th {\n",
       "        text-align: right;\n",
       "    }\n",
       "</style>\n",
       "<table border=\"1\" class=\"dataframe\">\n",
       "  <thead>\n",
       "    <tr style=\"text-align: right;\">\n",
       "      <th></th>\n",
       "      <th>ligand</th>\n",
       "      <th>additive</th>\n",
       "      <th>base</th>\n",
       "      <th>aryl_halide</th>\n",
       "      <th>reaction_SMILES</th>\n",
       "      <th>yield</th>\n",
       "    </tr>\n",
       "  </thead>\n",
       "  <tbody>\n",
       "    <tr>\n",
       "      <th>0</th>\n",
       "      <td>CC(C)C(C=C(C(C)C)C=C1C(C)C)=C1C2=C(P([C@@]3(C[...</td>\n",
       "      <td>CC1=CC(C)=NO1</td>\n",
       "      <td>CN(C)P(N(C)C)(N(C)C)=NP(N(C)C)(N(C)C)=NCC</td>\n",
       "      <td>ClC1=NC=CC=C1</td>\n",
       "      <td>CCN=P(N=P(N(C)C)(N(C)C)N(C)C)(N(C)C)N(C)C.COc1...</td>\n",
       "      <td>70.410458</td>\n",
       "    </tr>\n",
       "    <tr>\n",
       "      <th>1</th>\n",
       "      <td>CC(C)C(C=C(C(C)C)C=C1C(C)C)=C1C2=C(P([C@@]3(C[...</td>\n",
       "      <td>O=C(OC)C1=CC=NO1</td>\n",
       "      <td>CN(C)P(N(C)C)(N(C)C)=NP(N(C)C)(N(C)C)=NCC</td>\n",
       "      <td>BrC1=NC=CC=C1</td>\n",
       "      <td>Brc1ccccn1.CCN=P(N=P(N(C)C)(N(C)C)N(C)C)(N(C)C...</td>\n",
       "      <td>11.064457</td>\n",
       "    </tr>\n",
       "    <tr>\n",
       "      <th>2</th>\n",
       "      <td>CC(C)C(C=C(C(C)C)C=C1C(C)C)=C1C2=C(P(C3CCCCC3)...</td>\n",
       "      <td>O=C(OC)C1=CC=NO1</td>\n",
       "      <td>CN(C)P(N(C)C)(N(C)C)=NP(N(C)C)(N(C)C)=NCC</td>\n",
       "      <td>IC1=CC=C(CC)C=C1</td>\n",
       "      <td>CC(C)c1cc(C(C)C)c(-c2ccccc2P(C2CCCCC2)C2CCCCC2...</td>\n",
       "      <td>10.223550</td>\n",
       "    </tr>\n",
       "    <tr>\n",
       "      <th>3</th>\n",
       "      <td>CC(C)C(C=C(C(C)C)C=C1C(C)C)=C1C2=C(P(C(C)(C)C)...</td>\n",
       "      <td>CCOC(C1=CON=C1)=O</td>\n",
       "      <td>CN1CCCN2C1=NCCC2</td>\n",
       "      <td>ClC1=CC=C(C(F)(F)F)C=C1</td>\n",
       "      <td>CCOC(=O)c1cnoc1.CN1CCCN2CCCN=C12.COc1ccc(OC)c(...</td>\n",
       "      <td>20.083383</td>\n",
       "    </tr>\n",
       "    <tr>\n",
       "      <th>4</th>\n",
       "      <td>CC(C)C(C=C(C(C)C)C=C1C(C)C)=C1C2=C(P([C@@]3(C[...</td>\n",
       "      <td>CC1=CC(C)=NO1</td>\n",
       "      <td>CN1CCCN2C1=NCCC2</td>\n",
       "      <td>ClC1=CC=C(OC)C=C1</td>\n",
       "      <td>CN1CCCN2CCCN=C12.COc1ccc(Cl)cc1.COc1ccc(OC)c(P...</td>\n",
       "      <td>0.492663</td>\n",
       "    </tr>\n",
       "  </tbody>\n",
       "</table>\n",
       "</div>"
      ],
      "text/plain": [
       "                                              ligand           additive  \\\n",
       "0  CC(C)C(C=C(C(C)C)C=C1C(C)C)=C1C2=C(P([C@@]3(C[...      CC1=CC(C)=NO1   \n",
       "1  CC(C)C(C=C(C(C)C)C=C1C(C)C)=C1C2=C(P([C@@]3(C[...   O=C(OC)C1=CC=NO1   \n",
       "2  CC(C)C(C=C(C(C)C)C=C1C(C)C)=C1C2=C(P(C3CCCCC3)...   O=C(OC)C1=CC=NO1   \n",
       "3  CC(C)C(C=C(C(C)C)C=C1C(C)C)=C1C2=C(P(C(C)(C)C)...  CCOC(C1=CON=C1)=O   \n",
       "4  CC(C)C(C=C(C(C)C)C=C1C(C)C)=C1C2=C(P([C@@]3(C[...      CC1=CC(C)=NO1   \n",
       "\n",
       "                                        base              aryl_halide  \\\n",
       "0  CN(C)P(N(C)C)(N(C)C)=NP(N(C)C)(N(C)C)=NCC            ClC1=NC=CC=C1   \n",
       "1  CN(C)P(N(C)C)(N(C)C)=NP(N(C)C)(N(C)C)=NCC            BrC1=NC=CC=C1   \n",
       "2  CN(C)P(N(C)C)(N(C)C)=NP(N(C)C)(N(C)C)=NCC         IC1=CC=C(CC)C=C1   \n",
       "3                           CN1CCCN2C1=NCCC2  ClC1=CC=C(C(F)(F)F)C=C1   \n",
       "4                           CN1CCCN2C1=NCCC2        ClC1=CC=C(OC)C=C1   \n",
       "\n",
       "                                     reaction_SMILES      yield  \n",
       "0  CCN=P(N=P(N(C)C)(N(C)C)N(C)C)(N(C)C)N(C)C.COc1...  70.410458  \n",
       "1  Brc1ccccn1.CCN=P(N=P(N(C)C)(N(C)C)N(C)C)(N(C)C...  11.064457  \n",
       "2  CC(C)c1cc(C(C)C)c(-c2ccccc2P(C2CCCCC2)C2CCCCC2...  10.223550  \n",
       "3  CCOC(=O)c1cnoc1.CN1CCCN2CCCN=C12.COc1ccc(OC)c(...  20.083383  \n",
       "4  CN1CCCN2CCCN=C12.COc1ccc(Cl)cc1.COc1ccc(OC)c(P...   0.492663  "
      ]
     },
     "execution_count": 68,
     "metadata": {},
     "output_type": "execute_result"
    }
   ],
   "source": [
    "df.head()"
   ]
  },
  {
   "cell_type": "markdown",
   "id": "f3d730ce-fce0-49df-9eb8-b917e945fa9a",
   "metadata": {},
   "source": [
    "## Load from csv"
   ]
  },
  {
   "cell_type": "code",
   "execution_count": 69,
   "id": "077b0c5f-8772-4879-9317-3fa28799689b",
   "metadata": {
    "tags": []
   },
   "outputs": [],
   "source": [
    "fn_data_csv = \"data_clean.csv\""
   ]
  },
  {
   "cell_type": "code",
   "execution_count": 70,
   "id": "6eaef0e6-2115-4793-ac43-a196b25d47a0",
   "metadata": {
    "tags": []
   },
   "outputs": [],
   "source": [
    "df = pd.read_csv(fn_data_csv)"
   ]
  },
  {
   "cell_type": "code",
   "execution_count": 71,
   "id": "43619e7c-9c82-4ff0-ae25-403861304635",
   "metadata": {
    "tags": []
   },
   "outputs": [
    {
     "data": {
      "text/html": [
       "<div>\n",
       "<style scoped>\n",
       "    .dataframe tbody tr th:only-of-type {\n",
       "        vertical-align: middle;\n",
       "    }\n",
       "\n",
       "    .dataframe tbody tr th {\n",
       "        vertical-align: top;\n",
       "    }\n",
       "\n",
       "    .dataframe thead th {\n",
       "        text-align: right;\n",
       "    }\n",
       "</style>\n",
       "<table border=\"1\" class=\"dataframe\">\n",
       "  <thead>\n",
       "    <tr style=\"text-align: right;\">\n",
       "      <th></th>\n",
       "      <th>ligand</th>\n",
       "      <th>additive</th>\n",
       "      <th>base</th>\n",
       "      <th>aryl_halide</th>\n",
       "      <th>reaction_SMILES</th>\n",
       "      <th>yield</th>\n",
       "    </tr>\n",
       "  </thead>\n",
       "  <tbody>\n",
       "    <tr>\n",
       "      <th>0</th>\n",
       "      <td>CC(C)C(C=C(C(C)C)C=C1C(C)C)=C1C2=C(P([C@@]3(C[...</td>\n",
       "      <td>CC1=CC(C)=NO1</td>\n",
       "      <td>CN(C)P(N(C)C)(N(C)C)=NP(N(C)C)(N(C)C)=NCC</td>\n",
       "      <td>ClC1=NC=CC=C1</td>\n",
       "      <td>CCN=P(N=P(N(C)C)(N(C)C)N(C)C)(N(C)C)N(C)C.COc1...</td>\n",
       "      <td>70.410458</td>\n",
       "    </tr>\n",
       "    <tr>\n",
       "      <th>1</th>\n",
       "      <td>CC(C)C(C=C(C(C)C)C=C1C(C)C)=C1C2=C(P([C@@]3(C[...</td>\n",
       "      <td>O=C(OC)C1=CC=NO1</td>\n",
       "      <td>CN(C)P(N(C)C)(N(C)C)=NP(N(C)C)(N(C)C)=NCC</td>\n",
       "      <td>BrC1=NC=CC=C1</td>\n",
       "      <td>Brc1ccccn1.CCN=P(N=P(N(C)C)(N(C)C)N(C)C)(N(C)C...</td>\n",
       "      <td>11.064457</td>\n",
       "    </tr>\n",
       "    <tr>\n",
       "      <th>2</th>\n",
       "      <td>CC(C)C(C=C(C(C)C)C=C1C(C)C)=C1C2=C(P(C3CCCCC3)...</td>\n",
       "      <td>O=C(OC)C1=CC=NO1</td>\n",
       "      <td>CN(C)P(N(C)C)(N(C)C)=NP(N(C)C)(N(C)C)=NCC</td>\n",
       "      <td>IC1=CC=C(CC)C=C1</td>\n",
       "      <td>CC(C)c1cc(C(C)C)c(-c2ccccc2P(C2CCCCC2)C2CCCCC2...</td>\n",
       "      <td>10.223550</td>\n",
       "    </tr>\n",
       "    <tr>\n",
       "      <th>3</th>\n",
       "      <td>CC(C)C(C=C(C(C)C)C=C1C(C)C)=C1C2=C(P(C(C)(C)C)...</td>\n",
       "      <td>CCOC(C1=CON=C1)=O</td>\n",
       "      <td>CN1CCCN2C1=NCCC2</td>\n",
       "      <td>ClC1=CC=C(C(F)(F)F)C=C1</td>\n",
       "      <td>CCOC(=O)c1cnoc1.CN1CCCN2CCCN=C12.COc1ccc(OC)c(...</td>\n",
       "      <td>20.083383</td>\n",
       "    </tr>\n",
       "    <tr>\n",
       "      <th>4</th>\n",
       "      <td>CC(C)C(C=C(C(C)C)C=C1C(C)C)=C1C2=C(P([C@@]3(C[...</td>\n",
       "      <td>CC1=CC(C)=NO1</td>\n",
       "      <td>CN1CCCN2C1=NCCC2</td>\n",
       "      <td>ClC1=CC=C(OC)C=C1</td>\n",
       "      <td>CN1CCCN2CCCN=C12.COc1ccc(Cl)cc1.COc1ccc(OC)c(P...</td>\n",
       "      <td>0.492663</td>\n",
       "    </tr>\n",
       "  </tbody>\n",
       "</table>\n",
       "</div>"
      ],
      "text/plain": [
       "                                              ligand           additive  \\\n",
       "0  CC(C)C(C=C(C(C)C)C=C1C(C)C)=C1C2=C(P([C@@]3(C[...      CC1=CC(C)=NO1   \n",
       "1  CC(C)C(C=C(C(C)C)C=C1C(C)C)=C1C2=C(P([C@@]3(C[...   O=C(OC)C1=CC=NO1   \n",
       "2  CC(C)C(C=C(C(C)C)C=C1C(C)C)=C1C2=C(P(C3CCCCC3)...   O=C(OC)C1=CC=NO1   \n",
       "3  CC(C)C(C=C(C(C)C)C=C1C(C)C)=C1C2=C(P(C(C)(C)C)...  CCOC(C1=CON=C1)=O   \n",
       "4  CC(C)C(C=C(C(C)C)C=C1C(C)C)=C1C2=C(P([C@@]3(C[...      CC1=CC(C)=NO1   \n",
       "\n",
       "                                        base              aryl_halide  \\\n",
       "0  CN(C)P(N(C)C)(N(C)C)=NP(N(C)C)(N(C)C)=NCC            ClC1=NC=CC=C1   \n",
       "1  CN(C)P(N(C)C)(N(C)C)=NP(N(C)C)(N(C)C)=NCC            BrC1=NC=CC=C1   \n",
       "2  CN(C)P(N(C)C)(N(C)C)=NP(N(C)C)(N(C)C)=NCC         IC1=CC=C(CC)C=C1   \n",
       "3                           CN1CCCN2C1=NCCC2  ClC1=CC=C(C(F)(F)F)C=C1   \n",
       "4                           CN1CCCN2C1=NCCC2        ClC1=CC=C(OC)C=C1   \n",
       "\n",
       "                                     reaction_SMILES      yield  \n",
       "0  CCN=P(N=P(N(C)C)(N(C)C)N(C)C)(N(C)C)N(C)C.COc1...  70.410458  \n",
       "1  Brc1ccccn1.CCN=P(N=P(N(C)C)(N(C)C)N(C)C)(N(C)C...  11.064457  \n",
       "2  CC(C)c1cc(C(C)C)c(-c2ccccc2P(C2CCCCC2)C2CCCCC2...  10.223550  \n",
       "3  CCOC(=O)c1cnoc1.CN1CCCN2CCCN=C12.COc1ccc(OC)c(...  20.083383  \n",
       "4  CN1CCCN2CCCN=C12.COc1ccc(Cl)cc1.COc1ccc(OC)c(P...   0.492663  "
      ]
     },
     "execution_count": 71,
     "metadata": {},
     "output_type": "execute_result"
    }
   ],
   "source": [
    "df.head()"
   ]
  },
  {
   "cell_type": "markdown",
   "id": "2f06e57c-02c5-493b-af65-c8bb9ac59421",
   "metadata": {},
   "source": [
    "# meta YAML"
   ]
  },
  {
   "cell_type": "code",
   "execution_count": 72,
   "id": "49771077-471d-4d71-a9a7-d6b094bbc4f3",
   "metadata": {
    "tags": []
   },
   "outputs": [
    {
     "data": {
      "text/html": [
       "<div>\n",
       "<style scoped>\n",
       "    .dataframe tbody tr th:only-of-type {\n",
       "        vertical-align: middle;\n",
       "    }\n",
       "\n",
       "    .dataframe tbody tr th {\n",
       "        vertical-align: top;\n",
       "    }\n",
       "\n",
       "    .dataframe thead th {\n",
       "        text-align: right;\n",
       "    }\n",
       "</style>\n",
       "<table border=\"1\" class=\"dataframe\">\n",
       "  <thead>\n",
       "    <tr style=\"text-align: right;\">\n",
       "      <th></th>\n",
       "      <th>ligand</th>\n",
       "      <th>additive</th>\n",
       "      <th>base</th>\n",
       "      <th>aryl_halide</th>\n",
       "      <th>reaction_SMILES</th>\n",
       "      <th>yield</th>\n",
       "    </tr>\n",
       "  </thead>\n",
       "  <tbody>\n",
       "    <tr>\n",
       "      <th>0</th>\n",
       "      <td>CC(C)C(C=C(C(C)C)C=C1C(C)C)=C1C2=C(P([C@@]3(C[...</td>\n",
       "      <td>CC1=CC(C)=NO1</td>\n",
       "      <td>CN(C)P(N(C)C)(N(C)C)=NP(N(C)C)(N(C)C)=NCC</td>\n",
       "      <td>ClC1=NC=CC=C1</td>\n",
       "      <td>CCN=P(N=P(N(C)C)(N(C)C)N(C)C)(N(C)C)N(C)C.COc1...</td>\n",
       "      <td>70.410458</td>\n",
       "    </tr>\n",
       "    <tr>\n",
       "      <th>1</th>\n",
       "      <td>CC(C)C(C=C(C(C)C)C=C1C(C)C)=C1C2=C(P([C@@]3(C[...</td>\n",
       "      <td>O=C(OC)C1=CC=NO1</td>\n",
       "      <td>CN(C)P(N(C)C)(N(C)C)=NP(N(C)C)(N(C)C)=NCC</td>\n",
       "      <td>BrC1=NC=CC=C1</td>\n",
       "      <td>Brc1ccccn1.CCN=P(N=P(N(C)C)(N(C)C)N(C)C)(N(C)C...</td>\n",
       "      <td>11.064457</td>\n",
       "    </tr>\n",
       "    <tr>\n",
       "      <th>2</th>\n",
       "      <td>CC(C)C(C=C(C(C)C)C=C1C(C)C)=C1C2=C(P(C3CCCCC3)...</td>\n",
       "      <td>O=C(OC)C1=CC=NO1</td>\n",
       "      <td>CN(C)P(N(C)C)(N(C)C)=NP(N(C)C)(N(C)C)=NCC</td>\n",
       "      <td>IC1=CC=C(CC)C=C1</td>\n",
       "      <td>CC(C)c1cc(C(C)C)c(-c2ccccc2P(C2CCCCC2)C2CCCCC2...</td>\n",
       "      <td>10.223550</td>\n",
       "    </tr>\n",
       "    <tr>\n",
       "      <th>3</th>\n",
       "      <td>CC(C)C(C=C(C(C)C)C=C1C(C)C)=C1C2=C(P(C(C)(C)C)...</td>\n",
       "      <td>CCOC(C1=CON=C1)=O</td>\n",
       "      <td>CN1CCCN2C1=NCCC2</td>\n",
       "      <td>ClC1=CC=C(C(F)(F)F)C=C1</td>\n",
       "      <td>CCOC(=O)c1cnoc1.CN1CCCN2CCCN=C12.COc1ccc(OC)c(...</td>\n",
       "      <td>20.083383</td>\n",
       "    </tr>\n",
       "    <tr>\n",
       "      <th>4</th>\n",
       "      <td>CC(C)C(C=C(C(C)C)C=C1C(C)C)=C1C2=C(P([C@@]3(C[...</td>\n",
       "      <td>CC1=CC(C)=NO1</td>\n",
       "      <td>CN1CCCN2C1=NCCC2</td>\n",
       "      <td>ClC1=CC=C(OC)C=C1</td>\n",
       "      <td>CN1CCCN2CCCN=C12.COc1ccc(Cl)cc1.COc1ccc(OC)c(P...</td>\n",
       "      <td>0.492663</td>\n",
       "    </tr>\n",
       "  </tbody>\n",
       "</table>\n",
       "</div>"
      ],
      "text/plain": [
       "                                              ligand           additive  \\\n",
       "0  CC(C)C(C=C(C(C)C)C=C1C(C)C)=C1C2=C(P([C@@]3(C[...      CC1=CC(C)=NO1   \n",
       "1  CC(C)C(C=C(C(C)C)C=C1C(C)C)=C1C2=C(P([C@@]3(C[...   O=C(OC)C1=CC=NO1   \n",
       "2  CC(C)C(C=C(C(C)C)C=C1C(C)C)=C1C2=C(P(C3CCCCC3)...   O=C(OC)C1=CC=NO1   \n",
       "3  CC(C)C(C=C(C(C)C)C=C1C(C)C)=C1C2=C(P(C(C)(C)C)...  CCOC(C1=CON=C1)=O   \n",
       "4  CC(C)C(C=C(C(C)C)C=C1C(C)C)=C1C2=C(P([C@@]3(C[...      CC1=CC(C)=NO1   \n",
       "\n",
       "                                        base              aryl_halide  \\\n",
       "0  CN(C)P(N(C)C)(N(C)C)=NP(N(C)C)(N(C)C)=NCC            ClC1=NC=CC=C1   \n",
       "1  CN(C)P(N(C)C)(N(C)C)=NP(N(C)C)(N(C)C)=NCC            BrC1=NC=CC=C1   \n",
       "2  CN(C)P(N(C)C)(N(C)C)=NP(N(C)C)(N(C)C)=NCC         IC1=CC=C(CC)C=C1   \n",
       "3                           CN1CCCN2C1=NCCC2  ClC1=CC=C(C(F)(F)F)C=C1   \n",
       "4                           CN1CCCN2C1=NCCC2        ClC1=CC=C(OC)C=C1   \n",
       "\n",
       "                                     reaction_SMILES      yield  \n",
       "0  CCN=P(N=P(N(C)C)(N(C)C)N(C)C)(N(C)C)N(C)C.COc1...  70.410458  \n",
       "1  Brc1ccccn1.CCN=P(N=P(N(C)C)(N(C)C)N(C)C)(N(C)C...  11.064457  \n",
       "2  CC(C)c1cc(C(C)C)c(-c2ccccc2P(C2CCCCC2)C2CCCCC2...  10.223550  \n",
       "3  CCOC(=O)c1cnoc1.CN1CCCN2CCCN=C12.COc1ccc(OC)c(...  20.083383  \n",
       "4  CN1CCCN2CCCN=C12.COc1ccc(Cl)cc1.COc1ccc(OC)c(P...   0.492663  "
      ]
     },
     "execution_count": 72,
     "metadata": {},
     "output_type": "execute_result"
    }
   ],
   "source": [
    "df.head()"
   ]
  },
  {
   "cell_type": "code",
   "execution_count": 73,
   "id": "d3890961-444e-4a26-b8fc-ed8c4e959af9",
   "metadata": {
    "tags": []
   },
   "outputs": [],
   "source": [
    "meta = {\n",
    "    \"name\": \"buchwald_hartwig_doyle\",  # unique identifier, we will also use this for directory names\n",
    "    \"description\": \"\"\"High-throughput experimentation palladium-catalyzed Buchwald Hardwig data set with yields.\"\"\",\n",
    "    \"targets\": [\n",
    "        {\n",
    "            \"id\": \"yield\",  # name of the column in a tabular dataset\n",
    "            \"description\": \"Reaction yields analyzed by UPLC\",  # description of what this column means\n",
    "            \"units\": \"%\",  # units of the values in this column (leave empty if unitless)\n",
    "            \"type\": \"continuous\",  # can be \"categorical\", \"ordinal\", \"continuous\"\n",
    "            \"names\": [  # names for the property (to sample from for building the prompts)\n",
    "                \"Reaction yield\",\n",
    "                \"yield\",\n",
    "            ],\n",
    "        },\n",
    "    ],\n",
    "    \"identifiers\": [\n",
    "        {\n",
    "            \"id\": \"reaction_SMILES\",  # column name\n",
    "            \"type\": \"SMILES\",  # can be \"SMILES\", \"SELFIES\", \"IUPAC\", \"Other\"\n",
    "            \"description\": \"SMILES\",  # description (optional, except for \"Other\")\n",
    "        },\n",
    "    ],\n",
    "    \"license\": \"MIT license\",  # license under which the original dataset was published\n",
    "    \"links\": [  # list of relevant links (original dataset, other uses, etc.)\n",
    "        {\n",
    "            \"url\": \"https://doi.org/10.1126/science.aar5169\",\n",
    "            \"description\": \"corresponding publication\",\n",
    "        },\n",
    "        {\n",
    "            \"url\": \"https://www.sciencedirect.com/science/article/pii/S2451929420300851\",\n",
    "            \"description\": \"publication with data processing\",\n",
    "        },\n",
    "        {\n",
    "            \"url\": \"https://github.com/rxn4chemistry/rxn_yields/blob/master/rxn_yields/data.py\",\n",
    "            \"description\": \"preprocessing\",\n",
    "        },\n",
    "        {\n",
    "            \"url\": \"https://github.com/reymond-group/drfp/tree/main/data\",\n",
    "            \"description\": \"dataset\",\n",
    "        }\n",
    "    ],\n",
    "    \"num_points\": len(df),  # number of datapoints in this dataset\n",
    "    \"url\": \"https://tdcommons.ai/single_pred_tasks/tox/#acute-toxicity-ld50\",\n",
    "    \"bibtex\": [\n",
    "        \"\"\"@article{ahneman2018predicting,\n",
    "  title={Predicting reaction performance in C--N cross-coupling using machine learning},\n",
    "  author={Ahneman, Derek T and Estrada, Jes{\\'u}s G and Lin, Shishi and Dreher, Spencer D and Doyle, Abigail G},\n",
    "  journal={Science},\n",
    "  volume={360},\n",
    "  number={6385},\n",
    "  pages={186--190},\n",
    "  year={2018},\n",
    "  publisher={American Association for the Advancement of Science}\n",
    "}\n",
    "}\"\"\",\n",
    "    ],\n",
    "}"
   ]
  },
  {
   "cell_type": "code",
   "execution_count": 74,
   "id": "ec455cf0-962a-4c0d-bb3e-066e415ffd9b",
   "metadata": {
    "tags": []
   },
   "outputs": [],
   "source": [
    "def str_presenter(dumper, data):\n",
    "    \"\"\"configures yaml for dumping multiline strings\n",
    "    Ref: https://stackoverflow.com/questions/8640959/how-can-i-control-what-scalar-form-pyyaml-uses-for-my-data\n",
    "    \"\"\"\n",
    "    if data.count(\"\\n\") > 0:  # check for multiline string\n",
    "        return dumper.represent_scalar(\"tag:yaml.org,2002:str\", data, style=\"|\")\n",
    "    return dumper.represent_scalar(\"tag:yaml.org,2002:str\", data)\n",
    "\n",
    "\n",
    "yaml.add_representer(str, str_presenter)\n",
    "yaml.representer.SafeRepresenter.add_representer(\n",
    "    str, str_presenter\n",
    ")  # to use with safe_dum"
   ]
  },
  {
   "cell_type": "code",
   "execution_count": 75,
   "id": "580bbd79-4845-4515-be94-3e4a9815d048",
   "metadata": {
    "tags": []
   },
   "outputs": [],
   "source": [
    "fn_meta = \"meta.yaml\""
   ]
  },
  {
   "cell_type": "code",
   "execution_count": 76,
   "id": "873fa5dd-9b60-40f5-b537-4d7a206414ea",
   "metadata": {
    "tags": []
   },
   "outputs": [],
   "source": [
    "with open(fn_meta, \"w\") as f:\n",
    "    yaml.dump(meta, f, sort_keys=False)"
   ]
  },
  {
   "cell_type": "code",
   "execution_count": 77,
   "id": "d01686c0-6746-4fc4-b019-350270dfc26f",
   "metadata": {
    "tags": []
   },
   "outputs": [
    {
     "name": "stdout",
     "output_type": "stream",
     "text": [
      "-rw-r--r--  1 pschwllr  staff   975B Mar  8 23:36 meta.yaml\n"
     ]
    }
   ],
   "source": [
    "!ls -lh {fn_meta}"
   ]
  },
  {
   "cell_type": "code",
   "execution_count": 78,
   "id": "ef6063c5-7a8b-4344-bccf-a073443feebf",
   "metadata": {
    "tags": []
   },
   "outputs": [
    {
     "name": "stdout",
     "output_type": "stream",
     "text": [
      "name: buchwald_hartwig_doyle\n",
      "description: High-throughput experimentation palladium-catalyzed Buchwald Hardwig\n",
      "  data set with yields.\n",
      "targets:\n",
      "- id: yield\n",
      "  description: Reaction yields analyzed by UPLC\n",
      "  units: '%'\n",
      "  type: continuous\n",
      "  names:\n",
      "  - Reaction yield\n",
      "  - yield\n",
      "identifiers:\n",
      "- id: reaction_SMILES\n",
      "  type: SMILES\n",
      "  description: SMILES\n",
      "license: MIT license\n",
      "links:\n",
      "- url: https://doi.org/10.1126/science.aar5169\n",
      "  description: corresponding publication\n",
      "num_points: 3955\n",
      "url: https://tdcommons.ai/single_pred_tasks/tox/#acute-toxicity-ld50\n",
      "bibtex:\n",
      "- |-\n",
      "  @article{ahneman2018predicting,\n",
      "    title={Predicting reaction performance in C--N cross-coupling using machine learning},\n",
      "    author={Ahneman, Derek T and Estrada, Jes{'u}s G and Lin, Shishi and Dreher, Spencer D and Doyle, Abigail G},\n",
      "    journal={Science},\n",
      "    volume={360},\n",
      "    number={6385},\n",
      "    pages={186--190},\n",
      "    year={2018},\n",
      "    publisher={American Association for the Advancement of Science}\n",
      "  }\n",
      "  }\n"
     ]
    }
   ],
   "source": [
    "!cat {fn_meta}"
   ]
  },
  {
   "cell_type": "markdown",
   "id": "bd3f930a-638b-4bb7-a1d2-80688f2f6891",
   "metadata": {},
   "source": [
    "# create transform.py"
   ]
  },
  {
   "cell_type": "code",
   "execution_count": 32,
   "id": "9aab00fd-58a8-40b0-be30-1e269e0d323b",
   "metadata": {
    "tags": []
   },
   "outputs": [],
   "source": [
    "path_file = \"transform.py\""
   ]
  },
  {
   "cell_type": "code",
   "execution_count": 33,
   "id": "8368bb20-8e1c-4b7d-b0e2-b39da36b5972",
   "metadata": {
    "tags": []
   },
   "outputs": [
    {
     "name": "stdout",
     "output_type": "stream",
     "text": [
      "Overwriting transform.py\n"
     ]
    }
   ],
   "source": [
    "%%writefile $path_file\n",
    "import pandas as pd\n",
    "import yaml\n",
    "from tdc.single_pred import Tox\n",
    "\n",
    "\n",
    "def get_and_transform_data():\n",
    "    # get raw data\n",
    "    data = Tox(name = 'LD50_Zhu')\n",
    "    fn_data_original = \"data_original.csv\"\n",
    "    data.get_data().to_csv(fn_data_original, index=False)\n",
    "\n",
    "    # create dataframe\n",
    "    df = pd.read_csv(\n",
    "        fn_data_original,\n",
    "        delimiter=\",\",\n",
    "    )  # not necessary but ensure we can load the saved data\n",
    "\n",
    "    # check if fields are the same\n",
    "    fields_orig = df.columns.tolist()\n",
    "    assert fields_orig == [\n",
    "        \"Drug_ID\",\n",
    "        \"Drug\",\n",
    "        \"Y\",\n",
    "    ]\n",
    "\n",
    "    # overwrite column names = fields\n",
    "    fields_clean = [\n",
    "        \"compound_name\",\n",
    "        \"SMILES\",\n",
    "        \"acute_toxicity\",\n",
    "    ]\n",
    "    df.columns = fields_clean\n",
    "\n",
    "    # data cleaning\n",
    "    df.compound_name = (\n",
    "        df.compound_name.str.strip()\n",
    "    )  # remove leading and trailing white space characters\n",
    "\n",
    "    assert not df.duplicated().sum()\n",
    "\n",
    "    # save to csv\n",
    "    fn_data_csv = \"data_clean.csv\"\n",
    "    df.to_csv(fn_data_csv, index=False)\n",
    "\n",
    "    # create meta yaml\n",
    "    meta = {\n",
    "            \"name\": \"ld50_zhu\",  # unique identifier, we will also use this for directory names\n",
    "            \"description\": \"\"\"Acute toxicity LD50 measures the most conservative dose that can lead to lethal adverse effects. The higher the dose, the more lethal of a drug.\"\"\",\n",
    "            \"targets\": [\n",
    "                {\n",
    "                    \"id\": \"acute_toxicity\",  # name of the column in a tabular dataset\n",
    "                    \"description\": \"Acute Toxicity LD50.\",  # description of what this column means\n",
    "                    \"units\": \"ld50\",  # units of the values in this column (leave empty if unitless)\n",
    "                    \"type\": \"continuous\",  # can be \"categorical\", \"ordinal\", \"continuous\"\n",
    "                    \"names\": [  # names for the property (to sample from for building the prompts)\n",
    "                        \"Acute Toxicity LD50\",\n",
    "                        \"ld50\",\n",
    "                        \"conservative dose that can lead to lethal adverse effects.\",\n",
    "                        \"Rat Acute Toxicity by Oral Exposure\",\n",
    "                        \"Toxicity\",\n",
    "                    ],\n",
    "                },\n",
    "            ],\n",
    "            \"identifiers\": [\n",
    "                {\n",
    "                    \"id\": \"SMILES\",  # column name\n",
    "                    \"type\": \"SMILES\",  # can be \"SMILES\", \"SELFIES\", \"IUPAC\", \"Other\"\n",
    "                    \"description\": \"SMILES\",  # description (optional, except for \"Other\")\n",
    "                },\n",
    "                {\n",
    "                    \"id\": \"compound_name\",\n",
    "                    \"type\": \"Synonyms\",\n",
    "                    \"description\": \"compound name\",\n",
    "                    \"names\": [\n",
    "                        \"compound\",\n",
    "                        \"compound name\",\n",
    "                        \"drug\",\n",
    "                    ],\n",
    "                },\n",
    "            ],\n",
    "            \"license\": \"CC BY 4.0\",  # license under which the original dataset was published\n",
    "            \"links\": [  # list of relevant links (original dataset, other uses, etc.)\n",
    "                {\n",
    "                    \"url\": \"https://doi.org/10.1021/tx900189p\",\n",
    "                    \"description\": \"corresponding publication\",\n",
    "                },\n",
    "            ],\n",
    "            \"num_points\": len(df),  # number of datapoints in this dataset\n",
    "            \"url\": \"https://tdcommons.ai/single_pred_tasks/tox/#acute-toxicity-ld50\",\n",
    "            \"bibtex\": [\n",
    "                \"\"\"@article{Zhu2009,\n",
    "              doi = {10.1021/tx900189p},\n",
    "              url = {https://doi.org/10.1021/tx900189p},\n",
    "              year = {2009},\n",
    "              month = oct,\n",
    "              publisher = {American Chemical Society ({ACS})},\n",
    "              volume = {22},\n",
    "              number = {12},\n",
    "              pages = {1913--1921},\n",
    "              author = {Hao Zhu and Todd M. Martin and Lin Ye and Alexander Sedykh and Douglas M. Young and Alexander Tropsha},\n",
    "              title = {Quantitative Structure-Activity Relationship Modeling of Rat Acute Toxicity by Oral Exposure},\n",
    "              journal = {Chemical Research in Toxicology}}\"\"\",\n",
    "            ],\n",
    "        }\n",
    "\n",
    "    def str_presenter(dumper, data):\n",
    "        \"\"\"configures yaml for dumping multiline strings\n",
    "        Ref: https://stackoverflow.com/questions/8640959/how-can-i-control-what-scalar-form-pyyaml-uses-for-my-data\n",
    "        \"\"\"\n",
    "        if data.count(\"\\n\") > 0:  # check for multiline string\n",
    "            return dumper.represent_scalar(\"tag:yaml.org,2002:str\", data, style=\"|\")\n",
    "        return dumper.represent_scalar(\"tag:yaml.org,2002:str\", data)\n",
    "\n",
    "    yaml.add_representer(str, str_presenter)\n",
    "    yaml.representer.SafeRepresenter.add_representer(\n",
    "        str, str_presenter\n",
    "    )  # to use with safe_dum\n",
    "    fn_meta = \"meta.yaml\"\n",
    "    with open(fn_meta, \"w\") as f:\n",
    "        yaml.dump(meta, f, sort_keys=False)\n",
    "\n",
    "    print(f\"Finished processing {meta['name']} dataset!\")\n",
    "\n",
    "\n",
    "if __name__ == \"__main__\":\n",
    "    get_and_transform_data()"
   ]
  },
  {
   "cell_type": "code",
   "execution_count": 34,
   "id": "d0474f26-70f3-4655-b81a-df4ada90e7a6",
   "metadata": {
    "tags": []
   },
   "outputs": [
    {
     "name": "stdout",
     "output_type": "stream",
     "text": [
      "Found local copy...\n",
      "Loading...\n",
      "Done!\n",
      "Finished processing ld50_zhu dataset!\n"
     ]
    }
   ],
   "source": [
    "!python3 transform.py"
   ]
  },
  {
   "cell_type": "code",
   "execution_count": 35,
   "id": "953e7bee-bd5e-41d0-a2be-506e0bc97727",
   "metadata": {
    "tags": []
   },
   "outputs": [
    {
     "name": "stdout",
     "output_type": "stream",
     "text": [
      "total 1.4M\r\n",
      "drwxrwxr-x 2 melo melo 4.0K مار  2 16:58 \u001b[0m\u001b[01;34mdata\u001b[0m/\r\n",
      "-rw-rw-r-- 1 melo melo 661K مار  2 16:58 data_clean.csv\r\n",
      "-rw-rw-r-- 1 melo melo 661K مار  2 16:58 data_original.csv\r\n",
      "-rw-rw-r-- 1 melo melo  39K مار  1 22:23 example_processing_and_templates.ipynb\r\n",
      "-rw-rw-r-- 1 melo melo 1.5K مار  2 16:58 meta.yaml\r\n",
      "-rw-rw-r-- 1 melo melo 4.8K مار  2 16:58 transform.py\r\n"
     ]
    }
   ],
   "source": [
    "ls -lh  # fmt: skip"
   ]
  },
  {
   "cell_type": "markdown",
   "id": "0b08ed06-ba66-4f76-bde1-368ea77d1739",
   "metadata": {},
   "source": [
    "# End"
   ]
  }
 ],
 "metadata": {
  "kernelspec": {
   "display_name": "Python 3 (ipykernel)",
   "language": "python",
   "name": "python3"
  },
  "language_info": {
   "codemirror_mode": {
    "name": "ipython",
    "version": 3
   },
   "file_extension": ".py",
   "mimetype": "text/x-python",
   "name": "python",
   "nbconvert_exporter": "python",
   "pygments_lexer": "ipython3",
   "version": "3.8.16"
  }
 },
 "nbformat": 4,
 "nbformat_minor": 5
}
