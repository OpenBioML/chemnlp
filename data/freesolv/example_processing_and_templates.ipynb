{
 "cells": [
  {
   "cell_type": "markdown",
   "id": "27c08f91-3fa0-4800-8f6a-96a96f665cad",
   "metadata": {},
   "source": [
    "# FreeSolv dataset preparation"
   ]
  },
  {
   "cell_type": "markdown",
   "id": "6ef172b9-aad2-47da-bf4c-844a2a07ee8c",
   "metadata": {},
   "source": [
    "Original data repository: https://github.com/MobleyLab/FreeSolv"
   ]
  },
  {
   "cell_type": "markdown",
   "id": "7d18c95d-2ec6-45e1-addc-54a890097b8e",
   "metadata": {},
   "source": [
    "# Imports"
   ]
  },
  {
   "cell_type": "code",
   "execution_count": 46,
   "id": "cf59e3e9-8061-4022-9eae-e978311b4155",
   "metadata": {
    "tags": []
   },
   "outputs": [],
   "source": [
    "import pandas as pd\n",
    "import requests\n",
    "import yaml"
   ]
  },
  {
   "cell_type": "markdown",
   "id": "a6751ff9-2e3e-4d01-8395-7a5ae0c200d7",
   "metadata": {},
   "source": [
    "# Data processing"
   ]
  },
  {
   "cell_type": "markdown",
   "id": "a1169ad2-e4bb-41c6-9625-6d1644c44a5b",
   "metadata": {},
   "source": [
    "## Download data"
   ]
  },
  {
   "cell_type": "code",
   "execution_count": 47,
   "id": "775f60af-1d44-49da-b082-50c5ad77e649",
   "metadata": {
    "tags": []
   },
   "outputs": [],
   "source": [
    "data_path = \"https://raw.githubusercontent.com/MobleyLab/FreeSolv/master/database.txt\""
   ]
  },
  {
   "cell_type": "code",
   "execution_count": 48,
   "id": "7bb8eb5e-f513-40d2-a68c-7cda1a51ad31",
   "metadata": {
    "tags": []
   },
   "outputs": [],
   "source": [
    "fn_data_original = \"data_original.txt\""
   ]
  },
  {
   "cell_type": "code",
   "execution_count": 49,
   "id": "413f72f2-9f5e-4ba8-919d-7ff3908f745a",
   "metadata": {
    "tags": []
   },
   "outputs": [],
   "source": [
    "data = requests.get(data_path)\n",
    "with open(fn_data_original, \"wb\") as f:\n",
    "    f.write(data.content)"
   ]
  },
  {
   "cell_type": "code",
   "execution_count": null,
   "id": "43873fc3-20a8-487d-a7c5-33bd58414159",
   "metadata": {
    "tags": []
   },
   "outputs": [],
   "source": [
    "!ls -lh"
   ]
  },
  {
   "cell_type": "markdown",
   "id": "d9cda29a-a133-4f0e-992b-e77c9070ee93",
   "metadata": {},
   "source": [
    "## Load original data"
   ]
  },
  {
   "cell_type": "code",
   "execution_count": 4,
   "id": "77f614e7-b133-40bc-8759-2d930e4c120e",
   "metadata": {
    "tags": []
   },
   "outputs": [
    {
     "name": "stdout",
     "output_type": "stream",
     "text": [
      "#Hydration free energy datbase v0.52, 6/11/17.\n",
      "#Semicolon-delimited text file with fields in the following format:\n",
      "# compound id (and file prefix); SMILES; iupac name (or alternative if IUPAC is unavailable or not parseable by OEChem); experimental value (kcal/mol); experimental uncertainty (kcal/mol); Mobley group calculated value (GAFF) (kcal/mol); calculated uncertainty (kcal/mol); experimental reference (original or paper this value was taken from); calculated reference; text notes.\n",
      "mobley_1017962; CCCCCC(=O)OC; methyl hexanoate; -2.49; 0.60; -3.30; 0.03; 10.1021/ct050097l; 10.1021/acs.jced.7b00104; Experimental uncertainty not presently available, so assigned a default value.  \n",
      "mobley_1019269; CCCCO; butan-1-ol; -4.72; 0.60; -3.23; 0.03; 10.1021/ct050097l; 10.1021/acs.jced.7b00104; Experimental uncertainty not presently available, so assigned a default value.  \n"
     ]
    }
   ],
   "source": [
    "!head -n 5 {fn_data_original}"
   ]
  },
  {
   "cell_type": "code",
   "execution_count": 5,
   "id": "8f5a0387-f9e3-4e1a-8d14-5df618195f70",
   "metadata": {
    "tags": []
   },
   "outputs": [],
   "source": [
    "df = pd.read_csv(fn_data_original, delimiter=\";\", skiprows=2)"
   ]
  },
  {
   "cell_type": "code",
   "execution_count": 6,
   "id": "55b0bd63-62a0-469e-9d8a-e9ada3fe01c4",
   "metadata": {
    "tags": []
   },
   "outputs": [
    {
     "data": {
      "text/html": [
       "<div>\n",
       "<style scoped>\n",
       "    .dataframe tbody tr th:only-of-type {\n",
       "        vertical-align: middle;\n",
       "    }\n",
       "\n",
       "    .dataframe tbody tr th {\n",
       "        vertical-align: top;\n",
       "    }\n",
       "\n",
       "    .dataframe thead th {\n",
       "        text-align: right;\n",
       "    }\n",
       "</style>\n",
       "<table border=\"1\" class=\"dataframe\">\n",
       "  <thead>\n",
       "    <tr style=\"text-align: right;\">\n",
       "      <th></th>\n",
       "      <th># compound id (and file prefix)</th>\n",
       "      <th>SMILES</th>\n",
       "      <th>iupac name (or alternative if IUPAC is unavailable or not parseable by OEChem)</th>\n",
       "      <th>experimental value (kcal/mol)</th>\n",
       "      <th>experimental uncertainty (kcal/mol)</th>\n",
       "      <th>Mobley group calculated value (GAFF) (kcal/mol)</th>\n",
       "      <th>calculated uncertainty (kcal/mol)</th>\n",
       "      <th>experimental reference (original or paper this value was taken from)</th>\n",
       "      <th>calculated reference</th>\n",
       "      <th>text notes.</th>\n",
       "    </tr>\n",
       "  </thead>\n",
       "  <tbody>\n",
       "    <tr>\n",
       "      <th>0</th>\n",
       "      <td>mobley_1017962</td>\n",
       "      <td>CCCCCC(=O)OC</td>\n",
       "      <td>methyl hexanoate</td>\n",
       "      <td>-2.49</td>\n",
       "      <td>0.6</td>\n",
       "      <td>-3.30</td>\n",
       "      <td>0.03</td>\n",
       "      <td>10.1021/ct050097l</td>\n",
       "      <td>10.1021/acs.jced.7b00104</td>\n",
       "      <td>Experimental uncertainty not presently availa...</td>\n",
       "    </tr>\n",
       "    <tr>\n",
       "      <th>1</th>\n",
       "      <td>mobley_1019269</td>\n",
       "      <td>CCCCO</td>\n",
       "      <td>butan-1-ol</td>\n",
       "      <td>-4.72</td>\n",
       "      <td>0.6</td>\n",
       "      <td>-3.23</td>\n",
       "      <td>0.03</td>\n",
       "      <td>10.1021/ct050097l</td>\n",
       "      <td>10.1021/acs.jced.7b00104</td>\n",
       "      <td>Experimental uncertainty not presently availa...</td>\n",
       "    </tr>\n",
       "    <tr>\n",
       "      <th>2</th>\n",
       "      <td>mobley_1034539</td>\n",
       "      <td>c1cc(c(cc1c2cc(c(c(c2Cl)Cl)Cl)Cl)Cl)Cl</td>\n",
       "      <td>1,2,3,4-tetrachloro-5-(3,4-dichlorophenyl)ben...</td>\n",
       "      <td>-3.04</td>\n",
       "      <td>0.1</td>\n",
       "      <td>-1.08</td>\n",
       "      <td>0.04</td>\n",
       "      <td>10.1007/s10822-012-9568-8</td>\n",
       "      <td>10.1021/acs.jced.7b00104</td>\n",
       "      <td>Experimental uncertainty not presently availa...</td>\n",
       "    </tr>\n",
       "    <tr>\n",
       "      <th>3</th>\n",
       "      <td>mobley_1036761</td>\n",
       "      <td>C1CCC(CC1)N</td>\n",
       "      <td>cyclohexanamine</td>\n",
       "      <td>-4.59</td>\n",
       "      <td>0.6</td>\n",
       "      <td>-3.95</td>\n",
       "      <td>0.03</td>\n",
       "      <td>10.1021/ct050097l</td>\n",
       "      <td>10.1021/acs.jced.7b00104</td>\n",
       "      <td>Experimental uncertainty not presently availa...</td>\n",
       "    </tr>\n",
       "    <tr>\n",
       "      <th>4</th>\n",
       "      <td>mobley_1046331</td>\n",
       "      <td>c1ccc(cc1)OC=O</td>\n",
       "      <td>phenyl formate</td>\n",
       "      <td>-3.82</td>\n",
       "      <td>0.6</td>\n",
       "      <td>-5.44</td>\n",
       "      <td>0.03</td>\n",
       "      <td>J. Peter Guthrie, unpublished data, as provid...</td>\n",
       "      <td>10.1021/acs.jced.7b00104</td>\n",
       "      <td>Experimental uncertainty not presently availa...</td>\n",
       "    </tr>\n",
       "  </tbody>\n",
       "</table>\n",
       "</div>"
      ],
      "text/plain": [
       "  # compound id (and file prefix)                                   SMILES  \\\n",
       "0                  mobley_1017962                             CCCCCC(=O)OC   \n",
       "1                  mobley_1019269                                    CCCCO   \n",
       "2                  mobley_1034539   c1cc(c(cc1c2cc(c(c(c2Cl)Cl)Cl)Cl)Cl)Cl   \n",
       "3                  mobley_1036761                              C1CCC(CC1)N   \n",
       "4                  mobley_1046331                           c1ccc(cc1)OC=O   \n",
       "\n",
       "   iupac name (or alternative if IUPAC is unavailable or not parseable by OEChem)  \\\n",
       "0                                   methyl hexanoate                                \n",
       "1                                         butan-1-ol                                \n",
       "2   1,2,3,4-tetrachloro-5-(3,4-dichlorophenyl)ben...                                \n",
       "3                                    cyclohexanamine                                \n",
       "4                                     phenyl formate                                \n",
       "\n",
       "    experimental value (kcal/mol)   experimental uncertainty (kcal/mol)  \\\n",
       "0                           -2.49                                   0.6   \n",
       "1                           -4.72                                   0.6   \n",
       "2                           -3.04                                   0.1   \n",
       "3                           -4.59                                   0.6   \n",
       "4                           -3.82                                   0.6   \n",
       "\n",
       "    Mobley group calculated value (GAFF) (kcal/mol)  \\\n",
       "0                                             -3.30   \n",
       "1                                             -3.23   \n",
       "2                                             -1.08   \n",
       "3                                             -3.95   \n",
       "4                                             -5.44   \n",
       "\n",
       "    calculated uncertainty (kcal/mol)  \\\n",
       "0                                0.03   \n",
       "1                                0.03   \n",
       "2                                0.04   \n",
       "3                                0.03   \n",
       "4                                0.03   \n",
       "\n",
       "   experimental reference (original or paper this value was taken from)  \\\n",
       "0                                  10.1021/ct050097l                      \n",
       "1                                  10.1021/ct050097l                      \n",
       "2                          10.1007/s10822-012-9568-8                      \n",
       "3                                  10.1021/ct050097l                      \n",
       "4   J. Peter Guthrie, unpublished data, as provid...                      \n",
       "\n",
       "        calculated reference  \\\n",
       "0   10.1021/acs.jced.7b00104   \n",
       "1   10.1021/acs.jced.7b00104   \n",
       "2   10.1021/acs.jced.7b00104   \n",
       "3   10.1021/acs.jced.7b00104   \n",
       "4   10.1021/acs.jced.7b00104   \n",
       "\n",
       "                                         text notes.  \n",
       "0   Experimental uncertainty not presently availa...  \n",
       "1   Experimental uncertainty not presently availa...  \n",
       "2   Experimental uncertainty not presently availa...  \n",
       "3   Experimental uncertainty not presently availa...  \n",
       "4   Experimental uncertainty not presently availa...  "
      ]
     },
     "execution_count": 6,
     "metadata": {},
     "output_type": "execute_result"
    }
   ],
   "source": [
    "df.head()"
   ]
  },
  {
   "cell_type": "markdown",
   "id": "95158ac1-05d7-4a21-b8e4-7f720306d331",
   "metadata": {},
   "source": [
    "## Add column = field names\n",
    "Clean column names (`fields_clean`) and keep original names (`fields_orig`)"
   ]
  },
  {
   "cell_type": "code",
   "execution_count": 7,
   "id": "ec2458e5-455f-4f03-8ce9-c0d12e9ed371",
   "metadata": {
    "tags": []
   },
   "outputs": [
    {
     "data": {
      "text/plain": [
       "['# compound id (and file prefix)',\n",
       " ' SMILES',\n",
       " ' iupac name (or alternative if IUPAC is unavailable or not parseable by OEChem)',\n",
       " ' experimental value (kcal/mol)',\n",
       " ' experimental uncertainty (kcal/mol)',\n",
       " ' Mobley group calculated value (GAFF) (kcal/mol)',\n",
       " ' calculated uncertainty (kcal/mol)',\n",
       " ' experimental reference (original or paper this value was taken from)',\n",
       " ' calculated reference',\n",
       " ' text notes.']"
      ]
     },
     "execution_count": 7,
     "metadata": {},
     "output_type": "execute_result"
    }
   ],
   "source": [
    "fields_orig = df.columns.tolist()\n",
    "fields_orig"
   ]
  },
  {
   "cell_type": "code",
   "execution_count": 8,
   "id": "a46dd8ff-37b3-4894-8226-3bf98226dd09",
   "metadata": {
    "tags": []
   },
   "outputs": [],
   "source": [
    "fields_clean = [\n",
    "    \"compound_id\",\n",
    "    \"SMILES\",\n",
    "    \"iupac_name\",\n",
    "    \"exp_value\",\n",
    "    \"exp_uncertainty\",\n",
    "    \"GAFF\",\n",
    "    \"calc_uncertainty\",\n",
    "    \"exp_ref\",\n",
    "    \"calc_reference\",\n",
    "    \"notes\",\n",
    "]"
   ]
  },
  {
   "cell_type": "code",
   "execution_count": 9,
   "id": "785d37cb-1fb4-4a91-a923-d5a78a37f36a",
   "metadata": {
    "tags": []
   },
   "outputs": [],
   "source": [
    "df.columns = fields_clean"
   ]
  },
  {
   "cell_type": "code",
   "execution_count": 10,
   "id": "1bf212cb-1653-457b-9f5d-416d4dd14b53",
   "metadata": {
    "tags": []
   },
   "outputs": [
    {
     "data": {
      "text/html": [
       "<div>\n",
       "<style scoped>\n",
       "    .dataframe tbody tr th:only-of-type {\n",
       "        vertical-align: middle;\n",
       "    }\n",
       "\n",
       "    .dataframe tbody tr th {\n",
       "        vertical-align: top;\n",
       "    }\n",
       "\n",
       "    .dataframe thead th {\n",
       "        text-align: right;\n",
       "    }\n",
       "</style>\n",
       "<table border=\"1\" class=\"dataframe\">\n",
       "  <thead>\n",
       "    <tr style=\"text-align: right;\">\n",
       "      <th></th>\n",
       "      <th>compound_id</th>\n",
       "      <th>SMILES</th>\n",
       "      <th>iupac_name</th>\n",
       "      <th>exp_value</th>\n",
       "      <th>exp_uncertainty</th>\n",
       "      <th>GAFF</th>\n",
       "      <th>calc_uncertainty</th>\n",
       "      <th>exp_ref</th>\n",
       "      <th>calc_reference</th>\n",
       "      <th>notes</th>\n",
       "    </tr>\n",
       "  </thead>\n",
       "  <tbody>\n",
       "    <tr>\n",
       "      <th>0</th>\n",
       "      <td>mobley_1017962</td>\n",
       "      <td>CCCCCC(=O)OC</td>\n",
       "      <td>methyl hexanoate</td>\n",
       "      <td>-2.49</td>\n",
       "      <td>0.6</td>\n",
       "      <td>-3.30</td>\n",
       "      <td>0.03</td>\n",
       "      <td>10.1021/ct050097l</td>\n",
       "      <td>10.1021/acs.jced.7b00104</td>\n",
       "      <td>Experimental uncertainty not presently availa...</td>\n",
       "    </tr>\n",
       "    <tr>\n",
       "      <th>1</th>\n",
       "      <td>mobley_1019269</td>\n",
       "      <td>CCCCO</td>\n",
       "      <td>butan-1-ol</td>\n",
       "      <td>-4.72</td>\n",
       "      <td>0.6</td>\n",
       "      <td>-3.23</td>\n",
       "      <td>0.03</td>\n",
       "      <td>10.1021/ct050097l</td>\n",
       "      <td>10.1021/acs.jced.7b00104</td>\n",
       "      <td>Experimental uncertainty not presently availa...</td>\n",
       "    </tr>\n",
       "    <tr>\n",
       "      <th>2</th>\n",
       "      <td>mobley_1034539</td>\n",
       "      <td>c1cc(c(cc1c2cc(c(c(c2Cl)Cl)Cl)Cl)Cl)Cl</td>\n",
       "      <td>1,2,3,4-tetrachloro-5-(3,4-dichlorophenyl)ben...</td>\n",
       "      <td>-3.04</td>\n",
       "      <td>0.1</td>\n",
       "      <td>-1.08</td>\n",
       "      <td>0.04</td>\n",
       "      <td>10.1007/s10822-012-9568-8</td>\n",
       "      <td>10.1021/acs.jced.7b00104</td>\n",
       "      <td>Experimental uncertainty not presently availa...</td>\n",
       "    </tr>\n",
       "    <tr>\n",
       "      <th>3</th>\n",
       "      <td>mobley_1036761</td>\n",
       "      <td>C1CCC(CC1)N</td>\n",
       "      <td>cyclohexanamine</td>\n",
       "      <td>-4.59</td>\n",
       "      <td>0.6</td>\n",
       "      <td>-3.95</td>\n",
       "      <td>0.03</td>\n",
       "      <td>10.1021/ct050097l</td>\n",
       "      <td>10.1021/acs.jced.7b00104</td>\n",
       "      <td>Experimental uncertainty not presently availa...</td>\n",
       "    </tr>\n",
       "    <tr>\n",
       "      <th>4</th>\n",
       "      <td>mobley_1046331</td>\n",
       "      <td>c1ccc(cc1)OC=O</td>\n",
       "      <td>phenyl formate</td>\n",
       "      <td>-3.82</td>\n",
       "      <td>0.6</td>\n",
       "      <td>-5.44</td>\n",
       "      <td>0.03</td>\n",
       "      <td>J. Peter Guthrie, unpublished data, as provid...</td>\n",
       "      <td>10.1021/acs.jced.7b00104</td>\n",
       "      <td>Experimental uncertainty not presently availa...</td>\n",
       "    </tr>\n",
       "  </tbody>\n",
       "</table>\n",
       "</div>"
      ],
      "text/plain": [
       "      compound_id                                   SMILES  \\\n",
       "0  mobley_1017962                             CCCCCC(=O)OC   \n",
       "1  mobley_1019269                                    CCCCO   \n",
       "2  mobley_1034539   c1cc(c(cc1c2cc(c(c(c2Cl)Cl)Cl)Cl)Cl)Cl   \n",
       "3  mobley_1036761                              C1CCC(CC1)N   \n",
       "4  mobley_1046331                           c1ccc(cc1)OC=O   \n",
       "\n",
       "                                          iupac_name  exp_value  \\\n",
       "0                                   methyl hexanoate      -2.49   \n",
       "1                                         butan-1-ol      -4.72   \n",
       "2   1,2,3,4-tetrachloro-5-(3,4-dichlorophenyl)ben...      -3.04   \n",
       "3                                    cyclohexanamine      -4.59   \n",
       "4                                     phenyl formate      -3.82   \n",
       "\n",
       "   exp_uncertainty  GAFF  calc_uncertainty  \\\n",
       "0              0.6 -3.30              0.03   \n",
       "1              0.6 -3.23              0.03   \n",
       "2              0.1 -1.08              0.04   \n",
       "3              0.6 -3.95              0.03   \n",
       "4              0.6 -5.44              0.03   \n",
       "\n",
       "                                             exp_ref  \\\n",
       "0                                  10.1021/ct050097l   \n",
       "1                                  10.1021/ct050097l   \n",
       "2                          10.1007/s10822-012-9568-8   \n",
       "3                                  10.1021/ct050097l   \n",
       "4   J. Peter Guthrie, unpublished data, as provid...   \n",
       "\n",
       "              calc_reference  \\\n",
       "0   10.1021/acs.jced.7b00104   \n",
       "1   10.1021/acs.jced.7b00104   \n",
       "2   10.1021/acs.jced.7b00104   \n",
       "3   10.1021/acs.jced.7b00104   \n",
       "4   10.1021/acs.jced.7b00104   \n",
       "\n",
       "                                               notes  \n",
       "0   Experimental uncertainty not presently availa...  \n",
       "1   Experimental uncertainty not presently availa...  \n",
       "2   Experimental uncertainty not presently availa...  \n",
       "3   Experimental uncertainty not presently availa...  \n",
       "4   Experimental uncertainty not presently availa...  "
      ]
     },
     "execution_count": 10,
     "metadata": {},
     "output_type": "execute_result"
    }
   ],
   "source": [
    "df.head()"
   ]
  },
  {
   "cell_type": "markdown",
   "id": "1bfaeb22-26fb-4964-a71f-cae8335e5372",
   "metadata": {},
   "source": [
    "## Data cleaning"
   ]
  },
  {
   "cell_type": "code",
   "execution_count": 11,
   "id": "7e746003-cb1f-434f-bba6-00f0c439c4ac",
   "metadata": {
    "tags": []
   },
   "outputs": [],
   "source": [
    "df.notes = df.notes.str.strip()  # remove leading and trailing white space characters"
   ]
  },
  {
   "cell_type": "markdown",
   "id": "bc6f52c1-e0f6-48b3-95f4-e36d9a5ecde8",
   "metadata": {},
   "source": [
    "## Save to csv"
   ]
  },
  {
   "cell_type": "code",
   "execution_count": 14,
   "id": "d6d5efa5-b4b4-4a25-8626-e10f3d691e83",
   "metadata": {
    "tags": []
   },
   "outputs": [],
   "source": [
    "fn_data_csv = \"data_clean.csv\""
   ]
  },
  {
   "cell_type": "code",
   "execution_count": 15,
   "id": "727f8d7b-cbb6-43c7-9eab-9d4d65be6b3f",
   "metadata": {
    "tags": []
   },
   "outputs": [],
   "source": [
    "df.to_csv(fn_data_csv, index=False)"
   ]
  },
  {
   "cell_type": "code",
   "execution_count": null,
   "id": "63c8d4a4-906e-418d-be39-879365b4dfa0",
   "metadata": {
    "tags": []
   },
   "outputs": [],
   "source": [
    "!ls -lh {fn_data_csv}"
   ]
  },
  {
   "cell_type": "code",
   "execution_count": 17,
   "id": "a51b9001-25d7-4e0e-a607-477cfc4a9f1c",
   "metadata": {
    "tags": []
   },
   "outputs": [
    {
     "name": "stdout",
     "output_type": "stream",
     "text": [
      "compound_id,SMILES,iupac_name,exp_value,exp_uncertainty,GAFF,calc_uncertainty,exp_ref,calc_reference,notes\n",
      "mobley_1017962, CCCCCC(=O)OC, methyl hexanoate,-2.49,0.6,-3.3,0.03, 10.1021/ct050097l, 10.1021/acs.jced.7b00104,\"Experimental uncertainty not presently available, so assigned a default value.\"\n",
      "mobley_1019269, CCCCO, butan-1-ol,-4.72,0.6,-3.23,0.03, 10.1021/ct050097l, 10.1021/acs.jced.7b00104,\"Experimental uncertainty not presently available, so assigned a default value.\"\n",
      "mobley_1034539, c1cc(c(cc1c2cc(c(c(c2Cl)Cl)Cl)Cl)Cl)Cl,\" 1,2,3,4-tetrachloro-5-(3,4-dichlorophenyl)benzene\",-3.04,0.1,-1.08,0.04, 10.1007/s10822-012-9568-8, 10.1021/acs.jced.7b00104,\"Experimental uncertainty not presently available, so assigned a default value.\"\n",
      "mobley_1036761, C1CCC(CC1)N, cyclohexanamine,-4.59,0.6,-3.95,0.03, 10.1021/ct050097l, 10.1021/acs.jced.7b00104,\"Experimental uncertainty not presently available, so assigned a default value.\"\n"
     ]
    }
   ],
   "source": [
    "!head -n 5 {fn_data_csv}"
   ]
  },
  {
   "cell_type": "code",
   "execution_count": 18,
   "id": "1a512943-4909-4d56-867d-50c151d8d607",
   "metadata": {
    "tags": []
   },
   "outputs": [
    {
     "data": {
      "text/html": [
       "<div>\n",
       "<style scoped>\n",
       "    .dataframe tbody tr th:only-of-type {\n",
       "        vertical-align: middle;\n",
       "    }\n",
       "\n",
       "    .dataframe tbody tr th {\n",
       "        vertical-align: top;\n",
       "    }\n",
       "\n",
       "    .dataframe thead th {\n",
       "        text-align: right;\n",
       "    }\n",
       "</style>\n",
       "<table border=\"1\" class=\"dataframe\">\n",
       "  <thead>\n",
       "    <tr style=\"text-align: right;\">\n",
       "      <th></th>\n",
       "      <th>compound_id</th>\n",
       "      <th>SMILES</th>\n",
       "      <th>iupac_name</th>\n",
       "      <th>exp_value</th>\n",
       "      <th>exp_uncertainty</th>\n",
       "      <th>GAFF</th>\n",
       "      <th>calc_uncertainty</th>\n",
       "      <th>exp_ref</th>\n",
       "      <th>calc_reference</th>\n",
       "      <th>notes</th>\n",
       "    </tr>\n",
       "  </thead>\n",
       "  <tbody>\n",
       "    <tr>\n",
       "      <th>0</th>\n",
       "      <td>mobley_1017962</td>\n",
       "      <td>CCCCCC(=O)OC</td>\n",
       "      <td>methyl hexanoate</td>\n",
       "      <td>-2.49</td>\n",
       "      <td>0.6</td>\n",
       "      <td>-3.30</td>\n",
       "      <td>0.03</td>\n",
       "      <td>10.1021/ct050097l</td>\n",
       "      <td>10.1021/acs.jced.7b00104</td>\n",
       "      <td>Experimental uncertainty not presently availab...</td>\n",
       "    </tr>\n",
       "    <tr>\n",
       "      <th>1</th>\n",
       "      <td>mobley_1019269</td>\n",
       "      <td>CCCCO</td>\n",
       "      <td>butan-1-ol</td>\n",
       "      <td>-4.72</td>\n",
       "      <td>0.6</td>\n",
       "      <td>-3.23</td>\n",
       "      <td>0.03</td>\n",
       "      <td>10.1021/ct050097l</td>\n",
       "      <td>10.1021/acs.jced.7b00104</td>\n",
       "      <td>Experimental uncertainty not presently availab...</td>\n",
       "    </tr>\n",
       "    <tr>\n",
       "      <th>2</th>\n",
       "      <td>mobley_1034539</td>\n",
       "      <td>c1cc(c(cc1c2cc(c(c(c2Cl)Cl)Cl)Cl)Cl)Cl</td>\n",
       "      <td>1,2,3,4-tetrachloro-5-(3,4-dichlorophenyl)ben...</td>\n",
       "      <td>-3.04</td>\n",
       "      <td>0.1</td>\n",
       "      <td>-1.08</td>\n",
       "      <td>0.04</td>\n",
       "      <td>10.1007/s10822-012-9568-8</td>\n",
       "      <td>10.1021/acs.jced.7b00104</td>\n",
       "      <td>Experimental uncertainty not presently availab...</td>\n",
       "    </tr>\n",
       "    <tr>\n",
       "      <th>3</th>\n",
       "      <td>mobley_1036761</td>\n",
       "      <td>C1CCC(CC1)N</td>\n",
       "      <td>cyclohexanamine</td>\n",
       "      <td>-4.59</td>\n",
       "      <td>0.6</td>\n",
       "      <td>-3.95</td>\n",
       "      <td>0.03</td>\n",
       "      <td>10.1021/ct050097l</td>\n",
       "      <td>10.1021/acs.jced.7b00104</td>\n",
       "      <td>Experimental uncertainty not presently availab...</td>\n",
       "    </tr>\n",
       "    <tr>\n",
       "      <th>4</th>\n",
       "      <td>mobley_1046331</td>\n",
       "      <td>c1ccc(cc1)OC=O</td>\n",
       "      <td>phenyl formate</td>\n",
       "      <td>-3.82</td>\n",
       "      <td>0.6</td>\n",
       "      <td>-5.44</td>\n",
       "      <td>0.03</td>\n",
       "      <td>J. Peter Guthrie, unpublished data, as provid...</td>\n",
       "      <td>10.1021/acs.jced.7b00104</td>\n",
       "      <td>Experimental uncertainty not presently availab...</td>\n",
       "    </tr>\n",
       "  </tbody>\n",
       "</table>\n",
       "</div>"
      ],
      "text/plain": [
       "      compound_id                                   SMILES  \\\n",
       "0  mobley_1017962                             CCCCCC(=O)OC   \n",
       "1  mobley_1019269                                    CCCCO   \n",
       "2  mobley_1034539   c1cc(c(cc1c2cc(c(c(c2Cl)Cl)Cl)Cl)Cl)Cl   \n",
       "3  mobley_1036761                              C1CCC(CC1)N   \n",
       "4  mobley_1046331                           c1ccc(cc1)OC=O   \n",
       "\n",
       "                                          iupac_name  exp_value  \\\n",
       "0                                   methyl hexanoate      -2.49   \n",
       "1                                         butan-1-ol      -4.72   \n",
       "2   1,2,3,4-tetrachloro-5-(3,4-dichlorophenyl)ben...      -3.04   \n",
       "3                                    cyclohexanamine      -4.59   \n",
       "4                                     phenyl formate      -3.82   \n",
       "\n",
       "   exp_uncertainty  GAFF  calc_uncertainty  \\\n",
       "0              0.6 -3.30              0.03   \n",
       "1              0.6 -3.23              0.03   \n",
       "2              0.1 -1.08              0.04   \n",
       "3              0.6 -3.95              0.03   \n",
       "4              0.6 -5.44              0.03   \n",
       "\n",
       "                                             exp_ref  \\\n",
       "0                                  10.1021/ct050097l   \n",
       "1                                  10.1021/ct050097l   \n",
       "2                          10.1007/s10822-012-9568-8   \n",
       "3                                  10.1021/ct050097l   \n",
       "4   J. Peter Guthrie, unpublished data, as provid...   \n",
       "\n",
       "              calc_reference  \\\n",
       "0   10.1021/acs.jced.7b00104   \n",
       "1   10.1021/acs.jced.7b00104   \n",
       "2   10.1021/acs.jced.7b00104   \n",
       "3   10.1021/acs.jced.7b00104   \n",
       "4   10.1021/acs.jced.7b00104   \n",
       "\n",
       "                                               notes  \n",
       "0  Experimental uncertainty not presently availab...  \n",
       "1  Experimental uncertainty not presently availab...  \n",
       "2  Experimental uncertainty not presently availab...  \n",
       "3  Experimental uncertainty not presently availab...  \n",
       "4  Experimental uncertainty not presently availab...  "
      ]
     },
     "execution_count": 18,
     "metadata": {},
     "output_type": "execute_result"
    }
   ],
   "source": [
    "df.head()"
   ]
  },
  {
   "cell_type": "markdown",
   "id": "f3d730ce-fce0-49df-9eb8-b917e945fa9a",
   "metadata": {},
   "source": [
    "## Load from csv"
   ]
  },
  {
   "cell_type": "code",
   "execution_count": 59,
   "id": "077b0c5f-8772-4879-9317-3fa28799689b",
   "metadata": {
    "tags": []
   },
   "outputs": [],
   "source": [
    "fn_data_csv = \"data_clean.csv\""
   ]
  },
  {
   "cell_type": "code",
   "execution_count": 60,
   "id": "6eaef0e6-2115-4793-ac43-a196b25d47a0",
   "metadata": {
    "tags": []
   },
   "outputs": [],
   "source": [
    "df = pd.read_csv(fn_data_csv)"
   ]
  },
  {
   "cell_type": "code",
   "execution_count": 61,
   "id": "43619e7c-9c82-4ff0-ae25-403861304635",
   "metadata": {
    "tags": []
   },
   "outputs": [
    {
     "data": {
      "text/html": [
       "<div>\n",
       "<style scoped>\n",
       "    .dataframe tbody tr th:only-of-type {\n",
       "        vertical-align: middle;\n",
       "    }\n",
       "\n",
       "    .dataframe tbody tr th {\n",
       "        vertical-align: top;\n",
       "    }\n",
       "\n",
       "    .dataframe thead th {\n",
       "        text-align: right;\n",
       "    }\n",
       "</style>\n",
       "<table border=\"1\" class=\"dataframe\">\n",
       "  <thead>\n",
       "    <tr style=\"text-align: right;\">\n",
       "      <th></th>\n",
       "      <th>compound_id</th>\n",
       "      <th>SMILES</th>\n",
       "      <th>iupac_name</th>\n",
       "      <th>exp_value</th>\n",
       "      <th>exp_uncertainty</th>\n",
       "      <th>GAFF</th>\n",
       "      <th>calc_uncertainty</th>\n",
       "      <th>exp_ref</th>\n",
       "      <th>calc_reference</th>\n",
       "      <th>notes</th>\n",
       "    </tr>\n",
       "  </thead>\n",
       "  <tbody>\n",
       "    <tr>\n",
       "      <th>0</th>\n",
       "      <td>mobley_1017962</td>\n",
       "      <td>CCCCCC(=O)OC</td>\n",
       "      <td>methyl hexanoate</td>\n",
       "      <td>-2.49</td>\n",
       "      <td>0.6</td>\n",
       "      <td>-3.30</td>\n",
       "      <td>0.03</td>\n",
       "      <td>10.1021/ct050097l</td>\n",
       "      <td>10.1021/acs.jced.7b00104</td>\n",
       "      <td>Experimental uncertainty not presently availab...</td>\n",
       "    </tr>\n",
       "    <tr>\n",
       "      <th>1</th>\n",
       "      <td>mobley_1019269</td>\n",
       "      <td>CCCCO</td>\n",
       "      <td>butan-1-ol</td>\n",
       "      <td>-4.72</td>\n",
       "      <td>0.6</td>\n",
       "      <td>-3.23</td>\n",
       "      <td>0.03</td>\n",
       "      <td>10.1021/ct050097l</td>\n",
       "      <td>10.1021/acs.jced.7b00104</td>\n",
       "      <td>Experimental uncertainty not presently availab...</td>\n",
       "    </tr>\n",
       "    <tr>\n",
       "      <th>2</th>\n",
       "      <td>mobley_1034539</td>\n",
       "      <td>c1cc(c(cc1c2cc(c(c(c2Cl)Cl)Cl)Cl)Cl)Cl</td>\n",
       "      <td>1,2,3,4-tetrachloro-5-(3,4-dichlorophenyl)ben...</td>\n",
       "      <td>-3.04</td>\n",
       "      <td>0.1</td>\n",
       "      <td>-1.08</td>\n",
       "      <td>0.04</td>\n",
       "      <td>10.1007/s10822-012-9568-8</td>\n",
       "      <td>10.1021/acs.jced.7b00104</td>\n",
       "      <td>Experimental uncertainty not presently availab...</td>\n",
       "    </tr>\n",
       "    <tr>\n",
       "      <th>3</th>\n",
       "      <td>mobley_1036761</td>\n",
       "      <td>C1CCC(CC1)N</td>\n",
       "      <td>cyclohexanamine</td>\n",
       "      <td>-4.59</td>\n",
       "      <td>0.6</td>\n",
       "      <td>-3.95</td>\n",
       "      <td>0.03</td>\n",
       "      <td>10.1021/ct050097l</td>\n",
       "      <td>10.1021/acs.jced.7b00104</td>\n",
       "      <td>Experimental uncertainty not presently availab...</td>\n",
       "    </tr>\n",
       "    <tr>\n",
       "      <th>4</th>\n",
       "      <td>mobley_1046331</td>\n",
       "      <td>c1ccc(cc1)OC=O</td>\n",
       "      <td>phenyl formate</td>\n",
       "      <td>-3.82</td>\n",
       "      <td>0.6</td>\n",
       "      <td>-5.44</td>\n",
       "      <td>0.03</td>\n",
       "      <td>J. Peter Guthrie, unpublished data, as provid...</td>\n",
       "      <td>10.1021/acs.jced.7b00104</td>\n",
       "      <td>Experimental uncertainty not presently availab...</td>\n",
       "    </tr>\n",
       "  </tbody>\n",
       "</table>\n",
       "</div>"
      ],
      "text/plain": [
       "      compound_id                                   SMILES  \\\n",
       "0  mobley_1017962                             CCCCCC(=O)OC   \n",
       "1  mobley_1019269                                    CCCCO   \n",
       "2  mobley_1034539   c1cc(c(cc1c2cc(c(c(c2Cl)Cl)Cl)Cl)Cl)Cl   \n",
       "3  mobley_1036761                              C1CCC(CC1)N   \n",
       "4  mobley_1046331                           c1ccc(cc1)OC=O   \n",
       "\n",
       "                                          iupac_name  exp_value  \\\n",
       "0                                   methyl hexanoate      -2.49   \n",
       "1                                         butan-1-ol      -4.72   \n",
       "2   1,2,3,4-tetrachloro-5-(3,4-dichlorophenyl)ben...      -3.04   \n",
       "3                                    cyclohexanamine      -4.59   \n",
       "4                                     phenyl formate      -3.82   \n",
       "\n",
       "   exp_uncertainty  GAFF  calc_uncertainty  \\\n",
       "0              0.6 -3.30              0.03   \n",
       "1              0.6 -3.23              0.03   \n",
       "2              0.1 -1.08              0.04   \n",
       "3              0.6 -3.95              0.03   \n",
       "4              0.6 -5.44              0.03   \n",
       "\n",
       "                                             exp_ref  \\\n",
       "0                                  10.1021/ct050097l   \n",
       "1                                  10.1021/ct050097l   \n",
       "2                          10.1007/s10822-012-9568-8   \n",
       "3                                  10.1021/ct050097l   \n",
       "4   J. Peter Guthrie, unpublished data, as provid...   \n",
       "\n",
       "              calc_reference  \\\n",
       "0   10.1021/acs.jced.7b00104   \n",
       "1   10.1021/acs.jced.7b00104   \n",
       "2   10.1021/acs.jced.7b00104   \n",
       "3   10.1021/acs.jced.7b00104   \n",
       "4   10.1021/acs.jced.7b00104   \n",
       "\n",
       "                                               notes  \n",
       "0  Experimental uncertainty not presently availab...  \n",
       "1  Experimental uncertainty not presently availab...  \n",
       "2  Experimental uncertainty not presently availab...  \n",
       "3  Experimental uncertainty not presently availab...  \n",
       "4  Experimental uncertainty not presently availab...  "
      ]
     },
     "execution_count": 61,
     "metadata": {},
     "output_type": "execute_result"
    }
   ],
   "source": [
    "df.head()"
   ]
  },
  {
   "cell_type": "markdown",
   "id": "2f06e57c-02c5-493b-af65-c8bb9ac59421",
   "metadata": {},
   "source": [
    "# meta YAML"
   ]
  },
  {
   "cell_type": "code",
   "execution_count": 98,
   "id": "d3890961-444e-4a26-b8fc-ed8c4e959af9",
   "metadata": {
    "tags": []
   },
   "outputs": [],
   "source": [
    "meta = {\n",
    "    \"name\": \"freesolv\",  # unique identifier, we will also use this for directory names\n",
    "    \"description\": \"Experimental and calculated small molecule hydration free energies\",\n",
    "    \"targets\": [\n",
    "        {\n",
    "            \"id\": \"exp_value\",  # name of the column in a tabular dataset\n",
    "            \"description\": \"experimental hydration free energy value\",  # description of what this column means\n",
    "            \"units\": \"kcal/mol\",  # units of the values in this column (leave empty if unitless)\n",
    "            \"type\": \"continuous\",  # can be \"categorical\", \"ordinal\", \"continuous\"\n",
    "            \"names\": [  #  names for the property (to sample from for building the prompts)\n",
    "                \"hydration free energy\",\n",
    "            ],\n",
    "        },\n",
    "        {\n",
    "            \"id\": \"exp_uncertainty\",\n",
    "            \"description\": \"experimental hydration free energy uncertainty\",\n",
    "            \"units\": \"kcal/mol\",\n",
    "            \"type\": \"continuos\",\n",
    "            \"names\": [\n",
    "                \"hydration free energy uncertainty\",\n",
    "            ],\n",
    "        },\n",
    "        {\n",
    "            \"id\": \"GAFF\",  # name of the column in a tabular dataset\n",
    "            \"description\": \"mobley group calculated value\",  # description of what this column means\n",
    "            \"units\": \"kcal/mol\",  # units of the values in this column (leave empty if unitless)\n",
    "            \"type\": \"continuous\",  # can be \"categorical\", \"ordinal\", \"continuous\"\n",
    "            \"names\": [  # names for the property (to sample from for building the prompts)\n",
    "                \"GAFF\",\n",
    "                \"mobley group calculated value\",\n",
    "            ],\n",
    "        },\n",
    "        {\n",
    "            \"id\": \"calc_uncertainty\",\n",
    "            \"description\": \"mobley group calculated value calculated uncertainty\",\n",
    "            \"units\": \"kcal/mol\",\n",
    "            \"type\": \"continuos\",\n",
    "            \"names\": [\n",
    "                \"GAFF uncertainty\",\n",
    "                \"mobley group calculated value uncertainty\",\n",
    "            ],\n",
    "        },\n",
    "    ],\n",
    "    \"identifiers\": [\n",
    "        {\n",
    "            \"id\": \"SMILES\",  # column name\n",
    "            \"type\": \"SMILES\",  # can be \"SMILES\", \"SELFIES\", \"IUPAC\", \"OTHER\"\n",
    "            \"description\": \"SMILES\",  # description (optional, except for \"OTHER\")\n",
    "        },\n",
    "        {\n",
    "            \"id\": \"iupac_name\",\n",
    "            \"type\": \"IUPAC\",\n",
    "            \"description\": \"IUPAC\",\n",
    "        },\n",
    "    ],\n",
    "    \"license\": \"CC BY-NC-SA 4.0\",  # license under which the original dataset was published\n",
    "    \"links\": [  # list of relevant links (original dataset, other uses, etc.)\n",
    "        \"https://github.com/MobleyLab/FreeSolv\",\n",
    "        \"https://escholarship.org/uc/item/6sd403pz\",\n",
    "    ],\n",
    "    \"num_points\": len(df),  # number of datapoints in this dataset\n",
    "    \"url\": \"https://github.com/MobleyLab/FreeSolv\",\n",
    "    \"bibtex\": [\n",
    "        \"\"\"@article{mobley2013experimental,\n",
    "        title={Experimental and calculated small molecule hydration free energies},\n",
    "        author={Mobley, David L},\n",
    "        year={2013}\"\"\",\n",
    "    ],\n",
    "}"
   ]
  },
  {
   "cell_type": "code",
   "execution_count": 41,
   "id": "580bbd79-4845-4515-be94-3e4a9815d048",
   "metadata": {
    "tags": []
   },
   "outputs": [],
   "source": [
    "fn_meta = \"meta.yaml\""
   ]
  },
  {
   "cell_type": "code",
   "execution_count": 42,
   "id": "873fa5dd-9b60-40f5-b537-4d7a206414ea",
   "metadata": {
    "tags": []
   },
   "outputs": [],
   "source": [
    "with open(fn_meta, \"w\") as f:\n",
    "    yaml.dump(meta, f, sort_keys=False)"
   ]
  },
  {
   "cell_type": "code",
   "execution_count": null,
   "id": "d01686c0-6746-4fc4-b019-350270dfc26f",
   "metadata": {
    "tags": []
   },
   "outputs": [],
   "source": [
    "!ls -lh {fn_meta}"
   ]
  },
  {
   "cell_type": "code",
   "execution_count": 62,
   "id": "ef6063c5-7a8b-4344-bccf-a073443feebf",
   "metadata": {
    "tags": []
   },
   "outputs": [
    {
     "name": "stdout",
     "output_type": "stream",
     "text": [
      "bibtex: \"@article{mobley2013experimental,\\n    title={Experimental and calculated\\\n",
      "  \\ small molecule hydration free energies},\\n    author={Mobley, David L},\\n    year={2013}\\n\\\n",
      "  \\    \"\n",
      "description: Experimental and calculated small molecule hydration free energies\n",
      "identifiers:\n",
      "- description: SMILES\n",
      "  id: SMILES\n",
      "  type: SMILES\n",
      "- description: IUPAC\n",
      "  id: iupac_name\n",
      "  type: IUPAC\n",
      "license: CC BY-NC-SA 4.0\n",
      "links:\n",
      "- https://github.com/MobleyLab/FreeSolv\n",
      "- https://escholarship.org/uc/item/6sd403pz\n",
      "name: freesolv\n",
      "num_points: 642\n",
      "targets:\n",
      "- description: experimental hydration free energy value\n",
      "  id: exp_value\n",
      "  names:\n",
      "  - hydration free energy\n",
      "  type: continuous\n",
      "  units: kcal/mol\n",
      "- description: experimental hydration free energy uncertainty\n",
      "  id: exp_uncertainty\n",
      "  names:\n",
      "  - hydration free energy uncertainty\n",
      "  type: continuos\n",
      "  units: kcal/mol\n",
      "- description: mobley group calculated value\n",
      "  id: GAFF\n",
      "  names:\n",
      "  - GAFF\n",
      "  - mobley group calculated value\n",
      "  type: continuous\n",
      "  units: kcal/mol\n",
      "- description: mobley group calculated value calculated uncertainty\n",
      "  id: calc_uncertainty\n",
      "  names:\n",
      "  - GAFF uncertainty\n",
      "  - mobley group calculated value uncertainty\n",
      "  type: continuos\n",
      "  units: kcal/mol\n",
      "url: https://github.com/MobleyLab/FreeSolv\n"
     ]
    }
   ],
   "source": [
    "!cat {fn_meta}"
   ]
  },
  {
   "cell_type": "markdown",
   "id": "bd3f930a-638b-4bb7-a1d2-80688f2f6891",
   "metadata": {},
   "source": [
    "# create transform.py"
   ]
  },
  {
   "cell_type": "code",
   "execution_count": 51,
   "id": "9aab00fd-58a8-40b0-be30-1e269e0d323b",
   "metadata": {
    "tags": []
   },
   "outputs": [],
   "source": [
    "path_file = \"transform.py\""
   ]
  },
  {
   "cell_type": "code",
   "execution_count": 101,
   "id": "8368bb20-8e1c-4b7d-b0e2-b39da36b5972",
   "metadata": {
    "tags": []
   },
   "outputs": [
    {
     "name": "stdout",
     "output_type": "stream",
     "text": [
      "Overwriting transform.py\n"
     ]
    }
   ],
   "source": [
    "%%writefile $path_file\n",
    "import pandas as pd\n",
    "import requests\n",
    "import yaml\n",
    "\n",
    "\n",
    "def get_and_transform_data():\n",
    "    # get raw data\n",
    "    data_path = (\n",
    "        \"https://raw.githubusercontent.com/MobleyLab/FreeSolv/master/database.txt\"\n",
    "    )\n",
    "    fn_data_original = \"data_original.txt\"\n",
    "    data = requests.get(data_path)\n",
    "    with open(fn_data_original, \"wb\") as f:\n",
    "        f.write(data.content)\n",
    "\n",
    "    # create dataframe\n",
    "    df = pd.read_csv(fn_data_original, delimiter=\";\", skiprows=2)\n",
    "\n",
    "    # check if fields are the same\n",
    "    fields_orig = df.columns.tolist()\n",
    "    assert fields_orig == [\n",
    "        \"# compound id (and file prefix)\",\n",
    "        \" SMILES\",\n",
    "        \" iupac name (or alternative if IUPAC is unavailable or not parseable by OEChem)\",\n",
    "        \" experimental value (kcal/mol)\",\n",
    "        \" experimental uncertainty (kcal/mol)\",\n",
    "        \" Mobley group calculated value (GAFF) (kcal/mol)\",\n",
    "        \" calculated uncertainty (kcal/mol)\",\n",
    "        \" experimental reference (original or paper this value was taken from)\",\n",
    "        \" calculated reference\",\n",
    "        \" text notes.\",\n",
    "    ]\n",
    "\n",
    "    # overwrite column names = fields\n",
    "    fields_clean = [\n",
    "        \"compound_id\",\n",
    "        \"SMILES\",\n",
    "        \"iupac_name\",\n",
    "        \"exp_value\",\n",
    "        \"exp_uncertainty\",\n",
    "        \"GAFF\",\n",
    "        \"calc_uncertainty\",\n",
    "        \"exp_ref\",\n",
    "        \"calc_reference\",\n",
    "        \"notes\",\n",
    "    ]\n",
    "    df.columns = fields_clean\n",
    "\n",
    "    # data cleaning\n",
    "    df.notes = (\n",
    "        df.notes.str.strip()  # remove leading and trailing white space characters\n",
    "    )\n",
    "\n",
    "    # save to csv\n",
    "    fn_data_csv = \"data_clean.csv\"\n",
    "    df.to_csv(fn_data_csv, index=False)\n",
    "\n",
    "    # create meta yaml\n",
    "    meta = {\n",
    "        \"name\": \"freesolv\",  # unique identifier, we will also use this for directory names\n",
    "        \"description\": \"Experimental and calculated small molecule hydration free energies\",\n",
    "        \"targets\": [\n",
    "            {\n",
    "                \"id\": \"exp_value\",  # name of the column in a tabular dataset\n",
    "                \"description\": \"experimental hydration free energy value\",  # description of what this column means\n",
    "                \"units\": \"kcal/mol\",  # units of the values in this column (leave empty if unitless)\n",
    "                \"type\": \"continuous\",  # can be \"categorical\", \"ordinal\", \"continuous\"\n",
    "                \"names\": [  #  names for the property (to sample from for building the prompts)\n",
    "                    \"hydration free energy\",\n",
    "                ],\n",
    "            },\n",
    "            {\n",
    "                \"id\": \"exp_uncertainty\",\n",
    "                \"description\": \"experimental hydration free energy uncertainty\",\n",
    "                \"units\": \"kcal/mol\",\n",
    "                \"type\": \"continuos\",\n",
    "                \"names\": [\n",
    "                    \"hydration free energy uncertainty\",\n",
    "                ],\n",
    "            },\n",
    "            {\n",
    "                \"id\": \"GAFF\",  # name of the column in a tabular dataset\n",
    "                \"description\": \"mobley group calculated value\",  # description of what this column means\n",
    "                \"units\": \"kcal/mol\",  # units of the values in this column (leave empty if unitless)\n",
    "                \"type\": \"continuous\",  # can be \"categorical\", \"ordinal\", \"continuous\"\n",
    "                \"names\": [  # names for the property (to sample from for building the prompts)\n",
    "                    \"GAFF\",\n",
    "                    \"mobley group calculated value\",\n",
    "                ],\n",
    "            },\n",
    "            {\n",
    "                \"id\": \"calc_uncertainty\",\n",
    "                \"description\": \"mobley group calculated value calculated uncertainty\",\n",
    "                \"units\": \"kcal/mol\",\n",
    "                \"type\": \"continuos\",\n",
    "                \"names\": [\n",
    "                    \"GAFF uncertainty\",\n",
    "                    \"mobley group calculated value uncertainty\",\n",
    "                ],\n",
    "            },\n",
    "        ],\n",
    "        \"identifiers\": [\n",
    "            {\n",
    "                \"id\": \"SMILES\",  # column name\n",
    "                \"type\": \"SMILES\",  # can be \"SMILES\", \"SELFIES\", \"IUPAC\", \"OTHER\"\n",
    "                \"description\": \"SMILES\",  # description (optional, except for \"OTHER\")\n",
    "            },\n",
    "            {\n",
    "                \"id\": \"iupac_name\",\n",
    "                \"type\": \"IUPAC\",\n",
    "                \"description\": \"IUPAC\",\n",
    "            },\n",
    "        ],\n",
    "        \"license\": \"CC BY-NC-SA 4.0\",  # license under which the original dataset was published\n",
    "        \"links\": [  # list of relevant links (original dataset, other uses, etc.)\n",
    "            \"https://github.com/MobleyLab/FreeSolv\",\n",
    "            \"https://escholarship.org/uc/item/6sd403pz\",\n",
    "        ],\n",
    "        \"num_points\": len(df),  # number of datapoints in this dataset\n",
    "        \"url\": \"https://github.com/MobleyLab/FreeSolv\",\n",
    "        \"bibtex\": [\n",
    "            \"\"\"@article{mobley2013experimental,\n",
    "            title={Experimental and calculated small molecule hydration free energies},\n",
    "            author={Mobley, David L},\n",
    "            year={2013}\"\"\",\n",
    "        ],\n",
    "    }\n",
    "    fn_meta = \"meta.yaml\"\n",
    "    with open(fn_meta, \"w\") as f:\n",
    "        yaml.dump(meta, f, sort_keys=False)\n",
    "\n",
    "    print(f\"Finished processing {meta['name']} dataset!\")\n",
    "\n",
    "\n",
    "if __name__ == \"__main__\":\n",
    "    get_and_transform_data()"
   ]
  },
  {
   "cell_type": "code",
   "execution_count": 102,
   "id": "d0474f26-70f3-4655-b81a-df4ada90e7a6",
   "metadata": {
    "tags": []
   },
   "outputs": [
    {
     "name": "stdout",
     "output_type": "stream",
     "text": [
      "Finished processing freesolv dataset!\n"
     ]
    }
   ],
   "source": [
    "!python3 transform.py"
   ]
  },
  {
   "cell_type": "code",
   "execution_count": null,
   "id": "953e7bee-bd5e-41d0-a2be-506e0bc97727",
   "metadata": {
    "tags": []
   },
   "outputs": [],
   "source": [
    "ls -lh  # fmt: skip"
   ]
  },
  {
   "cell_type": "markdown",
   "id": "0b08ed06-ba66-4f76-bde1-368ea77d1739",
   "metadata": {},
   "source": [
    "# End"
   ]
  }
 ],
 "metadata": {
  "kernelspec": {
   "display_name": "hfdataset",
   "language": "python",
   "name": "hfdataset"
  },
  "language_info": {
   "codemirror_mode": {
    "name": "ipython",
    "version": 3
   },
   "file_extension": ".py",
   "mimetype": "text/x-python",
   "name": "python",
   "nbconvert_exporter": "python",
   "pygments_lexer": "ipython3",
   "version": "3.8.13"
  }
 },
 "nbformat": 4,
 "nbformat_minor": 5
}
