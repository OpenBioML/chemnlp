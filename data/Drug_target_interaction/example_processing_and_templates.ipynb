{
 "cells": [
  {
   "cell_type": "markdown",
   "id": "27c08f91-3fa0-4800-8f6a-96a96f665cad",
   "metadata": {},
   "source": [
    "# Drug-Target Interaction, Liu et al."
   ]
  },
  {
   "cell_type": "markdown",
   "id": "6ef172b9-aad2-47da-bf4c-844a2a07ee8c",
   "metadata": {},
   "source": [
    "Original data repository: https://tdcommons.ai/multi_pred_tasks/dti/"
   ]
  },
  {
   "cell_type": "markdown",
   "id": "7d18c95d-2ec6-45e1-addc-54a890097b8e",
   "metadata": {},
   "source": [
    "# Imports"
   ]
  },
  {
   "cell_type": "code",
   "execution_count": 1,
   "id": "cf59e3e9-8061-4022-9eae-e978311b4155",
   "metadata": {
    "tags": []
   },
   "outputs": [],
   "source": [
    "import pandas as pd\n",
    "import yaml\n",
    "from tdc.multi_pred import DTI"
   ]
  },
  {
   "cell_type": "markdown",
   "id": "a6751ff9-2e3e-4d01-8395-7a5ae0c200d7",
   "metadata": {},
   "source": [
    "# Data processing"
   ]
  },
  {
   "cell_type": "markdown",
   "id": "a1169ad2-e4bb-41c6-9625-6d1644c44a5b",
   "metadata": {},
   "source": [
    "## Download data"
   ]
  },
  {
   "cell_type": "code",
   "execution_count": 2,
   "id": "7bb8eb5e-f513-40d2-a68c-7cda1a51ad31",
   "metadata": {
    "tags": []
   },
   "outputs": [],
   "source": [
    "fn_data_original = \"data_original.csv\""
   ]
  },
  {
   "cell_type": "code",
   "execution_count": 3,
   "id": "b39a142e-ccbc-49d2-98b0-a5f9bde9fd27",
   "metadata": {
    "tags": []
   },
   "outputs": [
    {
     "name": "stderr",
     "output_type": "stream",
     "text": [
      "Downloading...\n",
      "100%|█████████████████████████████████████████████████████████████████████████████████████████████████████████████████████████████████████████████████████████████████████████████████████████| 54.4M/54.4M [00:15<00:00, 3.41MiB/s]\n",
      "Loading...\n",
      "Done!\n"
     ]
    }
   ],
   "source": [
    "data = DTI(name = 'BindingDB_Kd')"
   ]
  },
  {
   "cell_type": "code",
   "execution_count": 4,
   "id": "26d9f62a-07f5-4113-8161-d5dfcf0bfb71",
   "metadata": {
    "tags": []
   },
   "outputs": [],
   "source": [
    "data.get_data().to_csv(fn_data_original, index=False)"
   ]
  },
  {
   "cell_type": "code",
   "execution_count": 5,
   "id": "43873fc3-20a8-487d-a7c5-33bd58414159",
   "metadata": {
    "tags": []
   },
   "outputs": [
    {
     "name": "stdout",
     "output_type": "stream",
     "text": [
      "total 82856\r\n",
      "drwxr-xr-x  3 cody  staff    96B Mar 18 19:00 \u001b[34mdata\u001b[m\u001b[m\r\n",
      "-rw-r--r--  1 cody  staff    39M Mar 18 19:00 data_original.csv\r\n",
      "-rw-r--r--  1 cody  staff    46K Mar 18 18:58 example_processing_and_templates.ipynb\r\n",
      "-rw-r--r--@ 1 cody  staff   1.8K Mar 15 22:47 meta.yaml\r\n",
      "-rw-r--r--@ 1 cody  staff   5.1K Mar 18 19:00 transform.py\r\n"
     ]
    }
   ],
   "source": [
    "!ls -lh"
   ]
  },
  {
   "cell_type": "markdown",
   "id": "d9cda29a-a133-4f0e-992b-e77c9070ee93",
   "metadata": {},
   "source": [
    "## Load original data"
   ]
  },
  {
   "cell_type": "code",
   "execution_count": 6,
   "id": "77f614e7-b133-40bc-8759-2d930e4c120e",
   "metadata": {
    "tags": []
   },
   "outputs": [
    {
     "name": "stdout",
     "output_type": "stream",
     "text": [
      "Drug_ID,Drug,Target_ID,Target,Y\r\n",
      "444607.0,Cc1ccc(CNS(=O)(=O)c2ccc(S(N)(=O)=O)s2)cc1,P00918,MSHHWGYGKHNGPEHWHKDFPIAKGERQSPVDIDTHTAKYDPSLKPLSVSYDQATSLRILNNGHAFNVEFDDSQDKAVLKGGPLDGTYRLIQFHFHWGSLDGQGSEHTVDKKKYAAELHLVHWNTKYGDFGKAVQQPDGLAVLGIFLKVGSAKPGLQKVVDVLDSIKTKGKSADFTNFDPRGLLPESLDYWTYPGSLTTPPLLECVTWIVLKEPISVSSEQVLKFRKLNFNGEGEPEELMVDNWRPAQPLKNRQIKASFK,0.46\r\n",
      "4316.0,COc1ccc(CNS(=O)(=O)c2ccc(S(N)(=O)=O)s2)cc1,P00918,MSHHWGYGKHNGPEHWHKDFPIAKGERQSPVDIDTHTAKYDPSLKPLSVSYDQATSLRILNNGHAFNVEFDDSQDKAVLKGGPLDGTYRLIQFHFHWGSLDGQGSEHTVDKKKYAAELHLVHWNTKYGDFGKAVQQPDGLAVLGIFLKVGSAKPGLQKVVDVLDSIKTKGKSADFTNFDPRGLLPESLDYWTYPGSLTTPPLLECVTWIVLKEPISVSSEQVLKFRKLNFNGEGEPEELMVDNWRPAQPLKNRQIKASFK,0.49\r\n",
      "4293.0,NS(=O)(=O)c1ccc(S(=O)(=O)NCc2cccs2)s1,P00918,MSHHWGYGKHNGPEHWHKDFPIAKGERQSPVDIDTHTAKYDPSLKPLSVSYDQATSLRILNNGHAFNVEFDDSQDKAVLKGGPLDGTYRLIQFHFHWGSLDGQGSEHTVDKKKYAAELHLVHWNTKYGDFGKAVQQPDGLAVLGIFLKVGSAKPGLQKVVDVLDSIKTKGKSADFTNFDPRGLLPESLDYWTYPGSLTTPPLLECVTWIVLKEPISVSSEQVLKFRKLNFNGEGEPEELMVDNWRPAQPLKNRQIKASFK,0.83\r\n",
      "1611.0,NS(=O)(=O)c1cc2c(s1)S(=O)(=O)N(Cc1cccs1)CC2O,P00918,MSHHWGYGKHNGPEHWHKDFPIAKGERQSPVDIDTHTAKYDPSLKPLSVSYDQATSLRILNNGHAFNVEFDDSQDKAVLKGGPLDGTYRLIQFHFHWGSLDGQGSEHTVDKKKYAAELHLVHWNTKYGDFGKAVQQPDGLAVLGIFLKVGSAKPGLQKVVDVLDSIKTKGKSADFTNFDPRGLLPESLDYWTYPGSLTTPPLLECVTWIVLKEPISVSSEQVLKFRKLNFNGEGEPEELMVDNWRPAQPLKNRQIKASFK,0.2\r\n"
     ]
    }
   ],
   "source": [
    "!head -n 5 {fn_data_original}"
   ]
  },
  {
   "cell_type": "code",
   "execution_count": 7,
   "id": "8f5a0387-f9e3-4e1a-8d14-5df618195f70",
   "metadata": {
    "tags": []
   },
   "outputs": [],
   "source": [
    "df = pd.read_csv(fn_data_original, delimiter=\",\")"
   ]
  },
  {
   "cell_type": "code",
   "execution_count": 8,
   "id": "55b0bd63-62a0-469e-9d8a-e9ada3fe01c4",
   "metadata": {
    "tags": []
   },
   "outputs": [
    {
     "data": {
      "text/html": [
       "<div>\n",
       "<style scoped>\n",
       "    .dataframe tbody tr th:only-of-type {\n",
       "        vertical-align: middle;\n",
       "    }\n",
       "\n",
       "    .dataframe tbody tr th {\n",
       "        vertical-align: top;\n",
       "    }\n",
       "\n",
       "    .dataframe thead th {\n",
       "        text-align: right;\n",
       "    }\n",
       "</style>\n",
       "<table border=\"1\" class=\"dataframe\">\n",
       "  <thead>\n",
       "    <tr style=\"text-align: right;\">\n",
       "      <th></th>\n",
       "      <th>Drug_ID</th>\n",
       "      <th>Drug</th>\n",
       "      <th>Target_ID</th>\n",
       "      <th>Target</th>\n",
       "      <th>Y</th>\n",
       "    </tr>\n",
       "  </thead>\n",
       "  <tbody>\n",
       "    <tr>\n",
       "      <th>0</th>\n",
       "      <td>444607.0</td>\n",
       "      <td>Cc1ccc(CNS(=O)(=O)c2ccc(S(N)(=O)=O)s2)cc1</td>\n",
       "      <td>P00918</td>\n",
       "      <td>MSHHWGYGKHNGPEHWHKDFPIAKGERQSPVDIDTHTAKYDPSLKP...</td>\n",
       "      <td>0.46</td>\n",
       "    </tr>\n",
       "    <tr>\n",
       "      <th>1</th>\n",
       "      <td>4316.0</td>\n",
       "      <td>COc1ccc(CNS(=O)(=O)c2ccc(S(N)(=O)=O)s2)cc1</td>\n",
       "      <td>P00918</td>\n",
       "      <td>MSHHWGYGKHNGPEHWHKDFPIAKGERQSPVDIDTHTAKYDPSLKP...</td>\n",
       "      <td>0.49</td>\n",
       "    </tr>\n",
       "    <tr>\n",
       "      <th>2</th>\n",
       "      <td>4293.0</td>\n",
       "      <td>NS(=O)(=O)c1ccc(S(=O)(=O)NCc2cccs2)s1</td>\n",
       "      <td>P00918</td>\n",
       "      <td>MSHHWGYGKHNGPEHWHKDFPIAKGERQSPVDIDTHTAKYDPSLKP...</td>\n",
       "      <td>0.83</td>\n",
       "    </tr>\n",
       "    <tr>\n",
       "      <th>3</th>\n",
       "      <td>1611.0</td>\n",
       "      <td>NS(=O)(=O)c1cc2c(s1)S(=O)(=O)N(Cc1cccs1)CC2O</td>\n",
       "      <td>P00918</td>\n",
       "      <td>MSHHWGYGKHNGPEHWHKDFPIAKGERQSPVDIDTHTAKYDPSLKP...</td>\n",
       "      <td>0.20</td>\n",
       "    </tr>\n",
       "    <tr>\n",
       "      <th>4</th>\n",
       "      <td>1612.0</td>\n",
       "      <td>COc1ccc(N2CC(O)c3cc(S(N)(=O)=O)sc3S2(=O)=O)cc1</td>\n",
       "      <td>P00918</td>\n",
       "      <td>MSHHWGYGKHNGPEHWHKDFPIAKGERQSPVDIDTHTAKYDPSLKP...</td>\n",
       "      <td>0.16</td>\n",
       "    </tr>\n",
       "  </tbody>\n",
       "</table>\n",
       "</div>"
      ],
      "text/plain": [
       "    Drug_ID                                            Drug Target_ID  \\\n",
       "0  444607.0       Cc1ccc(CNS(=O)(=O)c2ccc(S(N)(=O)=O)s2)cc1    P00918   \n",
       "1    4316.0      COc1ccc(CNS(=O)(=O)c2ccc(S(N)(=O)=O)s2)cc1    P00918   \n",
       "2    4293.0           NS(=O)(=O)c1ccc(S(=O)(=O)NCc2cccs2)s1    P00918   \n",
       "3    1611.0    NS(=O)(=O)c1cc2c(s1)S(=O)(=O)N(Cc1cccs1)CC2O    P00918   \n",
       "4    1612.0  COc1ccc(N2CC(O)c3cc(S(N)(=O)=O)sc3S2(=O)=O)cc1    P00918   \n",
       "\n",
       "                                              Target     Y  \n",
       "0  MSHHWGYGKHNGPEHWHKDFPIAKGERQSPVDIDTHTAKYDPSLKP...  0.46  \n",
       "1  MSHHWGYGKHNGPEHWHKDFPIAKGERQSPVDIDTHTAKYDPSLKP...  0.49  \n",
       "2  MSHHWGYGKHNGPEHWHKDFPIAKGERQSPVDIDTHTAKYDPSLKP...  0.83  \n",
       "3  MSHHWGYGKHNGPEHWHKDFPIAKGERQSPVDIDTHTAKYDPSLKP...  0.20  \n",
       "4  MSHHWGYGKHNGPEHWHKDFPIAKGERQSPVDIDTHTAKYDPSLKP...  0.16  "
      ]
     },
     "execution_count": 8,
     "metadata": {},
     "output_type": "execute_result"
    }
   ],
   "source": [
    "df.head()"
   ]
  },
  {
   "cell_type": "markdown",
   "id": "95158ac1-05d7-4a21-b8e4-7f720306d331",
   "metadata": {},
   "source": [
    "## Add column = field names\n",
    "Clean column names (`fields_clean`) and keep original names (`fields_orig`)"
   ]
  },
  {
   "cell_type": "code",
   "execution_count": 9,
   "id": "ec2458e5-455f-4f03-8ce9-c0d12e9ed371",
   "metadata": {
    "tags": []
   },
   "outputs": [
    {
     "data": {
      "text/plain": [
       "['Drug_ID', 'Drug', 'Target_ID', 'Target', 'Y']"
      ]
     },
     "execution_count": 9,
     "metadata": {},
     "output_type": "execute_result"
    }
   ],
   "source": [
    "fields_orig = df.columns.tolist()\n",
    "fields_orig"
   ]
  },
  {
   "cell_type": "code",
   "execution_count": 10,
   "id": "a46dd8ff-37b3-4894-8226-3bf98226dd09",
   "metadata": {
    "tags": []
   },
   "outputs": [],
   "source": [
    "fields_clean = [\n",
    "        \"compound_name\",\n",
    "        \"SMILES\",\n",
    "        \"target_name\",\n",
    "        \"Target_aa\",\n",
    "        \"binding\",\n",
    "    ]"
   ]
  },
  {
   "cell_type": "code",
   "execution_count": 11,
   "id": "785d37cb-1fb4-4a91-a923-d5a78a37f36a",
   "metadata": {
    "tags": []
   },
   "outputs": [],
   "source": [
    "df.columns = fields_clean"
   ]
  },
  {
   "cell_type": "code",
   "execution_count": 12,
   "id": "1bf212cb-1653-457b-9f5d-416d4dd14b53",
   "metadata": {
    "tags": []
   },
   "outputs": [
    {
     "data": {
      "text/html": [
       "<div>\n",
       "<style scoped>\n",
       "    .dataframe tbody tr th:only-of-type {\n",
       "        vertical-align: middle;\n",
       "    }\n",
       "\n",
       "    .dataframe tbody tr th {\n",
       "        vertical-align: top;\n",
       "    }\n",
       "\n",
       "    .dataframe thead th {\n",
       "        text-align: right;\n",
       "    }\n",
       "</style>\n",
       "<table border=\"1\" class=\"dataframe\">\n",
       "  <thead>\n",
       "    <tr style=\"text-align: right;\">\n",
       "      <th></th>\n",
       "      <th>compound_name</th>\n",
       "      <th>SMILES</th>\n",
       "      <th>target_name</th>\n",
       "      <th>Target_aa</th>\n",
       "      <th>binding</th>\n",
       "    </tr>\n",
       "  </thead>\n",
       "  <tbody>\n",
       "    <tr>\n",
       "      <th>0</th>\n",
       "      <td>444607.0</td>\n",
       "      <td>Cc1ccc(CNS(=O)(=O)c2ccc(S(N)(=O)=O)s2)cc1</td>\n",
       "      <td>P00918</td>\n",
       "      <td>MSHHWGYGKHNGPEHWHKDFPIAKGERQSPVDIDTHTAKYDPSLKP...</td>\n",
       "      <td>0.46</td>\n",
       "    </tr>\n",
       "    <tr>\n",
       "      <th>1</th>\n",
       "      <td>4316.0</td>\n",
       "      <td>COc1ccc(CNS(=O)(=O)c2ccc(S(N)(=O)=O)s2)cc1</td>\n",
       "      <td>P00918</td>\n",
       "      <td>MSHHWGYGKHNGPEHWHKDFPIAKGERQSPVDIDTHTAKYDPSLKP...</td>\n",
       "      <td>0.49</td>\n",
       "    </tr>\n",
       "    <tr>\n",
       "      <th>2</th>\n",
       "      <td>4293.0</td>\n",
       "      <td>NS(=O)(=O)c1ccc(S(=O)(=O)NCc2cccs2)s1</td>\n",
       "      <td>P00918</td>\n",
       "      <td>MSHHWGYGKHNGPEHWHKDFPIAKGERQSPVDIDTHTAKYDPSLKP...</td>\n",
       "      <td>0.83</td>\n",
       "    </tr>\n",
       "    <tr>\n",
       "      <th>3</th>\n",
       "      <td>1611.0</td>\n",
       "      <td>NS(=O)(=O)c1cc2c(s1)S(=O)(=O)N(Cc1cccs1)CC2O</td>\n",
       "      <td>P00918</td>\n",
       "      <td>MSHHWGYGKHNGPEHWHKDFPIAKGERQSPVDIDTHTAKYDPSLKP...</td>\n",
       "      <td>0.20</td>\n",
       "    </tr>\n",
       "    <tr>\n",
       "      <th>4</th>\n",
       "      <td>1612.0</td>\n",
       "      <td>COc1ccc(N2CC(O)c3cc(S(N)(=O)=O)sc3S2(=O)=O)cc1</td>\n",
       "      <td>P00918</td>\n",
       "      <td>MSHHWGYGKHNGPEHWHKDFPIAKGERQSPVDIDTHTAKYDPSLKP...</td>\n",
       "      <td>0.16</td>\n",
       "    </tr>\n",
       "  </tbody>\n",
       "</table>\n",
       "</div>"
      ],
      "text/plain": [
       "   compound_name                                          SMILES target_name  \\\n",
       "0       444607.0       Cc1ccc(CNS(=O)(=O)c2ccc(S(N)(=O)=O)s2)cc1      P00918   \n",
       "1         4316.0      COc1ccc(CNS(=O)(=O)c2ccc(S(N)(=O)=O)s2)cc1      P00918   \n",
       "2         4293.0           NS(=O)(=O)c1ccc(S(=O)(=O)NCc2cccs2)s1      P00918   \n",
       "3         1611.0    NS(=O)(=O)c1cc2c(s1)S(=O)(=O)N(Cc1cccs1)CC2O      P00918   \n",
       "4         1612.0  COc1ccc(N2CC(O)c3cc(S(N)(=O)=O)sc3S2(=O)=O)cc1      P00918   \n",
       "\n",
       "                                           Target_aa  binding  \n",
       "0  MSHHWGYGKHNGPEHWHKDFPIAKGERQSPVDIDTHTAKYDPSLKP...     0.46  \n",
       "1  MSHHWGYGKHNGPEHWHKDFPIAKGERQSPVDIDTHTAKYDPSLKP...     0.49  \n",
       "2  MSHHWGYGKHNGPEHWHKDFPIAKGERQSPVDIDTHTAKYDPSLKP...     0.83  \n",
       "3  MSHHWGYGKHNGPEHWHKDFPIAKGERQSPVDIDTHTAKYDPSLKP...     0.20  \n",
       "4  MSHHWGYGKHNGPEHWHKDFPIAKGERQSPVDIDTHTAKYDPSLKP...     0.16  "
      ]
     },
     "execution_count": 12,
     "metadata": {},
     "output_type": "execute_result"
    }
   ],
   "source": [
    "df.head()"
   ]
  },
  {
   "cell_type": "markdown",
   "id": "1bfaeb22-26fb-4964-a71f-cae8335e5372",
   "metadata": {},
   "source": [
    "## Data cleaning"
   ]
  },
  {
   "cell_type": "code",
   "execution_count": 13,
   "id": "7e746003-cb1f-434f-bba6-00f0c439c4ac",
   "metadata": {
    "tags": []
   },
   "outputs": [],
   "source": [
    "df.columns = fields_clean\n"
   ]
  },
  {
   "cell_type": "code",
   "execution_count": 14,
   "id": "d544fa60-343e-40e1-bd0c-4750f07a7145",
   "metadata": {
    "tags": []
   },
   "outputs": [],
   "source": [
    "assert not df.duplicated().sum()"
   ]
  },
  {
   "cell_type": "markdown",
   "id": "bc6f52c1-e0f6-48b3-95f4-e36d9a5ecde8",
   "metadata": {},
   "source": [
    "## Save to csv"
   ]
  },
  {
   "cell_type": "code",
   "execution_count": 15,
   "id": "d6d5efa5-b4b4-4a25-8626-e10f3d691e83",
   "metadata": {
    "tags": []
   },
   "outputs": [],
   "source": [
    "fn_data_csv = \"data_clean.csv\""
   ]
  },
  {
   "cell_type": "code",
   "execution_count": 16,
   "id": "727f8d7b-cbb6-43c7-9eab-9d4d65be6b3f",
   "metadata": {
    "tags": []
   },
   "outputs": [],
   "source": [
    "df.to_csv(fn_data_csv, index=False)"
   ]
  },
  {
   "cell_type": "code",
   "execution_count": 17,
   "id": "63c8d4a4-906e-418d-be39-879365b4dfa0",
   "metadata": {
    "tags": []
   },
   "outputs": [
    {
     "name": "stdout",
     "output_type": "stream",
     "text": [
      "-rw-r--r--  1 cody  staff    39M Mar 18 19:00 data_clean.csv\r\n"
     ]
    }
   ],
   "source": [
    "!ls -lh {fn_data_csv}"
   ]
  },
  {
   "cell_type": "code",
   "execution_count": 18,
   "id": "a51b9001-25d7-4e0e-a607-477cfc4a9f1c",
   "metadata": {
    "tags": []
   },
   "outputs": [
    {
     "name": "stdout",
     "output_type": "stream",
     "text": [
      "compound_name,SMILES,target_name,Target_aa,binding\r\n",
      "444607.0,Cc1ccc(CNS(=O)(=O)c2ccc(S(N)(=O)=O)s2)cc1,P00918,MSHHWGYGKHNGPEHWHKDFPIAKGERQSPVDIDTHTAKYDPSLKPLSVSYDQATSLRILNNGHAFNVEFDDSQDKAVLKGGPLDGTYRLIQFHFHWGSLDGQGSEHTVDKKKYAAELHLVHWNTKYGDFGKAVQQPDGLAVLGIFLKVGSAKPGLQKVVDVLDSIKTKGKSADFTNFDPRGLLPESLDYWTYPGSLTTPPLLECVTWIVLKEPISVSSEQVLKFRKLNFNGEGEPEELMVDNWRPAQPLKNRQIKASFK,0.46\r\n",
      "4316.0,COc1ccc(CNS(=O)(=O)c2ccc(S(N)(=O)=O)s2)cc1,P00918,MSHHWGYGKHNGPEHWHKDFPIAKGERQSPVDIDTHTAKYDPSLKPLSVSYDQATSLRILNNGHAFNVEFDDSQDKAVLKGGPLDGTYRLIQFHFHWGSLDGQGSEHTVDKKKYAAELHLVHWNTKYGDFGKAVQQPDGLAVLGIFLKVGSAKPGLQKVVDVLDSIKTKGKSADFTNFDPRGLLPESLDYWTYPGSLTTPPLLECVTWIVLKEPISVSSEQVLKFRKLNFNGEGEPEELMVDNWRPAQPLKNRQIKASFK,0.49\r\n",
      "4293.0,NS(=O)(=O)c1ccc(S(=O)(=O)NCc2cccs2)s1,P00918,MSHHWGYGKHNGPEHWHKDFPIAKGERQSPVDIDTHTAKYDPSLKPLSVSYDQATSLRILNNGHAFNVEFDDSQDKAVLKGGPLDGTYRLIQFHFHWGSLDGQGSEHTVDKKKYAAELHLVHWNTKYGDFGKAVQQPDGLAVLGIFLKVGSAKPGLQKVVDVLDSIKTKGKSADFTNFDPRGLLPESLDYWTYPGSLTTPPLLECVTWIVLKEPISVSSEQVLKFRKLNFNGEGEPEELMVDNWRPAQPLKNRQIKASFK,0.83\r\n",
      "1611.0,NS(=O)(=O)c1cc2c(s1)S(=O)(=O)N(Cc1cccs1)CC2O,P00918,MSHHWGYGKHNGPEHWHKDFPIAKGERQSPVDIDTHTAKYDPSLKPLSVSYDQATSLRILNNGHAFNVEFDDSQDKAVLKGGPLDGTYRLIQFHFHWGSLDGQGSEHTVDKKKYAAELHLVHWNTKYGDFGKAVQQPDGLAVLGIFLKVGSAKPGLQKVVDVLDSIKTKGKSADFTNFDPRGLLPESLDYWTYPGSLTTPPLLECVTWIVLKEPISVSSEQVLKFRKLNFNGEGEPEELMVDNWRPAQPLKNRQIKASFK,0.2\r\n"
     ]
    }
   ],
   "source": [
    "!head -n 5 {fn_data_csv}"
   ]
  },
  {
   "cell_type": "code",
   "execution_count": 19,
   "id": "1a512943-4909-4d56-867d-50c151d8d607",
   "metadata": {
    "tags": []
   },
   "outputs": [
    {
     "data": {
      "text/html": [
       "<div>\n",
       "<style scoped>\n",
       "    .dataframe tbody tr th:only-of-type {\n",
       "        vertical-align: middle;\n",
       "    }\n",
       "\n",
       "    .dataframe tbody tr th {\n",
       "        vertical-align: top;\n",
       "    }\n",
       "\n",
       "    .dataframe thead th {\n",
       "        text-align: right;\n",
       "    }\n",
       "</style>\n",
       "<table border=\"1\" class=\"dataframe\">\n",
       "  <thead>\n",
       "    <tr style=\"text-align: right;\">\n",
       "      <th></th>\n",
       "      <th>compound_name</th>\n",
       "      <th>SMILES</th>\n",
       "      <th>target_name</th>\n",
       "      <th>Target_aa</th>\n",
       "      <th>binding</th>\n",
       "    </tr>\n",
       "  </thead>\n",
       "  <tbody>\n",
       "    <tr>\n",
       "      <th>0</th>\n",
       "      <td>444607.0</td>\n",
       "      <td>Cc1ccc(CNS(=O)(=O)c2ccc(S(N)(=O)=O)s2)cc1</td>\n",
       "      <td>P00918</td>\n",
       "      <td>MSHHWGYGKHNGPEHWHKDFPIAKGERQSPVDIDTHTAKYDPSLKP...</td>\n",
       "      <td>0.46</td>\n",
       "    </tr>\n",
       "    <tr>\n",
       "      <th>1</th>\n",
       "      <td>4316.0</td>\n",
       "      <td>COc1ccc(CNS(=O)(=O)c2ccc(S(N)(=O)=O)s2)cc1</td>\n",
       "      <td>P00918</td>\n",
       "      <td>MSHHWGYGKHNGPEHWHKDFPIAKGERQSPVDIDTHTAKYDPSLKP...</td>\n",
       "      <td>0.49</td>\n",
       "    </tr>\n",
       "    <tr>\n",
       "      <th>2</th>\n",
       "      <td>4293.0</td>\n",
       "      <td>NS(=O)(=O)c1ccc(S(=O)(=O)NCc2cccs2)s1</td>\n",
       "      <td>P00918</td>\n",
       "      <td>MSHHWGYGKHNGPEHWHKDFPIAKGERQSPVDIDTHTAKYDPSLKP...</td>\n",
       "      <td>0.83</td>\n",
       "    </tr>\n",
       "    <tr>\n",
       "      <th>3</th>\n",
       "      <td>1611.0</td>\n",
       "      <td>NS(=O)(=O)c1cc2c(s1)S(=O)(=O)N(Cc1cccs1)CC2O</td>\n",
       "      <td>P00918</td>\n",
       "      <td>MSHHWGYGKHNGPEHWHKDFPIAKGERQSPVDIDTHTAKYDPSLKP...</td>\n",
       "      <td>0.20</td>\n",
       "    </tr>\n",
       "    <tr>\n",
       "      <th>4</th>\n",
       "      <td>1612.0</td>\n",
       "      <td>COc1ccc(N2CC(O)c3cc(S(N)(=O)=O)sc3S2(=O)=O)cc1</td>\n",
       "      <td>P00918</td>\n",
       "      <td>MSHHWGYGKHNGPEHWHKDFPIAKGERQSPVDIDTHTAKYDPSLKP...</td>\n",
       "      <td>0.16</td>\n",
       "    </tr>\n",
       "  </tbody>\n",
       "</table>\n",
       "</div>"
      ],
      "text/plain": [
       "   compound_name                                          SMILES target_name  \\\n",
       "0       444607.0       Cc1ccc(CNS(=O)(=O)c2ccc(S(N)(=O)=O)s2)cc1      P00918   \n",
       "1         4316.0      COc1ccc(CNS(=O)(=O)c2ccc(S(N)(=O)=O)s2)cc1      P00918   \n",
       "2         4293.0           NS(=O)(=O)c1ccc(S(=O)(=O)NCc2cccs2)s1      P00918   \n",
       "3         1611.0    NS(=O)(=O)c1cc2c(s1)S(=O)(=O)N(Cc1cccs1)CC2O      P00918   \n",
       "4         1612.0  COc1ccc(N2CC(O)c3cc(S(N)(=O)=O)sc3S2(=O)=O)cc1      P00918   \n",
       "\n",
       "                                           Target_aa  binding  \n",
       "0  MSHHWGYGKHNGPEHWHKDFPIAKGERQSPVDIDTHTAKYDPSLKP...     0.46  \n",
       "1  MSHHWGYGKHNGPEHWHKDFPIAKGERQSPVDIDTHTAKYDPSLKP...     0.49  \n",
       "2  MSHHWGYGKHNGPEHWHKDFPIAKGERQSPVDIDTHTAKYDPSLKP...     0.83  \n",
       "3  MSHHWGYGKHNGPEHWHKDFPIAKGERQSPVDIDTHTAKYDPSLKP...     0.20  \n",
       "4  MSHHWGYGKHNGPEHWHKDFPIAKGERQSPVDIDTHTAKYDPSLKP...     0.16  "
      ]
     },
     "execution_count": 19,
     "metadata": {},
     "output_type": "execute_result"
    }
   ],
   "source": [
    "df.head()"
   ]
  },
  {
   "cell_type": "markdown",
   "id": "f3d730ce-fce0-49df-9eb8-b917e945fa9a",
   "metadata": {},
   "source": [
    "## Load from csv"
   ]
  },
  {
   "cell_type": "code",
   "execution_count": 20,
   "id": "077b0c5f-8772-4879-9317-3fa28799689b",
   "metadata": {
    "tags": []
   },
   "outputs": [],
   "source": [
    "fn_data_csv = \"data_clean.csv\""
   ]
  },
  {
   "cell_type": "code",
   "execution_count": 21,
   "id": "6eaef0e6-2115-4793-ac43-a196b25d47a0",
   "metadata": {
    "tags": []
   },
   "outputs": [],
   "source": [
    "df = pd.read_csv(fn_data_csv)"
   ]
  },
  {
   "cell_type": "code",
   "execution_count": 22,
   "id": "43619e7c-9c82-4ff0-ae25-403861304635",
   "metadata": {
    "tags": []
   },
   "outputs": [
    {
     "data": {
      "text/html": [
       "<div>\n",
       "<style scoped>\n",
       "    .dataframe tbody tr th:only-of-type {\n",
       "        vertical-align: middle;\n",
       "    }\n",
       "\n",
       "    .dataframe tbody tr th {\n",
       "        vertical-align: top;\n",
       "    }\n",
       "\n",
       "    .dataframe thead th {\n",
       "        text-align: right;\n",
       "    }\n",
       "</style>\n",
       "<table border=\"1\" class=\"dataframe\">\n",
       "  <thead>\n",
       "    <tr style=\"text-align: right;\">\n",
       "      <th></th>\n",
       "      <th>compound_name</th>\n",
       "      <th>SMILES</th>\n",
       "      <th>target_name</th>\n",
       "      <th>Target_aa</th>\n",
       "      <th>binding</th>\n",
       "    </tr>\n",
       "  </thead>\n",
       "  <tbody>\n",
       "    <tr>\n",
       "      <th>0</th>\n",
       "      <td>444607.0</td>\n",
       "      <td>Cc1ccc(CNS(=O)(=O)c2ccc(S(N)(=O)=O)s2)cc1</td>\n",
       "      <td>P00918</td>\n",
       "      <td>MSHHWGYGKHNGPEHWHKDFPIAKGERQSPVDIDTHTAKYDPSLKP...</td>\n",
       "      <td>0.46</td>\n",
       "    </tr>\n",
       "    <tr>\n",
       "      <th>1</th>\n",
       "      <td>4316.0</td>\n",
       "      <td>COc1ccc(CNS(=O)(=O)c2ccc(S(N)(=O)=O)s2)cc1</td>\n",
       "      <td>P00918</td>\n",
       "      <td>MSHHWGYGKHNGPEHWHKDFPIAKGERQSPVDIDTHTAKYDPSLKP...</td>\n",
       "      <td>0.49</td>\n",
       "    </tr>\n",
       "    <tr>\n",
       "      <th>2</th>\n",
       "      <td>4293.0</td>\n",
       "      <td>NS(=O)(=O)c1ccc(S(=O)(=O)NCc2cccs2)s1</td>\n",
       "      <td>P00918</td>\n",
       "      <td>MSHHWGYGKHNGPEHWHKDFPIAKGERQSPVDIDTHTAKYDPSLKP...</td>\n",
       "      <td>0.83</td>\n",
       "    </tr>\n",
       "    <tr>\n",
       "      <th>3</th>\n",
       "      <td>1611.0</td>\n",
       "      <td>NS(=O)(=O)c1cc2c(s1)S(=O)(=O)N(Cc1cccs1)CC2O</td>\n",
       "      <td>P00918</td>\n",
       "      <td>MSHHWGYGKHNGPEHWHKDFPIAKGERQSPVDIDTHTAKYDPSLKP...</td>\n",
       "      <td>0.20</td>\n",
       "    </tr>\n",
       "    <tr>\n",
       "      <th>4</th>\n",
       "      <td>1612.0</td>\n",
       "      <td>COc1ccc(N2CC(O)c3cc(S(N)(=O)=O)sc3S2(=O)=O)cc1</td>\n",
       "      <td>P00918</td>\n",
       "      <td>MSHHWGYGKHNGPEHWHKDFPIAKGERQSPVDIDTHTAKYDPSLKP...</td>\n",
       "      <td>0.16</td>\n",
       "    </tr>\n",
       "  </tbody>\n",
       "</table>\n",
       "</div>"
      ],
      "text/plain": [
       "   compound_name                                          SMILES target_name  \\\n",
       "0       444607.0       Cc1ccc(CNS(=O)(=O)c2ccc(S(N)(=O)=O)s2)cc1      P00918   \n",
       "1         4316.0      COc1ccc(CNS(=O)(=O)c2ccc(S(N)(=O)=O)s2)cc1      P00918   \n",
       "2         4293.0           NS(=O)(=O)c1ccc(S(=O)(=O)NCc2cccs2)s1      P00918   \n",
       "3         1611.0    NS(=O)(=O)c1cc2c(s1)S(=O)(=O)N(Cc1cccs1)CC2O      P00918   \n",
       "4         1612.0  COc1ccc(N2CC(O)c3cc(S(N)(=O)=O)sc3S2(=O)=O)cc1      P00918   \n",
       "\n",
       "                                           Target_aa  binding  \n",
       "0  MSHHWGYGKHNGPEHWHKDFPIAKGERQSPVDIDTHTAKYDPSLKP...     0.46  \n",
       "1  MSHHWGYGKHNGPEHWHKDFPIAKGERQSPVDIDTHTAKYDPSLKP...     0.49  \n",
       "2  MSHHWGYGKHNGPEHWHKDFPIAKGERQSPVDIDTHTAKYDPSLKP...     0.83  \n",
       "3  MSHHWGYGKHNGPEHWHKDFPIAKGERQSPVDIDTHTAKYDPSLKP...     0.20  \n",
       "4  MSHHWGYGKHNGPEHWHKDFPIAKGERQSPVDIDTHTAKYDPSLKP...     0.16  "
      ]
     },
     "execution_count": 22,
     "metadata": {},
     "output_type": "execute_result"
    }
   ],
   "source": [
    "df.head()"
   ]
  },
  {
   "cell_type": "markdown",
   "id": "2f06e57c-02c5-493b-af65-c8bb9ac59421",
   "metadata": {},
   "source": [
    "# meta YAML"
   ]
  },
  {
   "cell_type": "code",
   "execution_count": 23,
   "id": "49771077-471d-4d71-a9a7-d6b094bbc4f3",
   "metadata": {
    "tags": []
   },
   "outputs": [
    {
     "data": {
      "text/html": [
       "<div>\n",
       "<style scoped>\n",
       "    .dataframe tbody tr th:only-of-type {\n",
       "        vertical-align: middle;\n",
       "    }\n",
       "\n",
       "    .dataframe tbody tr th {\n",
       "        vertical-align: top;\n",
       "    }\n",
       "\n",
       "    .dataframe thead th {\n",
       "        text-align: right;\n",
       "    }\n",
       "</style>\n",
       "<table border=\"1\" class=\"dataframe\">\n",
       "  <thead>\n",
       "    <tr style=\"text-align: right;\">\n",
       "      <th></th>\n",
       "      <th>compound_name</th>\n",
       "      <th>SMILES</th>\n",
       "      <th>target_name</th>\n",
       "      <th>Target_aa</th>\n",
       "      <th>binding</th>\n",
       "    </tr>\n",
       "  </thead>\n",
       "  <tbody>\n",
       "    <tr>\n",
       "      <th>0</th>\n",
       "      <td>444607.0</td>\n",
       "      <td>Cc1ccc(CNS(=O)(=O)c2ccc(S(N)(=O)=O)s2)cc1</td>\n",
       "      <td>P00918</td>\n",
       "      <td>MSHHWGYGKHNGPEHWHKDFPIAKGERQSPVDIDTHTAKYDPSLKP...</td>\n",
       "      <td>0.46</td>\n",
       "    </tr>\n",
       "    <tr>\n",
       "      <th>1</th>\n",
       "      <td>4316.0</td>\n",
       "      <td>COc1ccc(CNS(=O)(=O)c2ccc(S(N)(=O)=O)s2)cc1</td>\n",
       "      <td>P00918</td>\n",
       "      <td>MSHHWGYGKHNGPEHWHKDFPIAKGERQSPVDIDTHTAKYDPSLKP...</td>\n",
       "      <td>0.49</td>\n",
       "    </tr>\n",
       "    <tr>\n",
       "      <th>2</th>\n",
       "      <td>4293.0</td>\n",
       "      <td>NS(=O)(=O)c1ccc(S(=O)(=O)NCc2cccs2)s1</td>\n",
       "      <td>P00918</td>\n",
       "      <td>MSHHWGYGKHNGPEHWHKDFPIAKGERQSPVDIDTHTAKYDPSLKP...</td>\n",
       "      <td>0.83</td>\n",
       "    </tr>\n",
       "    <tr>\n",
       "      <th>3</th>\n",
       "      <td>1611.0</td>\n",
       "      <td>NS(=O)(=O)c1cc2c(s1)S(=O)(=O)N(Cc1cccs1)CC2O</td>\n",
       "      <td>P00918</td>\n",
       "      <td>MSHHWGYGKHNGPEHWHKDFPIAKGERQSPVDIDTHTAKYDPSLKP...</td>\n",
       "      <td>0.20</td>\n",
       "    </tr>\n",
       "    <tr>\n",
       "      <th>4</th>\n",
       "      <td>1612.0</td>\n",
       "      <td>COc1ccc(N2CC(O)c3cc(S(N)(=O)=O)sc3S2(=O)=O)cc1</td>\n",
       "      <td>P00918</td>\n",
       "      <td>MSHHWGYGKHNGPEHWHKDFPIAKGERQSPVDIDTHTAKYDPSLKP...</td>\n",
       "      <td>0.16</td>\n",
       "    </tr>\n",
       "  </tbody>\n",
       "</table>\n",
       "</div>"
      ],
      "text/plain": [
       "   compound_name                                          SMILES target_name  \\\n",
       "0       444607.0       Cc1ccc(CNS(=O)(=O)c2ccc(S(N)(=O)=O)s2)cc1      P00918   \n",
       "1         4316.0      COc1ccc(CNS(=O)(=O)c2ccc(S(N)(=O)=O)s2)cc1      P00918   \n",
       "2         4293.0           NS(=O)(=O)c1ccc(S(=O)(=O)NCc2cccs2)s1      P00918   \n",
       "3         1611.0    NS(=O)(=O)c1cc2c(s1)S(=O)(=O)N(Cc1cccs1)CC2O      P00918   \n",
       "4         1612.0  COc1ccc(N2CC(O)c3cc(S(N)(=O)=O)sc3S2(=O)=O)cc1      P00918   \n",
       "\n",
       "                                           Target_aa  binding  \n",
       "0  MSHHWGYGKHNGPEHWHKDFPIAKGERQSPVDIDTHTAKYDPSLKP...     0.46  \n",
       "1  MSHHWGYGKHNGPEHWHKDFPIAKGERQSPVDIDTHTAKYDPSLKP...     0.49  \n",
       "2  MSHHWGYGKHNGPEHWHKDFPIAKGERQSPVDIDTHTAKYDPSLKP...     0.83  \n",
       "3  MSHHWGYGKHNGPEHWHKDFPIAKGERQSPVDIDTHTAKYDPSLKP...     0.20  \n",
       "4  MSHHWGYGKHNGPEHWHKDFPIAKGERQSPVDIDTHTAKYDPSLKP...     0.16  "
      ]
     },
     "execution_count": 23,
     "metadata": {},
     "output_type": "execute_result"
    }
   ],
   "source": [
    "df.head()"
   ]
  },
  {
   "cell_type": "code",
   "execution_count": 24,
   "id": "d3890961-444e-4a26-b8fc-ed8c4e959af9",
   "metadata": {
    "tags": []
   },
   "outputs": [],
   "source": [
    "meta = {\n",
    "    \"name\": \"Drug-Target Interaction\",  # unique identifier, we will also use this for directory names\n",
    "    \"description\": \"\"\"The activity of a small-molecule drug is measured by its binding affinity with the target protein.\n",
    "    Given a new target protein, the very first step is to screen a set of potential compounds to find their activity.\n",
    "    Traditional method to gauge the affinities are through high-throughput screening wet-lab experiments.\n",
    "    However, they are very expensive and are thus restricted by their abilities to search over a large set of candidates\n",
    "    Drug-target interaction prediction task aims to predict the interaction activity score in silico given only the accessible compound structural information and protein amino acid sequence.\"\"\",\n",
    "    \"targets\": [\n",
    "        {\n",
    "            \"id\": \"binding\",  # name of the column in a tabular dataset\n",
    "            \"description\": \"small-molecule protein interaction.\",  # description of what this column means\n",
    "            \"units\": \"Kd\",  # units of the values in this column (leave empty if unitless)\n",
    "            \"type\": \"continuous\",  # can be \"categorical\", \"ordinal\", \"continuous\"\n",
    "            \"uris\" : [\"\thttp://purl.obolibrary.org/obo/NCIT_C20604\"],\n",
    "            \"names\": [  # names for the property (to sample from for building the prompts)\n",
    "                \"Drug-Target Interaction\"\n",
    "                \"small-molecule binding affinity\",\n",
    "                \"small-molecule binding\",\n",
    "                \"protein-ligand binding\",\n",
    "                \"protein-ligand\"\n",
    "                \"binding affinity\",\n",
    "                \"binding\",\n",
    "\n",
    "            ],\n",
    "        },\n",
    "    ],\n",
    "    \"identifiers\": [\n",
    "        {\n",
    "            \"id\": \"SMILES\",  # column name\n",
    "            \"type\": \"SMILES\",  # can be \"SMILES\", \"SELFIES\", \"IUPAC\", \"OTHER\"\n",
    "            \"description\": \"small-molecule\",  # description (optional, except for \"OTHER\")\n",
    "        },\n",
    "        {\n",
    "            \"id\": \"Target\",\n",
    "            \"type\": \"Other\",\n",
    "            \"description\": \"Target amino acid sequence\",\n",
    "\n",
    "        },\n",
    "    ],\n",
    "    \"license\": \"CC BY 4.0\",  # license under which the original dataset was published\n",
    "    \"links\": [  # list of relevant links (original dataset, other uses, etc.)\n",
    "        {\n",
    "            \"url\": \"https://tdcommons.ai/multi_pred_tasks/dti/\",\n",
    "            \"description\": \"original data set link\",\n",
    "        },\n",
    "        {\n",
    "            \"url\": \"https://doi.org/10.1093/nar/gkl999\",\n",
    "            \"description\": \"corresponding publication\",\n",
    "        },\n",
    "    ],\n",
    "    \"split_col\": \"split\",\n",
    "    \"num_points\": len(df),  # number of datapoints in this dataset\n",
    "    \"bibtex\": [\n",
    "        \"\"\"@article{Liu2006bindingdb,\n",
    "        title={BindingDB: a web-accessible database of experimentally determined protein-ligand binding affinities},\n",
    "        author={Tiqing Liu, Yuhmei Lin, Xin Wen, Robert N. Jorissen, Micahel, K. Gilson},\n",
    "        journal={Journal of Chemical Information and Modeling},\n",
    "        volume={35},\n",
    "        number={4},\n",
    "        pages={D198-D201},\n",
    "        year={2006},\n",
    "        publisher={Oxford Academic}\n",
    "        }\"\"\",\n",
    "    ],\n",
    "}"
   ]
  },
  {
   "cell_type": "code",
   "execution_count": 25,
   "id": "ec455cf0-962a-4c0d-bb3e-066e415ffd9b",
   "metadata": {
    "tags": []
   },
   "outputs": [],
   "source": [
    "def str_presenter(dumper, data):\n",
    "    \"\"\"configures yaml for dumping multiline strings\n",
    "    Ref: https://stackoverflow.com/questions/8640959/how-can-i-control-what-scalar-form-pyyaml-uses-for-my-data\n",
    "    \"\"\"\n",
    "    if data.count(\"\\n\") > 0:  # check for multiline string\n",
    "        return dumper.represent_scalar(\"tag:yaml.org,2002:str\", data, style=\"|\")\n",
    "    return dumper.represent_scalar(\"tag:yaml.org,2002:str\", data)\n",
    "\n",
    "\n",
    "yaml.add_representer(str, str_presenter)\n",
    "yaml.representer.SafeRepresenter.add_representer(\n",
    "    str, str_presenter\n",
    ")  # to use with safe_dum"
   ]
  },
  {
   "cell_type": "code",
   "execution_count": 26,
   "id": "580bbd79-4845-4515-be94-3e4a9815d048",
   "metadata": {
    "tags": []
   },
   "outputs": [],
   "source": [
    "fn_meta = \"meta.yaml\""
   ]
  },
  {
   "cell_type": "code",
   "execution_count": 27,
   "id": "873fa5dd-9b60-40f5-b537-4d7a206414ea",
   "metadata": {
    "tags": []
   },
   "outputs": [],
   "source": [
    "with open(fn_meta, \"w\") as f:\n",
    "    yaml.dump(meta, f, sort_keys=False)"
   ]
  },
  {
   "cell_type": "code",
   "execution_count": 28,
   "id": "d01686c0-6746-4fc4-b019-350270dfc26f",
   "metadata": {
    "tags": []
   },
   "outputs": [
    {
     "name": "stdout",
     "output_type": "stream",
     "text": [
      "-rw-r--r--@ 1 cody  staff   1.8K Mar 18 19:00 meta.yaml\r\n"
     ]
    }
   ],
   "source": [
    "!ls -lh {fn_meta}"
   ]
  },
  {
   "cell_type": "code",
   "execution_count": 29,
   "id": "ef6063c5-7a8b-4344-bccf-a073443feebf",
   "metadata": {
    "tags": []
   },
   "outputs": [
    {
     "name": "stdout",
     "output_type": "stream",
     "text": [
      "name: Drug-Target Interaction\r\n",
      "description: |-\r\n",
      "  The activity of a small-molecule drug is measured by its binding affinity with the target protein.\r\n",
      "      Given a new target protein, the very first step is to screen a set of potential compounds to find their activity.\r\n",
      "      Traditional method to gauge the affinities are through high-throughput screening wet-lab experiments.\r\n",
      "      However, they are very expensive and are thus restricted by their abilities to search over a large set of candidates\r\n",
      "      Drug-target interaction prediction task aims to predict the interaction activity score in silico given only the accessible compound structural information and protein amino acid sequence.\r\n",
      "targets:\r\n",
      "- id: binding\r\n",
      "  description: small-molecule protein interaction.\r\n",
      "  units: Kd\r\n",
      "  type: continuous\r\n",
      "  uris:\r\n",
      "  - \"\\thttp://purl.obolibrary.org/obo/NCIT_C20604\"\r\n",
      "  names:\r\n",
      "  - Drug-Target Interactionsmall-molecule binding affinity\r\n",
      "  - small-molecule binding\r\n",
      "  - protein-ligand binding\r\n",
      "  - protein-ligandbinding affinity\r\n",
      "  - binding\r\n",
      "identifiers:\r\n",
      "- id: SMILES\r\n",
      "  type: SMILES\r\n",
      "  description: small-molecule\r\n",
      "- id: Target\r\n",
      "  type: Other\r\n",
      "  description: Target amino acid sequence\r\n",
      "license: CC BY 4.0\r\n",
      "links:\r\n",
      "- url: https://tdcommons.ai/multi_pred_tasks/dti/\r\n",
      "  description: original data set link\r\n",
      "- url: https://doi.org/10.1093/nar/gkl999\r\n",
      "  description: corresponding publication\r\n",
      "split_col: split\r\n",
      "num_points: 52274\r\n",
      "bibtex:\r\n",
      "- |-\r\n",
      "  @article{Liu2006bindingdb,\r\n",
      "          title={BindingDB: a web-accessible database of experimentally determined protein-ligand binding affinities},\r\n",
      "          author={Tiqing Liu, Yuhmei Lin, Xin Wen, Robert N. Jorissen, Micahel, K. Gilson},\r\n",
      "          journal={Journal of Chemical Information and Modeling},\r\n",
      "          volume={35},\r\n",
      "          number={4},\r\n",
      "          pages={D198-D201},\r\n",
      "          year={2006},\r\n",
      "          publisher={Oxford Academic}\r\n",
      "          }\r\n"
     ]
    }
   ],
   "source": [
    "!cat {fn_meta}"
   ]
  },
  {
   "cell_type": "markdown",
   "id": "bd3f930a-638b-4bb7-a1d2-80688f2f6891",
   "metadata": {},
   "source": [
    "# create transform.py"
   ]
  },
  {
   "cell_type": "code",
   "execution_count": 30,
   "id": "9aab00fd-58a8-40b0-be30-1e269e0d323b",
   "metadata": {
    "tags": []
   },
   "outputs": [],
   "source": [
    "path_file = \"transform.py\""
   ]
  },
  {
   "cell_type": "code",
   "execution_count": 33,
   "id": "8368bb20-8e1c-4b7d-b0e2-b39da36b5972",
   "metadata": {
    "tags": []
   },
   "outputs": [
    {
     "name": "stdout",
     "output_type": "stream",
     "text": [
      "Overwriting transform.py\n"
     ]
    }
   ],
   "source": [
    "%%writefile $path_file\n",
    "import pandas as pd\n",
    "import yaml\n",
    "from tdc.multi_pred import DTI\n",
    "\n",
    "def get_and_transform_data():\n",
    "    # get raw data\n",
    "    data = DTI(name=\"BindingDB_Kd\")\n",
    "    splits = data.get_split()\n",
    "    df_train = splits[\"train\"]\n",
    "    df_valid = splits[\"valid\"]\n",
    "    df_test = splits[\"test\"]\n",
    "    df_train[\"split\"] = \"train\"\n",
    "    df_valid[\"split\"] = \"valid\"\n",
    "    df_test[\"split\"] = \"test\"\n",
    "\n",
    "    df = pd.concat([df_train, df_valid, df_test], axis=0)\n",
    "\n",
    "    # check if fields are the same\n",
    "    fields_orig = df.columns.tolist()\n",
    "    assert fields_orig == [\n",
    "        \"Drug_ID\",\n",
    "        \"Drug\",\n",
    "        \"Target_ID\",\n",
    "        \"Target\",\n",
    "        \"Y\",\n",
    "        \"split\",\n",
    "    ]\n",
    "\n",
    "    # overwrite column names = fields\n",
    "    fields_clean = [\n",
    "        \"compound_name\",\n",
    "        \"SMILES\",\n",
    "        \"target_name\",\n",
    "        \"Target_aa\",\n",
    "        \"binding\",\n",
    "        \"split\"\n",
    "    ]\n",
    "    df.columns = fields_clean\n",
    "\n",
    "    # data cleaning\n",
    "    '''\n",
    "    df.compound_name = (\n",
    "        df.compound_name.str.strip()\n",
    "    )  # remove leading and trailing white space characters\n",
    "    '''\n",
    "    assert not df.duplicated().sum()\n",
    "\n",
    "    # save to csv\n",
    "    fn_data_csv = \"data_clean.csv\"\n",
    "    df.to_csv(fn_data_csv, index=False)\n",
    "\n",
    "    # create meta yaml\n",
    "    meta = {\n",
    "        \"name\": \"Drug-Target Interaction\",  # unique identifier, we will also use this for directory names\n",
    "        \"description\": \"\"\"The activity of a small-molecule drug is measured by its binding affinity with the target protein.\n",
    "        Given a new target protein, the very first step is to screen a set of potential compounds to find their activity.\n",
    "        Traditional method to gauge the affinities are through high-throughput screening wet-lab experiments.\n",
    "        However, they are very expensive and are thus restricted by their abilities to search over a large set of candidates\n",
    "        Drug-target interaction prediction task aims to predict the interaction activity score in silico given only the accessible compound structural information and protein amino acid sequence.\"\"\",\n",
    "        \"targets\": [\n",
    "            {\n",
    "                \"id\": \"binding\",  # name of the column in a tabular dataset\n",
    "                \"description\": \"small-molecule protein interaction.\",  # description of what this column means\n",
    "                \"units\": \"Kd\",  # units of the values in this column (leave empty if unitless)\n",
    "                \"type\": \"regression\",  # can be \"categorical\", \"ordinal\", \"continuous\"\n",
    "                \"names\": [  # names for the property (to sample from for building the prompts)\n",
    "                    \"Drug-Target Interaction\"\n",
    "                    \"small-molecule binding affinity\",\n",
    "                    \"small-molecule binding\",\n",
    "                    \"protein-ligand binding\",\n",
    "                    \"protein-ligand\"\n",
    "                    \"binding affinity\",\n",
    "                    \"binding\",\n",
    "\n",
    "                ],\n",
    "            },\n",
    "        ],\n",
    "        \"identifiers\": [\n",
    "            {\n",
    "                \"id\": \"SMILES\",  # column name\n",
    "                \"type\": \"SMILES\",  # can be \"SMILES\", \"SELFIES\", \"IUPAC\", \"OTHER\"\n",
    "                \"description\": \"small-molecule\",  # description (optional, except for \"OTHER\")\n",
    "            },\n",
    "            {\n",
    "                \"id\": \"Target\",\n",
    "                \"type\": \"Other\",\n",
    "                \"description\": \"Target amino acid sequence\",\n",
    "    \n",
    "            },\n",
    "        ],\n",
    "        \"license\": \"CC BY 4.0\",  # license under which the original dataset was published\n",
    "        \"links\": [  # list of relevant links (original dataset, other uses, etc.)\n",
    "            {\n",
    "                \"url\": \"https://tdcommons.ai/multi_pred_tasks/dti/\",\n",
    "                \"description\": \"original data set link\",\n",
    "            },\n",
    "            {\n",
    "                \"url\": \"https://doi.org/10.1093/nar/gkl999\",\n",
    "                \"description\": \"corresponding publication\",\n",
    "            },\n",
    "        ],\n",
    "        \"num_points\": len(df),  # number of datapoints in this dataset\n",
    "        \"bibtex\": [\n",
    "            \"\"\"@article{Liu2006bindingdb,\n",
    "            title={BindingDB: a web-accessible database of experimentally determined protein-ligand binding affinities},\n",
    "            author={Tiqing Liu, Yuhmei Lin, Xin Wen, Robert N. Jorissen, Micahel, K. Gilson},\n",
    "            journal={Journal of Chemical Information and Modeling},\n",
    "            volume={35},\n",
    "            number={4},\n",
    "            pages={D198-D201},\n",
    "            year={2006},\n",
    "            publisher={Oxford Academic}\n",
    "            }\"\"\",\n",
    "        ],\n",
    "    }\n",
    "\n",
    "    def str_presenter(dumper, data):\n",
    "        \"\"\"configures yaml for dumping multiline strings\n",
    "        Ref: https://stackoverflow.com/questions/8640959/how-can-i-control-what-scalar-form-pyyaml-uses-for-my-data\n",
    "        \"\"\"\n",
    "\n",
    "        if data.count(\"\\n\") > 0:  # check for multiline string\n",
    "            return dumper.represent_scalar(\"tag:yaml.org,2002:str\", data, style=\"|\")\n",
    "        return dumper.represent_scalar(\"tag:yaml.org,2002:str\", data)\n",
    "\n",
    "    yaml.add_representer(str, str_presenter)\n",
    "    yaml.representer.SafeRepresenter.add_representer(\n",
    "        str, str_presenter\n",
    "    )  # to use with safe_dum\n",
    "    fn_meta = \"meta.yaml\"\n",
    "    with open(fn_meta, \"w\") as f:\n",
    "        yaml.dump(meta, f, sort_keys=False)\n",
    "\n",
    "    print(f\"Finished processing {meta['name']} dataset!\")\n",
    "\n",
    "\n",
    "if __name__ == \"__main__\":\n",
    "    get_and_transform_data()"
   ]
  },
  {
   "cell_type": "code",
   "execution_count": 34,
   "id": "d0474f26-70f3-4655-b81a-df4ada90e7a6",
   "metadata": {
    "tags": []
   },
   "outputs": [
    {
     "name": "stdout",
     "output_type": "stream",
     "text": [
      "Found local copy...\n",
      "Loading...\n",
      "Done!\n",
      "Finished processing Drug-Target Interaction dataset!\n"
     ]
    }
   ],
   "source": [
    "!python3 transform.py"
   ]
  },
  {
   "cell_type": "code",
   "execution_count": 70,
   "id": "953e7bee-bd5e-41d0-a2be-506e0bc97727",
   "metadata": {
    "tags": []
   },
   "outputs": [
    {
     "name": "stdout",
     "output_type": "stream",
     "text": [
      "total 163984\r\n",
      "drwxr-xr-x  3 cody  staff    96B Mar 11 11:42 \u001b[34mdata\u001b[m\u001b[m/\r\n",
      "-rw-r--r--  1 cody  staff    39M Mar 11 11:43 data_clean.csv\r\n",
      "-rw-r--r--  1 cody  staff    39M Mar 11 11:43 data_original.csv\r\n",
      "-rw-r--r--  1 cody  staff    36K Mar 11 11:42 example_processing_and_templates.ipynb\r\n",
      "-rw-r--r--@ 1 cody  staff   1.8K Mar 11 11:43 meta.yaml\r\n",
      "-rw-r--r--  1 cody  staff   1.7K Mar 11 11:15 meta_.yaml\r\n",
      "-rw-r--r--@ 1 cody  staff   5.0K Mar 11 11:43 transform.py\r\n"
     ]
    }
   ],
   "source": [
    "ls -lh  # fmt: skip"
   ]
  },
  {
   "cell_type": "markdown",
   "id": "0b08ed06-ba66-4f76-bde1-368ea77d1739",
   "metadata": {},
   "source": [
    "# End"
   ]
  }
 ],
 "metadata": {
  "kernelspec": {
   "display_name": "Python 3 (ipykernel)",
   "language": "python",
   "name": "python3"
  },
  "language_info": {
   "codemirror_mode": {
    "name": "ipython",
    "version": 3
   },
   "file_extension": ".py",
   "mimetype": "text/x-python",
   "name": "python",
   "nbconvert_exporter": "python",
   "pygments_lexer": "ipython3",
   "version": "3.10.9"
  }
 },
 "nbformat": 4,
 "nbformat_minor": 5
}
