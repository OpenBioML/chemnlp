{
 "cells": [
  {
   "cell_type": "markdown",
   "id": "27c08f91-3fa0-4800-8f6a-96a96f665cad",
   "metadata": {},
   "source": [
    "# DILI (Drug Induced Liver Injury)"
   ]
  },
  {
   "cell_type": "markdown",
   "id": "6ef172b9-aad2-47da-bf4c-844a2a07ee8c",
   "metadata": {},
   "source": [
    "Original data repository: https://tdcommons.ai/single_pred_tasks/tox/#dili-drug-induced-liver-injury"
   ]
  },
  {
   "cell_type": "markdown",
   "id": "7d18c95d-2ec6-45e1-addc-54a890097b8e",
   "metadata": {},
   "source": [
    "# Imports"
   ]
  },
  {
   "cell_type": "code",
   "execution_count": 1,
   "id": "cf59e3e9-8061-4022-9eae-e978311b4155",
   "metadata": {
    "tags": []
   },
   "outputs": [],
   "source": [
    "import pandas as pd\n",
    "import yaml\n",
    "from tdc.single_pred import Tox"
   ]
  },
  {
   "cell_type": "markdown",
   "id": "a6751ff9-2e3e-4d01-8395-7a5ae0c200d7",
   "metadata": {},
   "source": [
    "# Data processing"
   ]
  },
  {
   "cell_type": "markdown",
   "id": "a1169ad2-e4bb-41c6-9625-6d1644c44a5b",
   "metadata": {},
   "source": [
    "## Download data"
   ]
  },
  {
   "cell_type": "code",
   "execution_count": 2,
   "id": "7bb8eb5e-f513-40d2-a68c-7cda1a51ad31",
   "metadata": {
    "tags": []
   },
   "outputs": [],
   "source": [
    "fn_data_original = \"data_original.csv\""
   ]
  },
  {
   "cell_type": "code",
   "execution_count": 3,
   "id": "b39a142e-ccbc-49d2-98b0-a5f9bde9fd27",
   "metadata": {
    "tags": []
   },
   "outputs": [
    {
     "name": "stderr",
     "output_type": "stream",
     "text": [
      "Downloading...\n",
      "100%|██████████████████████████████████████| 26.7k/26.7k [00:00<00:00, 198kiB/s]\n",
      "Loading...\n",
      "Done!\n"
     ]
    }
   ],
   "source": [
    "data = Tox(name = 'DILI')"
   ]
  },
  {
   "cell_type": "code",
   "execution_count": 4,
   "id": "26d9f62a-07f5-4113-8161-d5dfcf0bfb71",
   "metadata": {
    "tags": []
   },
   "outputs": [],
   "source": [
    "data.get_data().to_csv(fn_data_original, index=False)"
   ]
  },
  {
   "cell_type": "code",
   "execution_count": 5,
   "id": "43873fc3-20a8-487d-a7c5-33bd58414159",
   "metadata": {
    "tags": []
   },
   "outputs": [
    {
     "name": "stdout",
     "output_type": "stream",
     "text": [
      "total 84K\r\n",
      "drwxrwxr-x 2 melo melo 4.0K مار  2 16:53 data\r\n",
      "-rw-rw-r-- 1 melo melo  26K مار  2 16:53 data_original.csv\r\n",
      "-rw-rw-r-- 1 melo melo  37K مار  2 16:53 example_processing_and_templates.ipynb\r\n",
      "-rw-rw-r-- 1 melo melo 1.7K مار  2 06:31 meta.yaml\r\n",
      "-rw-rw-r-- 1 melo melo 5.0K مار  2 06:30 transform.py\r\n"
     ]
    }
   ],
   "source": [
    "!ls -lh"
   ]
  },
  {
   "cell_type": "markdown",
   "id": "d9cda29a-a133-4f0e-992b-e77c9070ee93",
   "metadata": {},
   "source": [
    "## Load original data"
   ]
  },
  {
   "cell_type": "code",
   "execution_count": 6,
   "id": "77f614e7-b133-40bc-8759-2d930e4c120e",
   "metadata": {
    "tags": []
   },
   "outputs": [
    {
     "name": "stdout",
     "output_type": "stream",
     "text": [
      "Drug_ID,Drug,Y\r\n",
      "187.0,CC(=O)OCC[N+](C)(C)C,0.0\r\n",
      "247.0,C[N+](C)(C)CC(=O)[O-],0.0\r\n",
      "298.0,O=C(NC(CO)C(O)c1ccc([N+](=O)[O-])cc1)C(Cl)Cl,0.0\r\n",
      "338.0,O=C(O)c1ccccc1O,0.0\r\n"
     ]
    }
   ],
   "source": [
    "!head -n 5 {fn_data_original}"
   ]
  },
  {
   "cell_type": "code",
   "execution_count": 7,
   "id": "8f5a0387-f9e3-4e1a-8d14-5df618195f70",
   "metadata": {
    "tags": []
   },
   "outputs": [],
   "source": [
    "df = pd.read_csv(fn_data_original, delimiter=\",\")"
   ]
  },
  {
   "cell_type": "code",
   "execution_count": 8,
   "id": "55b0bd63-62a0-469e-9d8a-e9ada3fe01c4",
   "metadata": {
    "scrolled": true,
    "tags": []
   },
   "outputs": [
    {
     "data": {
      "text/html": [
       "<div>\n",
       "<style scoped>\n",
       "    .dataframe tbody tr th:only-of-type {\n",
       "        vertical-align: middle;\n",
       "    }\n",
       "\n",
       "    .dataframe tbody tr th {\n",
       "        vertical-align: top;\n",
       "    }\n",
       "\n",
       "    .dataframe thead th {\n",
       "        text-align: right;\n",
       "    }\n",
       "</style>\n",
       "<table border=\"1\" class=\"dataframe\">\n",
       "  <thead>\n",
       "    <tr style=\"text-align: right;\">\n",
       "      <th></th>\n",
       "      <th>Drug_ID</th>\n",
       "      <th>Drug</th>\n",
       "      <th>Y</th>\n",
       "    </tr>\n",
       "  </thead>\n",
       "  <tbody>\n",
       "    <tr>\n",
       "      <th>0</th>\n",
       "      <td>187.0</td>\n",
       "      <td>CC(=O)OCC[N+](C)(C)C</td>\n",
       "      <td>0.0</td>\n",
       "    </tr>\n",
       "    <tr>\n",
       "      <th>1</th>\n",
       "      <td>247.0</td>\n",
       "      <td>C[N+](C)(C)CC(=O)[O-]</td>\n",
       "      <td>0.0</td>\n",
       "    </tr>\n",
       "    <tr>\n",
       "      <th>2</th>\n",
       "      <td>298.0</td>\n",
       "      <td>O=C(NC(CO)C(O)c1ccc([N+](=O)[O-])cc1)C(Cl)Cl</td>\n",
       "      <td>0.0</td>\n",
       "    </tr>\n",
       "    <tr>\n",
       "      <th>3</th>\n",
       "      <td>338.0</td>\n",
       "      <td>O=C(O)c1ccccc1O</td>\n",
       "      <td>0.0</td>\n",
       "    </tr>\n",
       "    <tr>\n",
       "      <th>4</th>\n",
       "      <td>444.0</td>\n",
       "      <td>CC(NC(C)(C)C)C(=O)c1cccc(Cl)c1</td>\n",
       "      <td>0.0</td>\n",
       "    </tr>\n",
       "  </tbody>\n",
       "</table>\n",
       "</div>"
      ],
      "text/plain": [
       "   Drug_ID                                          Drug    Y\n",
       "0    187.0                          CC(=O)OCC[N+](C)(C)C  0.0\n",
       "1    247.0                         C[N+](C)(C)CC(=O)[O-]  0.0\n",
       "2    298.0  O=C(NC(CO)C(O)c1ccc([N+](=O)[O-])cc1)C(Cl)Cl  0.0\n",
       "3    338.0                               O=C(O)c1ccccc1O  0.0\n",
       "4    444.0                CC(NC(C)(C)C)C(=O)c1cccc(Cl)c1  0.0"
      ]
     },
     "execution_count": 8,
     "metadata": {},
     "output_type": "execute_result"
    }
   ],
   "source": [
    "df.head()"
   ]
  },
  {
   "cell_type": "markdown",
   "id": "95158ac1-05d7-4a21-b8e4-7f720306d331",
   "metadata": {},
   "source": [
    "## Add column = field names\n",
    "Clean column names (`fields_clean`) and keep original names (`fields_orig`)"
   ]
  },
  {
   "cell_type": "code",
   "execution_count": 9,
   "id": "ec2458e5-455f-4f03-8ce9-c0d12e9ed371",
   "metadata": {
    "tags": []
   },
   "outputs": [
    {
     "data": {
      "text/plain": [
       "['Drug_ID', 'Drug', 'Y']"
      ]
     },
     "execution_count": 9,
     "metadata": {},
     "output_type": "execute_result"
    }
   ],
   "source": [
    "fields_orig = df.columns.tolist()\n",
    "fields_orig"
   ]
  },
  {
   "cell_type": "code",
   "execution_count": 10,
   "id": "08197f62",
   "metadata": {},
   "outputs": [],
   "source": [
    "assert fields_orig == ['Drug_ID', 'Drug', 'Y']"
   ]
  },
  {
   "cell_type": "code",
   "execution_count": 11,
   "id": "a46dd8ff-37b3-4894-8226-3bf98226dd09",
   "metadata": {
    "tags": []
   },
   "outputs": [],
   "source": [
    "fields_clean = [\n",
    "    \"compound_id\",\n",
    "    \"SMILES\",\n",
    "    \"liver_injury\",\n",
    "]"
   ]
  },
  {
   "cell_type": "code",
   "execution_count": 12,
   "id": "785d37cb-1fb4-4a91-a923-d5a78a37f36a",
   "metadata": {
    "tags": []
   },
   "outputs": [],
   "source": [
    "df.columns = fields_clean"
   ]
  },
  {
   "cell_type": "code",
   "execution_count": 13,
   "id": "8b4cde30",
   "metadata": {},
   "outputs": [],
   "source": [
    "assert fields_orig != fields_clean"
   ]
  },
  {
   "cell_type": "code",
   "execution_count": 14,
   "id": "1bf212cb-1653-457b-9f5d-416d4dd14b53",
   "metadata": {
    "tags": []
   },
   "outputs": [
    {
     "data": {
      "text/html": [
       "<div>\n",
       "<style scoped>\n",
       "    .dataframe tbody tr th:only-of-type {\n",
       "        vertical-align: middle;\n",
       "    }\n",
       "\n",
       "    .dataframe tbody tr th {\n",
       "        vertical-align: top;\n",
       "    }\n",
       "\n",
       "    .dataframe thead th {\n",
       "        text-align: right;\n",
       "    }\n",
       "</style>\n",
       "<table border=\"1\" class=\"dataframe\">\n",
       "  <thead>\n",
       "    <tr style=\"text-align: right;\">\n",
       "      <th></th>\n",
       "      <th>compound_id</th>\n",
       "      <th>SMILES</th>\n",
       "      <th>liver_injury</th>\n",
       "    </tr>\n",
       "  </thead>\n",
       "  <tbody>\n",
       "    <tr>\n",
       "      <th>0</th>\n",
       "      <td>187.0</td>\n",
       "      <td>CC(=O)OCC[N+](C)(C)C</td>\n",
       "      <td>0.0</td>\n",
       "    </tr>\n",
       "    <tr>\n",
       "      <th>1</th>\n",
       "      <td>247.0</td>\n",
       "      <td>C[N+](C)(C)CC(=O)[O-]</td>\n",
       "      <td>0.0</td>\n",
       "    </tr>\n",
       "    <tr>\n",
       "      <th>2</th>\n",
       "      <td>298.0</td>\n",
       "      <td>O=C(NC(CO)C(O)c1ccc([N+](=O)[O-])cc1)C(Cl)Cl</td>\n",
       "      <td>0.0</td>\n",
       "    </tr>\n",
       "    <tr>\n",
       "      <th>3</th>\n",
       "      <td>338.0</td>\n",
       "      <td>O=C(O)c1ccccc1O</td>\n",
       "      <td>0.0</td>\n",
       "    </tr>\n",
       "    <tr>\n",
       "      <th>4</th>\n",
       "      <td>444.0</td>\n",
       "      <td>CC(NC(C)(C)C)C(=O)c1cccc(Cl)c1</td>\n",
       "      <td>0.0</td>\n",
       "    </tr>\n",
       "  </tbody>\n",
       "</table>\n",
       "</div>"
      ],
      "text/plain": [
       "   compound_id                                        SMILES  liver_injury\n",
       "0        187.0                          CC(=O)OCC[N+](C)(C)C           0.0\n",
       "1        247.0                         C[N+](C)(C)CC(=O)[O-]           0.0\n",
       "2        298.0  O=C(NC(CO)C(O)c1ccc([N+](=O)[O-])cc1)C(Cl)Cl           0.0\n",
       "3        338.0                               O=C(O)c1ccccc1O           0.0\n",
       "4        444.0                CC(NC(C)(C)C)C(=O)c1cccc(Cl)c1           0.0"
      ]
     },
     "execution_count": 14,
     "metadata": {},
     "output_type": "execute_result"
    }
   ],
   "source": [
    "df.head()"
   ]
  },
  {
   "cell_type": "code",
   "execution_count": 15,
   "id": "d544fa60-343e-40e1-bd0c-4750f07a7145",
   "metadata": {
    "tags": []
   },
   "outputs": [],
   "source": [
    "assert not df.duplicated().sum()"
   ]
  },
  {
   "cell_type": "markdown",
   "id": "bc6f52c1-e0f6-48b3-95f4-e36d9a5ecde8",
   "metadata": {},
   "source": [
    "## Save to csv"
   ]
  },
  {
   "cell_type": "code",
   "execution_count": 16,
   "id": "d6d5efa5-b4b4-4a25-8626-e10f3d691e83",
   "metadata": {
    "tags": []
   },
   "outputs": [],
   "source": [
    "fn_data_csv = \"data_clean.csv\""
   ]
  },
  {
   "cell_type": "code",
   "execution_count": 17,
   "id": "727f8d7b-cbb6-43c7-9eab-9d4d65be6b3f",
   "metadata": {
    "tags": []
   },
   "outputs": [],
   "source": [
    "df.to_csv(fn_data_csv, index=False)"
   ]
  },
  {
   "cell_type": "code",
   "execution_count": 18,
   "id": "63c8d4a4-906e-418d-be39-879365b4dfa0",
   "metadata": {
    "tags": []
   },
   "outputs": [
    {
     "name": "stdout",
     "output_type": "stream",
     "text": [
      "-rw-rw-r-- 1 melo melo 26K مار  2 16:53 data_clean.csv\r\n"
     ]
    }
   ],
   "source": [
    "!ls -lh {fn_data_csv}"
   ]
  },
  {
   "cell_type": "code",
   "execution_count": 19,
   "id": "a51b9001-25d7-4e0e-a607-477cfc4a9f1c",
   "metadata": {
    "tags": []
   },
   "outputs": [
    {
     "name": "stdout",
     "output_type": "stream",
     "text": [
      "compound_id,SMILES,liver_injury\r\n",
      "187.0,CC(=O)OCC[N+](C)(C)C,0.0\r\n",
      "247.0,C[N+](C)(C)CC(=O)[O-],0.0\r\n",
      "298.0,O=C(NC(CO)C(O)c1ccc([N+](=O)[O-])cc1)C(Cl)Cl,0.0\r\n",
      "338.0,O=C(O)c1ccccc1O,0.0\r\n"
     ]
    }
   ],
   "source": [
    "!head -n 5 {fn_data_csv}"
   ]
  },
  {
   "cell_type": "code",
   "execution_count": 20,
   "id": "1a512943-4909-4d56-867d-50c151d8d607",
   "metadata": {
    "tags": []
   },
   "outputs": [
    {
     "data": {
      "text/html": [
       "<div>\n",
       "<style scoped>\n",
       "    .dataframe tbody tr th:only-of-type {\n",
       "        vertical-align: middle;\n",
       "    }\n",
       "\n",
       "    .dataframe tbody tr th {\n",
       "        vertical-align: top;\n",
       "    }\n",
       "\n",
       "    .dataframe thead th {\n",
       "        text-align: right;\n",
       "    }\n",
       "</style>\n",
       "<table border=\"1\" class=\"dataframe\">\n",
       "  <thead>\n",
       "    <tr style=\"text-align: right;\">\n",
       "      <th></th>\n",
       "      <th>compound_id</th>\n",
       "      <th>SMILES</th>\n",
       "      <th>liver_injury</th>\n",
       "    </tr>\n",
       "  </thead>\n",
       "  <tbody>\n",
       "    <tr>\n",
       "      <th>0</th>\n",
       "      <td>187.0</td>\n",
       "      <td>CC(=O)OCC[N+](C)(C)C</td>\n",
       "      <td>0.0</td>\n",
       "    </tr>\n",
       "    <tr>\n",
       "      <th>1</th>\n",
       "      <td>247.0</td>\n",
       "      <td>C[N+](C)(C)CC(=O)[O-]</td>\n",
       "      <td>0.0</td>\n",
       "    </tr>\n",
       "    <tr>\n",
       "      <th>2</th>\n",
       "      <td>298.0</td>\n",
       "      <td>O=C(NC(CO)C(O)c1ccc([N+](=O)[O-])cc1)C(Cl)Cl</td>\n",
       "      <td>0.0</td>\n",
       "    </tr>\n",
       "    <tr>\n",
       "      <th>3</th>\n",
       "      <td>338.0</td>\n",
       "      <td>O=C(O)c1ccccc1O</td>\n",
       "      <td>0.0</td>\n",
       "    </tr>\n",
       "    <tr>\n",
       "      <th>4</th>\n",
       "      <td>444.0</td>\n",
       "      <td>CC(NC(C)(C)C)C(=O)c1cccc(Cl)c1</td>\n",
       "      <td>0.0</td>\n",
       "    </tr>\n",
       "  </tbody>\n",
       "</table>\n",
       "</div>"
      ],
      "text/plain": [
       "   compound_id                                        SMILES  liver_injury\n",
       "0        187.0                          CC(=O)OCC[N+](C)(C)C           0.0\n",
       "1        247.0                         C[N+](C)(C)CC(=O)[O-]           0.0\n",
       "2        298.0  O=C(NC(CO)C(O)c1ccc([N+](=O)[O-])cc1)C(Cl)Cl           0.0\n",
       "3        338.0                               O=C(O)c1ccccc1O           0.0\n",
       "4        444.0                CC(NC(C)(C)C)C(=O)c1cccc(Cl)c1           0.0"
      ]
     },
     "execution_count": 20,
     "metadata": {},
     "output_type": "execute_result"
    }
   ],
   "source": [
    "df.head()"
   ]
  },
  {
   "cell_type": "markdown",
   "id": "f3d730ce-fce0-49df-9eb8-b917e945fa9a",
   "metadata": {},
   "source": [
    "## Load from csv"
   ]
  },
  {
   "cell_type": "code",
   "execution_count": 21,
   "id": "077b0c5f-8772-4879-9317-3fa28799689b",
   "metadata": {
    "tags": []
   },
   "outputs": [],
   "source": [
    "fn_data_csv = \"data_clean.csv\""
   ]
  },
  {
   "cell_type": "code",
   "execution_count": 22,
   "id": "6eaef0e6-2115-4793-ac43-a196b25d47a0",
   "metadata": {
    "tags": []
   },
   "outputs": [],
   "source": [
    "df = pd.read_csv(fn_data_csv)"
   ]
  },
  {
   "cell_type": "code",
   "execution_count": 23,
   "id": "43619e7c-9c82-4ff0-ae25-403861304635",
   "metadata": {
    "tags": []
   },
   "outputs": [
    {
     "data": {
      "text/html": [
       "<div>\n",
       "<style scoped>\n",
       "    .dataframe tbody tr th:only-of-type {\n",
       "        vertical-align: middle;\n",
       "    }\n",
       "\n",
       "    .dataframe tbody tr th {\n",
       "        vertical-align: top;\n",
       "    }\n",
       "\n",
       "    .dataframe thead th {\n",
       "        text-align: right;\n",
       "    }\n",
       "</style>\n",
       "<table border=\"1\" class=\"dataframe\">\n",
       "  <thead>\n",
       "    <tr style=\"text-align: right;\">\n",
       "      <th></th>\n",
       "      <th>compound_id</th>\n",
       "      <th>SMILES</th>\n",
       "      <th>liver_injury</th>\n",
       "    </tr>\n",
       "  </thead>\n",
       "  <tbody>\n",
       "    <tr>\n",
       "      <th>0</th>\n",
       "      <td>187.0</td>\n",
       "      <td>CC(=O)OCC[N+](C)(C)C</td>\n",
       "      <td>0.0</td>\n",
       "    </tr>\n",
       "    <tr>\n",
       "      <th>1</th>\n",
       "      <td>247.0</td>\n",
       "      <td>C[N+](C)(C)CC(=O)[O-]</td>\n",
       "      <td>0.0</td>\n",
       "    </tr>\n",
       "    <tr>\n",
       "      <th>2</th>\n",
       "      <td>298.0</td>\n",
       "      <td>O=C(NC(CO)C(O)c1ccc([N+](=O)[O-])cc1)C(Cl)Cl</td>\n",
       "      <td>0.0</td>\n",
       "    </tr>\n",
       "    <tr>\n",
       "      <th>3</th>\n",
       "      <td>338.0</td>\n",
       "      <td>O=C(O)c1ccccc1O</td>\n",
       "      <td>0.0</td>\n",
       "    </tr>\n",
       "    <tr>\n",
       "      <th>4</th>\n",
       "      <td>444.0</td>\n",
       "      <td>CC(NC(C)(C)C)C(=O)c1cccc(Cl)c1</td>\n",
       "      <td>0.0</td>\n",
       "    </tr>\n",
       "  </tbody>\n",
       "</table>\n",
       "</div>"
      ],
      "text/plain": [
       "   compound_id                                        SMILES  liver_injury\n",
       "0        187.0                          CC(=O)OCC[N+](C)(C)C           0.0\n",
       "1        247.0                         C[N+](C)(C)CC(=O)[O-]           0.0\n",
       "2        298.0  O=C(NC(CO)C(O)c1ccc([N+](=O)[O-])cc1)C(Cl)Cl           0.0\n",
       "3        338.0                               O=C(O)c1ccccc1O           0.0\n",
       "4        444.0                CC(NC(C)(C)C)C(=O)c1cccc(Cl)c1           0.0"
      ]
     },
     "execution_count": 23,
     "metadata": {},
     "output_type": "execute_result"
    }
   ],
   "source": [
    "df.head()"
   ]
  },
  {
   "cell_type": "markdown",
   "id": "2f06e57c-02c5-493b-af65-c8bb9ac59421",
   "metadata": {},
   "source": [
    "# meta YAML"
   ]
  },
  {
   "cell_type": "code",
   "execution_count": 24,
   "id": "49771077-471d-4d71-a9a7-d6b094bbc4f3",
   "metadata": {
    "tags": []
   },
   "outputs": [
    {
     "data": {
      "text/html": [
       "<div>\n",
       "<style scoped>\n",
       "    .dataframe tbody tr th:only-of-type {\n",
       "        vertical-align: middle;\n",
       "    }\n",
       "\n",
       "    .dataframe tbody tr th {\n",
       "        vertical-align: top;\n",
       "    }\n",
       "\n",
       "    .dataframe thead th {\n",
       "        text-align: right;\n",
       "    }\n",
       "</style>\n",
       "<table border=\"1\" class=\"dataframe\">\n",
       "  <thead>\n",
       "    <tr style=\"text-align: right;\">\n",
       "      <th></th>\n",
       "      <th>compound_id</th>\n",
       "      <th>SMILES</th>\n",
       "      <th>liver_injury</th>\n",
       "    </tr>\n",
       "  </thead>\n",
       "  <tbody>\n",
       "    <tr>\n",
       "      <th>0</th>\n",
       "      <td>187.0</td>\n",
       "      <td>CC(=O)OCC[N+](C)(C)C</td>\n",
       "      <td>0.0</td>\n",
       "    </tr>\n",
       "    <tr>\n",
       "      <th>1</th>\n",
       "      <td>247.0</td>\n",
       "      <td>C[N+](C)(C)CC(=O)[O-]</td>\n",
       "      <td>0.0</td>\n",
       "    </tr>\n",
       "    <tr>\n",
       "      <th>2</th>\n",
       "      <td>298.0</td>\n",
       "      <td>O=C(NC(CO)C(O)c1ccc([N+](=O)[O-])cc1)C(Cl)Cl</td>\n",
       "      <td>0.0</td>\n",
       "    </tr>\n",
       "    <tr>\n",
       "      <th>3</th>\n",
       "      <td>338.0</td>\n",
       "      <td>O=C(O)c1ccccc1O</td>\n",
       "      <td>0.0</td>\n",
       "    </tr>\n",
       "    <tr>\n",
       "      <th>4</th>\n",
       "      <td>444.0</td>\n",
       "      <td>CC(NC(C)(C)C)C(=O)c1cccc(Cl)c1</td>\n",
       "      <td>0.0</td>\n",
       "    </tr>\n",
       "  </tbody>\n",
       "</table>\n",
       "</div>"
      ],
      "text/plain": [
       "   compound_id                                        SMILES  liver_injury\n",
       "0        187.0                          CC(=O)OCC[N+](C)(C)C           0.0\n",
       "1        247.0                         C[N+](C)(C)CC(=O)[O-]           0.0\n",
       "2        298.0  O=C(NC(CO)C(O)c1ccc([N+](=O)[O-])cc1)C(Cl)Cl           0.0\n",
       "3        338.0                               O=C(O)c1ccccc1O           0.0\n",
       "4        444.0                CC(NC(C)(C)C)C(=O)c1cccc(Cl)c1           0.0"
      ]
     },
     "execution_count": 24,
     "metadata": {},
     "output_type": "execute_result"
    }
   ],
   "source": [
    "df.head()"
   ]
  },
  {
   "cell_type": "code",
   "execution_count": 25,
   "id": "d3890961-444e-4a26-b8fc-ed8c4e959af9",
   "metadata": {
    "tags": []
   },
   "outputs": [],
   "source": [
    "meta = {\n",
    "    \"name\": \"Drug_Induced_Liver_Injury\",  # unique identifier, we will also use this for directory names\n",
    "    \"description\": \"\"\"Drug-induced liver injury (DILI) is fatal liver disease caused by drugs and it has been the single most frequent cause of safety-related drug marketing withdrawals for the past 50 years (e.g. iproniazid, ticrynafen, benoxaprofen). This dataset is aggregated from U.S. FDA’s National Center for Toxicological Research.\"\"\",\n",
    "    \"targets\": [\n",
    "        {\n",
    "            \"id\": \"mutagenic\",  # name of the column in a tabular dataset\n",
    "            \"description\": \"whether it can cause liver injury (1) or not (0).\",  # description of what this column means\n",
    "            \"units\": \"liver_injury\",  # units of the values in this column (leave empty if unitless)\n",
    "            \"type\": \"categorical\",  # can be \"categorical\", \"ordinal\", \"continuous\"\n",
    "            \"names\": [  # names for the property (to sample from for building the prompts)\n",
    "                \"DILI\",\n",
    "                \"liver injury\",\n",
    "                \"Drug Induced Liver Injury\",\n",
    "                \"fatal liver disease caused by drugs\",\n",
    "                \"liver toxicity\"\n",
    "            ],\n",
    "        },\n",
    "    ],\n",
    "    \"identifiers\": [\n",
    "        {\n",
    "            \"id\": \"SMILES\",  # column name\n",
    "            \"type\": \"SMILES\",  # can be \"SMILES\", \"SELFIES\", \"IUPAC\", \"Other\"\n",
    "            \"description\": \"SMILES\",  # description (optional, except for \"Other\")\n",
    "        },\n",
    "    ],\n",
    "    \"license\": \"CC BY 4.0\",  # license under which the original dataset was published\n",
    "    \"links\": [  # list of relevant links (original dataset, other uses, etc.)\n",
    "        {\n",
    "            \"url\": \"https://doi.org/10.1021/acs.jcim.5b00238\",\n",
    "            \"description\": \"corresponding publication\",\n",
    "        },\n",
    "    ],\n",
    "    \"num_points\": len(df),  # number of datapoints in this dataset\n",
    "    \"url\": \"https://tdcommons.ai/single_pred_tasks/tox/#dili-drug-induced-liver-injury\",\n",
    "    \"bibtex\": [\n",
    "        \"\"\"@article{Xu2015,\n",
    "          doi = {10.1021/acs.jcim.5b00238},\n",
    "          url = {https://doi.org/10.1021/acs.jcim.5b00238},\n",
    "          year = {2015},\n",
    "          month = oct,\n",
    "          publisher = {American Chemical Society ({ACS})},\n",
    "          volume = {55},\n",
    "          number = {10},\n",
    "          pages = {2085--2093},\n",
    "          author = {Youjun Xu and Ziwei Dai and Fangjin Chen and Shuaishi Gao and Jianfeng Pei and Luhua Lai},\n",
    "          title = {Deep Learning for Drug-Induced Liver Injury},\n",
    "          journal = {Journal of Chemical Information and Modeling}}\"\"\",\n",
    "    ],\n",
    "}"
   ]
  },
  {
   "cell_type": "code",
   "execution_count": 26,
   "id": "ec455cf0-962a-4c0d-bb3e-066e415ffd9b",
   "metadata": {
    "tags": []
   },
   "outputs": [],
   "source": [
    "def str_presenter(dumper, data):\n",
    "    \"\"\"configures yaml for dumping multiline strings\n",
    "    Ref: https://stackoverflow.com/questions/8640959/how-can-i-control-what-scalar-form-pyyaml-uses-for-my-data\n",
    "    \"\"\"\n",
    "    if data.count(\"\\n\") > 0:  # check for multiline string\n",
    "        return dumper.represent_scalar(\"tag:yaml.org,2002:str\", data, style=\"|\")\n",
    "    return dumper.represent_scalar(\"tag:yaml.org,2002:str\", data)\n",
    "\n",
    "\n",
    "yaml.add_representer(str, str_presenter)\n",
    "yaml.representer.SafeRepresenter.add_representer(\n",
    "    str, str_presenter\n",
    ")  # to use with safe_dum"
   ]
  },
  {
   "cell_type": "code",
   "execution_count": 27,
   "id": "580bbd79-4845-4515-be94-3e4a9815d048",
   "metadata": {
    "tags": []
   },
   "outputs": [],
   "source": [
    "fn_meta = \"meta.yaml\""
   ]
  },
  {
   "cell_type": "code",
   "execution_count": 28,
   "id": "873fa5dd-9b60-40f5-b537-4d7a206414ea",
   "metadata": {
    "tags": []
   },
   "outputs": [],
   "source": [
    "with open(fn_meta, \"w\") as f:\n",
    "    yaml.dump(meta, f, sort_keys=False)"
   ]
  },
  {
   "cell_type": "code",
   "execution_count": 29,
   "id": "d01686c0-6746-4fc4-b019-350270dfc26f",
   "metadata": {
    "tags": []
   },
   "outputs": [
    {
     "name": "stdout",
     "output_type": "stream",
     "text": [
      "-rw-rw-r-- 1 melo melo 1.5K مار  2 16:53 meta.yaml\r\n"
     ]
    }
   ],
   "source": [
    "!ls -lh {fn_meta}"
   ]
  },
  {
   "cell_type": "code",
   "execution_count": 30,
   "id": "ef6063c5-7a8b-4344-bccf-a073443feebf",
   "metadata": {
    "tags": []
   },
   "outputs": [
    {
     "name": "stdout",
     "output_type": "stream",
     "text": [
      "name: Drug_Induced_Liver_Injury\r\n",
      "description: \"Drug-induced liver injury (DILI) is fatal liver disease caused by drugs\\\r\n",
      "  \\ and it has been the single most frequent cause of safety-related drug marketing\\\r\n",
      "  \\ withdrawals for the past 50 years (e.g. iproniazid, ticrynafen, benoxaprofen).\\\r\n",
      "  \\ This dataset is aggregated from U.S. FDA\\u2019s National Center for Toxicological\\\r\n",
      "  \\ Research.\"\r\n",
      "targets:\r\n",
      "- id: mutagenic\r\n",
      "  description: whether it can cause liver injury (1) or not (0).\r\n",
      "  units: liver_injury\r\n",
      "  type: categorical\r\n",
      "  names:\r\n",
      "  - DILI\r\n",
      "  - liver injury\r\n",
      "  - Drug Induced Liver Injury\r\n",
      "  - fatal liver disease caused by drugs\r\n",
      "  - liver toxicity\r\n",
      "identifiers:\r\n",
      "- id: SMILES\r\n",
      "  type: SMILES\r\n",
      "  description: SMILES\r\n",
      "license: CC BY 4.0\r\n",
      "links:\r\n",
      "- url: https://doi.org/10.1021/acs.jcim.5b00238\r\n",
      "  description: corresponding publication\r\n",
      "num_points: 475\r\n",
      "url: https://tdcommons.ai/single_pred_tasks/tox/#dili-drug-induced-liver-injury\r\n",
      "bibtex:\r\n",
      "- |-\r\n",
      "  @article{Xu2015,\r\n",
      "            doi = {10.1021/acs.jcim.5b00238},\r\n",
      "            url = {https://doi.org/10.1021/acs.jcim.5b00238},\r\n",
      "            year = {2015},\r\n",
      "            month = oct,\r\n",
      "            publisher = {American Chemical Society ({ACS})},\r\n",
      "            volume = {55},\r\n",
      "            number = {10},\r\n",
      "            pages = {2085--2093},\r\n",
      "            author = {Youjun Xu and Ziwei Dai and Fangjin Chen and Shuaishi Gao and Jianfeng Pei and Luhua Lai},\r\n",
      "            title = {Deep Learning for Drug-Induced Liver Injury},\r\n",
      "            journal = {Journal of Chemical Information and Modeling}}\r\n"
     ]
    }
   ],
   "source": [
    "!cat {fn_meta}"
   ]
  },
  {
   "cell_type": "markdown",
   "id": "bd3f930a-638b-4bb7-a1d2-80688f2f6891",
   "metadata": {},
   "source": [
    "# create transform.py"
   ]
  },
  {
   "cell_type": "code",
   "execution_count": 31,
   "id": "9aab00fd-58a8-40b0-be30-1e269e0d323b",
   "metadata": {
    "tags": []
   },
   "outputs": [],
   "source": [
    "path_file = \"transform.py\""
   ]
  },
  {
   "cell_type": "code",
   "execution_count": 32,
   "id": "8368bb20-8e1c-4b7d-b0e2-b39da36b5972",
   "metadata": {
    "tags": []
   },
   "outputs": [
    {
     "name": "stdout",
     "output_type": "stream",
     "text": [
      "Overwriting transform.py\n"
     ]
    }
   ],
   "source": [
    "%%writefile $path_file\n",
    "import pandas as pd\n",
    "import yaml\n",
    "from tdc.single_pred import Tox\n",
    "\n",
    "\n",
    "def get_and_transform_data():\n",
    "    # get raw data\n",
    "    data = Tox(name = 'DILI')\n",
    "    fn_data_original = \"data_original.csv\"\n",
    "    data.get_data().to_csv(fn_data_original, index=False)\n",
    "\n",
    "    # create dataframe\n",
    "    df = pd.read_csv(\n",
    "        fn_data_original,\n",
    "        delimiter=\",\",\n",
    "    )  # not necessary but ensure we can load the saved data\n",
    "\n",
    "    # check if fields are the same\n",
    "    fields_orig = df.columns.tolist()\n",
    "    assert fields_orig == [\n",
    "        \"Drug_ID\",\n",
    "        \"Drug\",\n",
    "        \"Y\",\n",
    "    ]\n",
    "\n",
    "    # overwrite column names = fields\n",
    "    fields_clean = [\n",
    "        \"compound_id\",\n",
    "        \"SMILES\",\n",
    "        \"liver_injury\",\n",
    "    ]\n",
    "    df.columns = fields_clean\n",
    "\n",
    "    # data cleaning\n",
    "#     df.compound_id = (\n",
    "#         df.compound_id.str.strip()\n",
    "#     )  # remove leading and trailing white space characters\n",
    "\n",
    "    assert not df.duplicated().sum()\n",
    "\n",
    "    # save to csv\n",
    "    fn_data_csv = \"data_clean.csv\"\n",
    "    df.to_csv(fn_data_csv, index=False)\n",
    "\n",
    "    # create meta yaml\n",
    "    meta =  {\n",
    "            \"name\": \"Drug_Induced_Liver_Injury\",  # unique identifier, we will also use this for directory names\n",
    "            \"description\": \"\"\"Drug-induced liver injury (DILI) is fatal liver disease caused by drugs and it has been the single most frequent cause of safety-related drug marketing withdrawals for the past 50 years (e.g. iproniazid, ticrynafen, benoxaprofen). This dataset is aggregated from U.S. FDA’s National Center for Toxicological Research.\"\"\",\n",
    "            \"targets\": [\n",
    "                {\n",
    "                    \"id\": \"mutagenic\",  # name of the column in a tabular dataset\n",
    "                    \"description\": \"whether it can cause liver injury (1) or not (0).\",  # description of what this column means\n",
    "                    \"units\": \"liver_injury\",  # units of the values in this column (leave empty if unitless)\n",
    "                    \"type\": \"categorical\",  # can be \"categorical\", \"ordinal\", \"continuous\"\n",
    "                    \"names\": [  # names for the property (to sample from for building the prompts)\n",
    "                        \"DILI\",\n",
    "                        \"liver injury\",\n",
    "                        \"Drug Induced Liver Injury\",\n",
    "                        \"fatal liver disease caused by drugs\",\n",
    "                        \"liver toxicity\"\n",
    "                    ],\n",
    "                },\n",
    "            ],\n",
    "            \"identifiers\": [\n",
    "                {\n",
    "                    \"id\": \"SMILES\",  # column name\n",
    "                    \"type\": \"SMILES\",  # can be \"SMILES\", \"SELFIES\", \"IUPAC\", \"Other\"\n",
    "                    \"description\": \"SMILES\",  # description (optional, except for \"Other\")\n",
    "                },\n",
    "            ],\n",
    "            \"license\": \"CC BY 4.0\",  # license under which the original dataset was published\n",
    "            \"links\": [  # list of relevant links (original dataset, other uses, etc.)\n",
    "                {\n",
    "                    \"url\": \"https://doi.org/10.1021/acs.jcim.5b00238\",\n",
    "                    \"description\": \"corresponding publication\",\n",
    "                },\n",
    "            ],\n",
    "            \"num_points\": len(df),  # number of datapoints in this dataset\n",
    "            \"url\": \"https://tdcommons.ai/single_pred_tasks/tox/#dili-drug-induced-liver-injury\",\n",
    "            \"bibtex\": [\n",
    "                \"\"\"@article{Xu2015,\n",
    "                  doi = {10.1021/acs.jcim.5b00238},\n",
    "                  url = {https://doi.org/10.1021/acs.jcim.5b00238},\n",
    "                  year = {2015},\n",
    "                  month = oct,\n",
    "                  publisher = {American Chemical Society ({ACS})},\n",
    "                  volume = {55},\n",
    "                  number = {10},\n",
    "                  pages = {2085--2093},\n",
    "                  author = {Youjun Xu and Ziwei Dai and Fangjin Chen and Shuaishi Gao and Jianfeng Pei and Luhua Lai},\n",
    "                  title = {Deep Learning for Drug-Induced Liver Injury},\n",
    "                  journal = {Journal of Chemical Information and Modeling}}\"\"\",\n",
    "            ],\n",
    "        }\n",
    "\n",
    "    def str_presenter(dumper, data):\n",
    "        \"\"\"configures yaml for dumping multiline strings\n",
    "        Ref: https://stackoverflow.com/questions/8640959/how-can-i-control-what-scalar-form-pyyaml-uses-for-my-data\n",
    "        \"\"\"\n",
    "        if data.count(\"\\n\") > 0:  # check for multiline string\n",
    "            return dumper.represent_scalar(\"tag:yaml.org,2002:str\", data, style=\"|\")\n",
    "        return dumper.represent_scalar(\"tag:yaml.org,2002:str\", data)\n",
    "\n",
    "    yaml.add_representer(str, str_presenter)\n",
    "    yaml.representer.SafeRepresenter.add_representer(\n",
    "        str, str_presenter\n",
    "    )  # to use with safe_dum\n",
    "    fn_meta = \"meta.yaml\"\n",
    "    with open(fn_meta, \"w\") as f:\n",
    "        yaml.dump(meta, f, sort_keys=False)\n",
    "\n",
    "    print(f\"Finished processing {meta['name']} dataset!\")\n",
    "\n",
    "\n",
    "if __name__ == \"__main__\":\n",
    "    get_and_transform_data()"
   ]
  },
  {
   "cell_type": "code",
   "execution_count": 33,
   "id": "d0474f26-70f3-4655-b81a-df4ada90e7a6",
   "metadata": {
    "tags": []
   },
   "outputs": [
    {
     "name": "stdout",
     "output_type": "stream",
     "text": [
      "Found local copy...\r\n",
      "Loading...\r\n",
      "Done!\r\n",
      "Finished processing Drug_Induced_Liver_Injury dataset!\r\n"
     ]
    }
   ],
   "source": [
    "!python3 transform.py"
   ]
  },
  {
   "cell_type": "code",
   "execution_count": 34,
   "id": "953e7bee-bd5e-41d0-a2be-506e0bc97727",
   "metadata": {
    "tags": []
   },
   "outputs": [
    {
     "name": "stdout",
     "output_type": "stream",
     "text": [
      "total 112K\r\n",
      "drwxrwxr-x 2 melo melo 4.0K مار  2 16:53 \u001b[0m\u001b[01;34mdata\u001b[0m/\r\n",
      "-rw-rw-r-- 1 melo melo  26K مار  2 16:53 data_clean.csv\r\n",
      "-rw-rw-r-- 1 melo melo  26K مار  2 16:53 data_original.csv\r\n",
      "-rw-rw-r-- 1 melo melo  37K مار  2 16:53 example_processing_and_templates.ipynb\r\n",
      "-rw-rw-r-- 1 melo melo 1.6K مار  2 16:53 meta.yaml\r\n",
      "-rw-rw-r-- 1 melo melo 4.7K مار  2 16:53 transform.py\r\n"
     ]
    }
   ],
   "source": [
    "ls -lh  # fmt: skip"
   ]
  },
  {
   "cell_type": "markdown",
   "id": "0b08ed06-ba66-4f76-bde1-368ea77d1739",
   "metadata": {},
   "source": [
    "# End"
   ]
  }
 ],
 "metadata": {
  "kernelspec": {
   "display_name": "Python 3 (ipykernel)",
   "language": "python",
   "name": "python3"
  },
  "language_info": {
   "codemirror_mode": {
    "name": "ipython",
    "version": 3
   },
   "file_extension": ".py",
   "mimetype": "text/x-python",
   "name": "python",
   "nbconvert_exporter": "python",
   "pygments_lexer": "ipython3",
   "version": "3.9.13"
  }
 },
 "nbformat": 4,
 "nbformat_minor": 5
}
